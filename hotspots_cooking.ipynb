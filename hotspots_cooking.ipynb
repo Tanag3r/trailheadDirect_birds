{
 "cells": [
  {
   "cell_type": "code",
   "execution_count": 1,
   "metadata": {},
   "outputs": [],
   "source": [
    "import sys\n",
    "import os\n",
    "import pandas as pd\n",
    "import numpy as np\n",
    "import datetime as dt\n",
    "import json\n",
    "import requests\n",
    "import base64\n",
    "import sqlite3 as db\n",
    "sys.path.append('../')\n",
    "\n",
    "pd.options.display.max_rows = 99"
   ]
  },
  {
   "cell_type": "code",
   "execution_count": 2,
   "metadata": {},
   "outputs": [],
   "source": [
    "github_userName = 'Tanag3r'\n",
    "ebird_token = 'j6c7l80ga2ib'\n"
   ]
  },
  {
   "cell_type": "code",
   "execution_count": 13,
   "metadata": {},
   "outputs": [],
   "source": [
    "##connect to database\n",
    "def connectDB():\n",
    "    try:\n",
    "        cnx = db.connect('trailheadDirectBirds_sous.db')\n",
    "    except db.Error as cnxError:\n",
    "        raise UserWarning('Unable to connect to database due to: {cnxError}')\n",
    "    return cnx"
   ]
  },
  {
   "cell_type": "code",
   "execution_count": 12,
   "metadata": {},
   "outputs": [],
   "source": [
    "cnx = connectDB()\n",
    "cur = cnx.cursor()"
   ]
  },
  {
   "cell_type": "code",
   "execution_count": 3,
   "metadata": {},
   "outputs": [],
   "source": [
    "def foo(x):\n",
    "    return x + 1"
   ]
  },
  {
   "cell_type": "code",
   "execution_count": 8,
   "metadata": {},
   "outputs": [],
   "source": [
    "def getTrailheadRef():\n",
    "    TrailheadRef = pd.DataFrame()\n",
    "    try:\n",
    "        trailheadRef = pd.read_sql('select * from trailheadRef;',con=cnx)\n",
    "        trailheadRef.set_index('index',inplace=True)\n",
    "        trailheadRef.convert_dtypes()\n",
    "    except db.DatabaseError as dbError:\n",
    "        print(dbError)\n",
    "    return trailheadRef"
   ]
  },
  {
   "cell_type": "code",
   "execution_count": 10,
   "metadata": {},
   "outputs": [],
   "source": [
    "trailheadRef = getTrailheadRef()"
   ]
  },
  {
   "cell_type": "code",
   "execution_count": 29,
   "metadata": {},
   "outputs": [],
   "source": [
    "def clean_trailheadRef(Latitude: float,Longitude: float, Address: str):\n",
    "    trailheads = getTrailheadRef()\n",
    "    ##  For the sake of demonstration please assume the data in the 'trailheadRef' comes from a King County Metro service\n",
    "    ##  and/or is user-provided so some cleaning is required\n",
    "\n",
    "    ##set types for error checking, other cleaning\n",
    "    trailheads.Latitude = trailheads['Latitude'].fillna(0.00).astype('float64',errors='ignore')\n",
    "    trailheads.Longitude = trailheads['Longitude'].fillna(0.00).astype('float64',errors='ignore')\n",
    "    trailheads.Address = trailheads['Address'].astype(str)\n",
    "\n",
    "    updateMask = trailheads.apply(lambda x: bool(x.Address.strip()) and (x.Latitude == 0.00) and (x.Longitude == 0.00),axis=1)\n",
    "    needsGeo = trailheads[updateMask].copy()\n",
    "    ##TODO: #25 fetch coordinates of trailheads in the update mask using Nominatim address service\n",
    "    return needsGeo\n",
    "\n",
    "def dropCases():\n",
    "    dropCase = clean_trailheadRef()\n",
    "    dropMask = dropCase.apply(lambda y: (y.Address == '') | (y.Address == 'None'),axis=1)\n",
    "    noGeo = [y for y in list(dropCase[dropMask].StopName) if y!='']\n",
    "    if noGeo:\n",
    "        raise Exception('unable to fetch coordinates for {\",\".join(noGeo)}')\n",
    "    return dropCase[~dropMask]\n",
    "    ##if there is no address or coordinates, drop the line"
   ]
  },
  {
   "cell_type": "code",
   "execution_count": 30,
   "metadata": {},
   "outputs": [],
   "source": [
    "##it's working?\n",
    "geoGeo = clean_trailheadRef(trailheadRef.Latitude,trailheadRef.Longitude,trailheadRef.Address)"
   ]
  }
 ],
 "metadata": {
  "interpreter": {
   "hash": "ce2b8b10e8082f390f0f7c9c12f304c9df3ed4554edd4b21c0fcee2d9ef65582"
  },
  "kernelspec": {
   "display_name": "Python 3.9.7 ('base')",
   "language": "python",
   "name": "python3"
  },
  "language_info": {
   "codemirror_mode": {
    "name": "ipython",
    "version": 3
   },
   "file_extension": ".py",
   "mimetype": "text/x-python",
   "name": "python",
   "nbconvert_exporter": "python",
   "pygments_lexer": "ipython3",
   "version": "3.9.7"
  },
  "orig_nbformat": 4
 },
 "nbformat": 4,
 "nbformat_minor": 2
}
