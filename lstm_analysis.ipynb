{
 "cells": [
  {
   "cell_type": "code",
   "execution_count": 158,
   "metadata": {},
   "outputs": [],
   "source": [
    "import pandas as pd\n",
    "import numpy as np\n",
    "from keras.models import Sequential\n",
    "from keras.layers import LSTM\n",
    "from keras.layers import Dense\n",
    "import sqlite3 as db\n",
    "import datetime as dt\n",
    "from sklearn.metrics import mean_squared_error"
   ]
  },
  {
   "cell_type": "code",
   "execution_count": 159,
   "metadata": {},
   "outputs": [],
   "source": [
    "github_userName = 'Tanag3r'\n",
    "ebird_token = 'j6c7l80ga2ib'\n",
    "db_name = 'trailheadDirectBirds_sous.db'"
   ]
  },
  {
   "cell_type": "code",
   "execution_count": 160,
   "metadata": {},
   "outputs": [],
   "source": [
    "##connect to database\n",
    "def connectDB():\n",
    "    try:\n",
    "        cnx = db.connect(db_name)\n",
    "    except Exception as cnxError:\n",
    "        raise UserWarning(f'Unable to connect to database due to: {cnxError}')\n",
    "    return cnx"
   ]
  },
  {
   "cell_type": "code",
   "execution_count": 161,
   "metadata": {},
   "outputs": [],
   "source": [
    "#baseline request from the application layer\n",
    "#outputs a list of birds at the stop and a classification based solely off the number of observations\n",
    "def birdList_request(StopName: str,cnx):\n",
    "    try:\n",
    "        query = f'SELECT speciesCode,count(subId) as \"checklists\",(SELECT count(subId) FROM historicObservations hxobx WHERE hxobx.speciesCode=hsob.speciesCode) as \"sightings\" FROM historicObservations hsob LEFT JOIN closestStop on hsob.locId=closestStop.locId WHERE StopName = \"{StopName}\" GROUP BY speciesCode;'\n",
    "        sightings = pd.read_sql(sql=query,con=cnx)\n",
    "    #rareness at the stop\n",
    "        sightings['stopGroup'] = int\n",
    "        bucket = sightings['checklists'].quantile([0,0.15,0.5,0.85,1])\n",
    "        sightings.loc[sightings['checklists'] <= bucket[0.15],'stopGroup'] = 1  #mythic\n",
    "        sightings.loc[(sightings['checklists'] > bucket[0.15]) & (sightings['checklists'] <= bucket[0.5]),'stopGroup'] = 2  #rare\n",
    "        sightings.loc[(sightings['checklists'] > bucket[0.5]) & (sightings['checklists'] < bucket[0.85]),'stopGroup'] = 3   #uncommon\n",
    "        sightings.loc[(sightings['checklists'] >= bucket[0.85]) & (sightings['checklists'] <=bucket[1]),'stopGroup'] = 4    #common\n",
    "    #overall rareness\n",
    "        sightings['overall'] = int\n",
    "        bucket = sightings['sightings'].quantile([0,0.15,0.5,0.85,1])\n",
    "        sightings.loc[sightings['sightings'] <= bucket[0.15],'overall'] = 1\n",
    "        sightings.loc[(sightings['sightings'] > bucket[0.15]) & (sightings['sightings'] <= bucket[0.5]),'overall'] = 2\n",
    "        sightings.loc[(sightings['sightings'] > bucket[0.5]) & (sightings['sightings'] < bucket[0.85]),'overall'] = 3\n",
    "        sightings.loc[(sightings['sightings'] >= bucket[0.85]) & (sightings['sightings'] <=bucket[1]),'overall'] = 4\n",
    "        sightings['StopName'] = StopName\n",
    "    #raise an exception if the stopName given is not valid and return a list of valid stop names\n",
    "    except Exception as ex:\n",
    "        raise ex\n",
    "    return sightings"
   ]
  },
  {
   "cell_type": "markdown",
   "metadata": {},
   "source": [
    "LSTM analysis of common birds"
   ]
  },
  {
   "cell_type": "code",
   "execution_count": 274,
   "metadata": {},
   "outputs": [],
   "source": [
    "commonCore = birdList_request(StopName='EastSunsetWay',cnx=connectDB())\n",
    "commonCore = commonCore[commonCore.apply(lambda x: (x['stopGroup']==4) and (x['overall']==4),axis=1)]"
   ]
  },
  {
   "cell_type": "code",
   "execution_count": 275,
   "metadata": {},
   "outputs": [
    {
     "data": {
      "text/html": [
       "<div>\n",
       "<style scoped>\n",
       "    .dataframe tbody tr th:only-of-type {\n",
       "        vertical-align: middle;\n",
       "    }\n",
       "\n",
       "    .dataframe tbody tr th {\n",
       "        vertical-align: top;\n",
       "    }\n",
       "\n",
       "    .dataframe thead th {\n",
       "        text-align: right;\n",
       "    }\n",
       "</style>\n",
       "<table border=\"1\" class=\"dataframe\">\n",
       "  <thead>\n",
       "    <tr style=\"text-align: right;\">\n",
       "      <th></th>\n",
       "      <th>speciesCode</th>\n",
       "      <th>checklists</th>\n",
       "      <th>sightings</th>\n",
       "      <th>stopGroup</th>\n",
       "      <th>overall</th>\n",
       "      <th>StopName</th>\n",
       "    </tr>\n",
       "  </thead>\n",
       "  <tbody>\n",
       "    <tr>\n",
       "      <th>0</th>\n",
       "      <td>amecro</td>\n",
       "      <td>91</td>\n",
       "      <td>293</td>\n",
       "      <td>4</td>\n",
       "      <td>4</td>\n",
       "      <td>EastSunsetWay</td>\n",
       "    </tr>\n",
       "    <tr>\n",
       "      <th>4</th>\n",
       "      <td>amerob</td>\n",
       "      <td>80</td>\n",
       "      <td>371</td>\n",
       "      <td>4</td>\n",
       "      <td>4</td>\n",
       "      <td>EastSunsetWay</td>\n",
       "    </tr>\n",
       "    <tr>\n",
       "      <th>5</th>\n",
       "      <td>annhum</td>\n",
       "      <td>40</td>\n",
       "      <td>245</td>\n",
       "      <td>4</td>\n",
       "      <td>4</td>\n",
       "      <td>EastSunsetWay</td>\n",
       "    </tr>\n",
       "    <tr>\n",
       "      <th>11</th>\n",
       "      <td>bkcchi</td>\n",
       "      <td>68</td>\n",
       "      <td>281</td>\n",
       "      <td>4</td>\n",
       "      <td>4</td>\n",
       "      <td>EastSunsetWay</td>\n",
       "    </tr>\n",
       "    <tr>\n",
       "      <th>25</th>\n",
       "      <td>chbchi</td>\n",
       "      <td>41</td>\n",
       "      <td>237</td>\n",
       "      <td>4</td>\n",
       "      <td>4</td>\n",
       "      <td>EastSunsetWay</td>\n",
       "    </tr>\n",
       "    <tr>\n",
       "      <th>29</th>\n",
       "      <td>daejun</td>\n",
       "      <td>95</td>\n",
       "      <td>419</td>\n",
       "      <td>4</td>\n",
       "      <td>4</td>\n",
       "      <td>EastSunsetWay</td>\n",
       "    </tr>\n",
       "    <tr>\n",
       "      <th>38</th>\n",
       "      <td>gockin</td>\n",
       "      <td>36</td>\n",
       "      <td>179</td>\n",
       "      <td>4</td>\n",
       "      <td>4</td>\n",
       "      <td>EastSunsetWay</td>\n",
       "    </tr>\n",
       "    <tr>\n",
       "      <th>56</th>\n",
       "      <td>mallar3</td>\n",
       "      <td>91</td>\n",
       "      <td>253</td>\n",
       "      <td>4</td>\n",
       "      <td>4</td>\n",
       "      <td>EastSunsetWay</td>\n",
       "    </tr>\n",
       "    <tr>\n",
       "      <th>59</th>\n",
       "      <td>norfli</td>\n",
       "      <td>26</td>\n",
       "      <td>201</td>\n",
       "      <td>4</td>\n",
       "      <td>4</td>\n",
       "      <td>EastSunsetWay</td>\n",
       "    </tr>\n",
       "    <tr>\n",
       "      <th>66</th>\n",
       "      <td>pacwre1</td>\n",
       "      <td>42</td>\n",
       "      <td>203</td>\n",
       "      <td>4</td>\n",
       "      <td>4</td>\n",
       "      <td>EastSunsetWay</td>\n",
       "    </tr>\n",
       "    <tr>\n",
       "      <th>84</th>\n",
       "      <td>sonspa</td>\n",
       "      <td>84</td>\n",
       "      <td>323</td>\n",
       "      <td>4</td>\n",
       "      <td>4</td>\n",
       "      <td>EastSunsetWay</td>\n",
       "    </tr>\n",
       "    <tr>\n",
       "      <th>85</th>\n",
       "      <td>spotow</td>\n",
       "      <td>48</td>\n",
       "      <td>285</td>\n",
       "      <td>4</td>\n",
       "      <td>4</td>\n",
       "      <td>EastSunsetWay</td>\n",
       "    </tr>\n",
       "    <tr>\n",
       "      <th>86</th>\n",
       "      <td>stejay</td>\n",
       "      <td>33</td>\n",
       "      <td>203</td>\n",
       "      <td>4</td>\n",
       "      <td>4</td>\n",
       "      <td>EastSunsetWay</td>\n",
       "    </tr>\n",
       "  </tbody>\n",
       "</table>\n",
       "</div>"
      ],
      "text/plain": [
       "   speciesCode  checklists  sightings stopGroup overall       StopName\n",
       "0       amecro          91        293         4       4  EastSunsetWay\n",
       "4       amerob          80        371         4       4  EastSunsetWay\n",
       "5       annhum          40        245         4       4  EastSunsetWay\n",
       "11      bkcchi          68        281         4       4  EastSunsetWay\n",
       "25      chbchi          41        237         4       4  EastSunsetWay\n",
       "29      daejun          95        419         4       4  EastSunsetWay\n",
       "38      gockin          36        179         4       4  EastSunsetWay\n",
       "56     mallar3          91        253         4       4  EastSunsetWay\n",
       "59      norfli          26        201         4       4  EastSunsetWay\n",
       "66     pacwre1          42        203         4       4  EastSunsetWay\n",
       "84      sonspa          84        323         4       4  EastSunsetWay\n",
       "85      spotow          48        285         4       4  EastSunsetWay\n",
       "86      stejay          33        203         4       4  EastSunsetWay"
      ]
     },
     "execution_count": 275,
     "metadata": {},
     "output_type": "execute_result"
    }
   ],
   "source": [
    "commonCore"
   ]
  },
  {
   "cell_type": "code",
   "execution_count": 322,
   "metadata": {},
   "outputs": [],
   "source": [
    "querySpecies = 'stejay'\n",
    "StopName = 'EastSunsetWay'\n",
    "query = f'SELECT speciesCode,FX.locId,StopName,obsDt,howMany FROM historicObservations AS FX LEFT JOIN closestStop on FX.locId = closestStop.locId WHERE (SELECT count(distinct(subId)) FROM historicObservations AS QA WHERE QA.comName = FX.comName) > 2 AND FX.speciesCode = \"{querySpecies}\" AND StopName = \"{StopName}\";'\n",
    "obsData = pd.read_sql(query,con=connectDB(),parse_dates=['obsDt'])\n",
    "obsData.set_index('obsDt',inplace=True)"
   ]
  },
  {
   "cell_type": "code",
   "execution_count": 323,
   "metadata": {},
   "outputs": [
    {
     "data": {
      "text/html": [
       "<div>\n",
       "<style scoped>\n",
       "    .dataframe tbody tr th:only-of-type {\n",
       "        vertical-align: middle;\n",
       "    }\n",
       "\n",
       "    .dataframe tbody tr th {\n",
       "        vertical-align: top;\n",
       "    }\n",
       "\n",
       "    .dataframe thead th {\n",
       "        text-align: right;\n",
       "    }\n",
       "</style>\n",
       "<table border=\"1\" class=\"dataframe\">\n",
       "  <thead>\n",
       "    <tr style=\"text-align: right;\">\n",
       "      <th></th>\n",
       "      <th>howMany</th>\n",
       "    </tr>\n",
       "    <tr>\n",
       "      <th>obsDt</th>\n",
       "      <th></th>\n",
       "    </tr>\n",
       "  </thead>\n",
       "  <tbody>\n",
       "    <tr>\n",
       "      <th>2019-03-28</th>\n",
       "      <td>2.0</td>\n",
       "    </tr>\n",
       "    <tr>\n",
       "      <th>2019-03-29</th>\n",
       "      <td>NaN</td>\n",
       "    </tr>\n",
       "    <tr>\n",
       "      <th>2019-03-30</th>\n",
       "      <td>NaN</td>\n",
       "    </tr>\n",
       "    <tr>\n",
       "      <th>2019-03-31</th>\n",
       "      <td>NaN</td>\n",
       "    </tr>\n",
       "    <tr>\n",
       "      <th>2019-04-01</th>\n",
       "      <td>NaN</td>\n",
       "    </tr>\n",
       "    <tr>\n",
       "      <th>...</th>\n",
       "      <td>...</td>\n",
       "    </tr>\n",
       "    <tr>\n",
       "      <th>2022-01-29</th>\n",
       "      <td>NaN</td>\n",
       "    </tr>\n",
       "    <tr>\n",
       "      <th>2022-01-30</th>\n",
       "      <td>NaN</td>\n",
       "    </tr>\n",
       "    <tr>\n",
       "      <th>2022-01-31</th>\n",
       "      <td>NaN</td>\n",
       "    </tr>\n",
       "    <tr>\n",
       "      <th>2022-02-01</th>\n",
       "      <td>NaN</td>\n",
       "    </tr>\n",
       "    <tr>\n",
       "      <th>2022-02-02</th>\n",
       "      <td>1.0</td>\n",
       "    </tr>\n",
       "  </tbody>\n",
       "</table>\n",
       "<p>1043 rows × 1 columns</p>\n",
       "</div>"
      ],
      "text/plain": [
       "            howMany\n",
       "obsDt              \n",
       "2019-03-28      2.0\n",
       "2019-03-29      NaN\n",
       "2019-03-30      NaN\n",
       "2019-03-31      NaN\n",
       "2019-04-01      NaN\n",
       "...             ...\n",
       "2022-01-29      NaN\n",
       "2022-01-30      NaN\n",
       "2022-01-31      NaN\n",
       "2022-02-01      NaN\n",
       "2022-02-02      1.0\n",
       "\n",
       "[1043 rows x 1 columns]"
      ]
     },
     "execution_count": 323,
     "metadata": {},
     "output_type": "execute_result"
    }
   ],
   "source": [
    "obsDataDaily = obsData.resample('d')\n",
    "dailyData = obsDataDaily.mean()\n",
    "dailyData"
   ]
  },
  {
   "cell_type": "code",
   "execution_count": 165,
   "metadata": {},
   "outputs": [],
   "source": [
    "##TODO update to bidirectional model\n",
    "##TODO update LSTM from days of the week to weeks of the year\n",
    "##TODO build realtime prediction function using LSTM model"
   ]
  },
  {
   "cell_type": "code",
   "execution_count": 324,
   "metadata": {},
   "outputs": [
    {
     "data": {
      "text/html": [
       "<div>\n",
       "<style scoped>\n",
       "    .dataframe tbody tr th:only-of-type {\n",
       "        vertical-align: middle;\n",
       "    }\n",
       "\n",
       "    .dataframe tbody tr th {\n",
       "        vertical-align: top;\n",
       "    }\n",
       "\n",
       "    .dataframe thead th {\n",
       "        text-align: right;\n",
       "    }\n",
       "</style>\n",
       "<table border=\"1\" class=\"dataframe\">\n",
       "  <thead>\n",
       "    <tr style=\"text-align: right;\">\n",
       "      <th></th>\n",
       "      <th>howMany</th>\n",
       "      <th>mask</th>\n",
       "    </tr>\n",
       "    <tr>\n",
       "      <th>obsDt</th>\n",
       "      <th></th>\n",
       "      <th></th>\n",
       "    </tr>\n",
       "  </thead>\n",
       "  <tbody>\n",
       "    <tr>\n",
       "      <th>2019-03-28</th>\n",
       "      <td>2.0</td>\n",
       "      <td>2.000000</td>\n",
       "    </tr>\n",
       "    <tr>\n",
       "      <th>2019-03-29</th>\n",
       "      <td>NaN</td>\n",
       "      <td>2.000000</td>\n",
       "    </tr>\n",
       "    <tr>\n",
       "      <th>2019-03-30</th>\n",
       "      <td>NaN</td>\n",
       "      <td>2.000000</td>\n",
       "    </tr>\n",
       "    <tr>\n",
       "      <th>2019-03-31</th>\n",
       "      <td>NaN</td>\n",
       "      <td>2.000000</td>\n",
       "    </tr>\n",
       "    <tr>\n",
       "      <th>2019-04-01</th>\n",
       "      <td>NaN</td>\n",
       "      <td>2.000000</td>\n",
       "    </tr>\n",
       "    <tr>\n",
       "      <th>...</th>\n",
       "      <td>...</td>\n",
       "      <td>...</td>\n",
       "    </tr>\n",
       "    <tr>\n",
       "      <th>2022-01-29</th>\n",
       "      <td>NaN</td>\n",
       "      <td>1.333333</td>\n",
       "    </tr>\n",
       "    <tr>\n",
       "      <th>2022-01-30</th>\n",
       "      <td>NaN</td>\n",
       "      <td>1.333333</td>\n",
       "    </tr>\n",
       "    <tr>\n",
       "      <th>2022-01-31</th>\n",
       "      <td>NaN</td>\n",
       "      <td>1.333333</td>\n",
       "    </tr>\n",
       "    <tr>\n",
       "      <th>2022-02-01</th>\n",
       "      <td>NaN</td>\n",
       "      <td>1.333333</td>\n",
       "    </tr>\n",
       "    <tr>\n",
       "      <th>2022-02-02</th>\n",
       "      <td>1.0</td>\n",
       "      <td>1.000000</td>\n",
       "    </tr>\n",
       "  </tbody>\n",
       "</table>\n",
       "<p>1043 rows × 2 columns</p>\n",
       "</div>"
      ],
      "text/plain": [
       "            howMany      mask\n",
       "obsDt                        \n",
       "2019-03-28      2.0  2.000000\n",
       "2019-03-29      NaN  2.000000\n",
       "2019-03-30      NaN  2.000000\n",
       "2019-03-31      NaN  2.000000\n",
       "2019-04-01      NaN  2.000000\n",
       "...             ...       ...\n",
       "2022-01-29      NaN  1.333333\n",
       "2022-01-30      NaN  1.333333\n",
       "2022-01-31      NaN  1.333333\n",
       "2022-02-01      NaN  1.333333\n",
       "2022-02-02      1.0  1.000000\n",
       "\n",
       "[1043 rows x 2 columns]"
      ]
     },
     "execution_count": 324,
     "metadata": {},
     "output_type": "execute_result"
    }
   ],
   "source": [
    "#dailyData.reset_index(inplace=True)\n",
    "dailyData['mask'] = dailyData['howMany'].interpolate(method='zero',limit_direction='both',limit=21)\n",
    "dailyData.loc[(dailyData['mask'].isna() == True),'howMany'] = 0\n",
    "testDailyData = dailyData[dailyData['howMany'].notna()].drop(columns='mask')\n",
    "dailyData"
   ]
  },
  {
   "cell_type": "code",
   "execution_count": 203,
   "metadata": {},
   "outputs": [],
   "source": [
    "from sklearn.metrics import r2_score"
   ]
  },
  {
   "cell_type": "code",
   "execution_count": 325,
   "metadata": {},
   "outputs": [],
   "source": [
    "testResults = []\n",
    "methodDict = [{'method':'linear','order':3,'limit_direction':'both','limit':21},{'method':'slinear','order':3,'limit_direction':'both','limit':21},{'method':'quadratic','order':0,'limit_direction':'both','limit':21},{'method':'cubic','order':3,'limit_direction':'both','limit':21},{'method':'spline','order':3,'limit_direction':'both','limit':21},{'method':'spline','order':5,'limit_direction':'both','limit':21},{'method':'polynomial','order':3,'limit_direction':'both','limit':21},{'method':'polynomial','order':5,'limit_direction':'both','limit':21}]\n",
    "for v in list([0.2,0.25,0.3,0.35]):\n",
    "    testDailyData['sample'] = testDailyData['howMany'].sample(frac=v,random_state=1)\n",
    "    blob = {}\n",
    "    for test in methodDict:\n",
    "        testName = str(test['method'])\n",
    "        testDailyData[testName] = testDailyData['sample']\n",
    "        testDailyData[testName] = testDailyData['sample'].interpolate(method=test['method'],order=test['order'],limit=test['limit'],limit_direction=test['limit_direction']).fillna(testDailyData['howMany'])\n",
    "        r_sqr = r2_score(y_true=testDailyData['howMany'],y_pred=testDailyData[testName])\n",
    "        if r_sqr < 0:\n",
    "            continue\n",
    "        blob = {'method':test['method'],'order':test['order'],'limit':test['limit'],'sampleSize':v,'r_sqr':r_sqr}\n",
    "        testResults.append(blob)\n",
    "if not testResults:\n",
    "    testResults.append({'method':'nearest','order':0,'limit':2})\n",
    "    resultFrame = pd.DataFrame.from_dict(testResults)\n",
    "else:\n",
    "    resultFrame = pd.DataFrame.from_dict(testResults)\n",
    "    resultFrame = resultFrame.groupby(by=['method','order','limit'])['r_sqr'].median().reset_index()\n",
    "    resultFrame.sort_values(by=['r_sqr'],ascending=False,inplace=True,ignore_index=True)"
   ]
  },
  {
   "cell_type": "code",
   "execution_count": 326,
   "metadata": {},
   "outputs": [
    {
     "data": {
      "text/html": [
       "<div>\n",
       "<style scoped>\n",
       "    .dataframe tbody tr th:only-of-type {\n",
       "        vertical-align: middle;\n",
       "    }\n",
       "\n",
       "    .dataframe tbody tr th {\n",
       "        vertical-align: top;\n",
       "    }\n",
       "\n",
       "    .dataframe thead th {\n",
       "        text-align: right;\n",
       "    }\n",
       "</style>\n",
       "<table border=\"1\" class=\"dataframe\">\n",
       "  <thead>\n",
       "    <tr style=\"text-align: right;\">\n",
       "      <th></th>\n",
       "      <th>method</th>\n",
       "      <th>order</th>\n",
       "      <th>limit</th>\n",
       "      <th>r_sqr</th>\n",
       "    </tr>\n",
       "  </thead>\n",
       "  <tbody>\n",
       "    <tr>\n",
       "      <th>0</th>\n",
       "      <td>slinear</td>\n",
       "      <td>3</td>\n",
       "      <td>21</td>\n",
       "      <td>0.425032</td>\n",
       "    </tr>\n",
       "    <tr>\n",
       "      <th>1</th>\n",
       "      <td>cubic</td>\n",
       "      <td>3</td>\n",
       "      <td>21</td>\n",
       "      <td>0.410121</td>\n",
       "    </tr>\n",
       "    <tr>\n",
       "      <th>2</th>\n",
       "      <td>polynomial</td>\n",
       "      <td>3</td>\n",
       "      <td>21</td>\n",
       "      <td>0.410121</td>\n",
       "    </tr>\n",
       "    <tr>\n",
       "      <th>3</th>\n",
       "      <td>quadratic</td>\n",
       "      <td>0</td>\n",
       "      <td>21</td>\n",
       "      <td>0.393635</td>\n",
       "    </tr>\n",
       "    <tr>\n",
       "      <th>4</th>\n",
       "      <td>polynomial</td>\n",
       "      <td>5</td>\n",
       "      <td>21</td>\n",
       "      <td>0.301805</td>\n",
       "    </tr>\n",
       "    <tr>\n",
       "      <th>5</th>\n",
       "      <td>spline</td>\n",
       "      <td>5</td>\n",
       "      <td>21</td>\n",
       "      <td>0.272020</td>\n",
       "    </tr>\n",
       "    <tr>\n",
       "      <th>6</th>\n",
       "      <td>spline</td>\n",
       "      <td>3</td>\n",
       "      <td>21</td>\n",
       "      <td>0.271114</td>\n",
       "    </tr>\n",
       "    <tr>\n",
       "      <th>7</th>\n",
       "      <td>linear</td>\n",
       "      <td>3</td>\n",
       "      <td>21</td>\n",
       "      <td>0.233831</td>\n",
       "    </tr>\n",
       "  </tbody>\n",
       "</table>\n",
       "</div>"
      ],
      "text/plain": [
       "       method  order  limit     r_sqr\n",
       "0     slinear      3     21  0.425032\n",
       "1       cubic      3     21  0.410121\n",
       "2  polynomial      3     21  0.410121\n",
       "3   quadratic      0     21  0.393635\n",
       "4  polynomial      5     21  0.301805\n",
       "5      spline      5     21  0.272020\n",
       "6      spline      3     21  0.271114\n",
       "7      linear      3     21  0.233831"
      ]
     },
     "execution_count": 326,
     "metadata": {},
     "output_type": "execute_result"
    }
   ],
   "source": [
    "resultFrame"
   ]
  },
  {
   "cell_type": "code",
   "execution_count": 327,
   "metadata": {},
   "outputs": [],
   "source": [
    "dailyData = dailyData.drop(columns='mask')\n",
    "dailyData['howMany'] = dailyData['howMany'].interpolate(method='slinear',limit=21,limit_direction='both',order=3)\n",
    "fdd = dailyData\n"
   ]
  },
  {
   "cell_type": "code",
   "execution_count": 329,
   "metadata": {},
   "outputs": [
    {
     "data": {
      "text/html": [
       "<div>\n",
       "<style scoped>\n",
       "    .dataframe tbody tr th:only-of-type {\n",
       "        vertical-align: middle;\n",
       "    }\n",
       "\n",
       "    .dataframe tbody tr th {\n",
       "        vertical-align: top;\n",
       "    }\n",
       "\n",
       "    .dataframe thead th {\n",
       "        text-align: right;\n",
       "    }\n",
       "</style>\n",
       "<table border=\"1\" class=\"dataframe\">\n",
       "  <thead>\n",
       "    <tr style=\"text-align: right;\">\n",
       "      <th></th>\n",
       "      <th>obsDt</th>\n",
       "      <th>howMany</th>\n",
       "      <th>DoW</th>\n",
       "    </tr>\n",
       "  </thead>\n",
       "  <tbody>\n",
       "    <tr>\n",
       "      <th>0</th>\n",
       "      <td>2019-03-28</td>\n",
       "      <td>2.000000</td>\n",
       "      <td>3</td>\n",
       "    </tr>\n",
       "    <tr>\n",
       "      <th>1</th>\n",
       "      <td>2019-03-29</td>\n",
       "      <td>1.909091</td>\n",
       "      <td>4</td>\n",
       "    </tr>\n",
       "    <tr>\n",
       "      <th>2</th>\n",
       "      <td>2019-03-30</td>\n",
       "      <td>1.818182</td>\n",
       "      <td>5</td>\n",
       "    </tr>\n",
       "    <tr>\n",
       "      <th>3</th>\n",
       "      <td>2019-03-31</td>\n",
       "      <td>1.727273</td>\n",
       "      <td>6</td>\n",
       "    </tr>\n",
       "    <tr>\n",
       "      <th>4</th>\n",
       "      <td>2019-04-01</td>\n",
       "      <td>1.636364</td>\n",
       "      <td>0</td>\n",
       "    </tr>\n",
       "    <tr>\n",
       "      <th>...</th>\n",
       "      <td>...</td>\n",
       "      <td>...</td>\n",
       "      <td>...</td>\n",
       "    </tr>\n",
       "    <tr>\n",
       "      <th>1038</th>\n",
       "      <td>2022-01-29</td>\n",
       "      <td>0.818182</td>\n",
       "      <td>5</td>\n",
       "    </tr>\n",
       "    <tr>\n",
       "      <th>1039</th>\n",
       "      <td>2022-01-30</td>\n",
       "      <td>0.863636</td>\n",
       "      <td>6</td>\n",
       "    </tr>\n",
       "    <tr>\n",
       "      <th>1040</th>\n",
       "      <td>2022-01-31</td>\n",
       "      <td>0.909091</td>\n",
       "      <td>0</td>\n",
       "    </tr>\n",
       "    <tr>\n",
       "      <th>1041</th>\n",
       "      <td>2022-02-01</td>\n",
       "      <td>0.954545</td>\n",
       "      <td>1</td>\n",
       "    </tr>\n",
       "    <tr>\n",
       "      <th>1042</th>\n",
       "      <td>2022-02-02</td>\n",
       "      <td>1.000000</td>\n",
       "      <td>2</td>\n",
       "    </tr>\n",
       "  </tbody>\n",
       "</table>\n",
       "<p>1043 rows × 3 columns</p>\n",
       "</div>"
      ],
      "text/plain": [
       "          obsDt   howMany  DoW\n",
       "0    2019-03-28  2.000000    3\n",
       "1    2019-03-29  1.909091    4\n",
       "2    2019-03-30  1.818182    5\n",
       "3    2019-03-31  1.727273    6\n",
       "4    2019-04-01  1.636364    0\n",
       "...         ...       ...  ...\n",
       "1038 2022-01-29  0.818182    5\n",
       "1039 2022-01-30  0.863636    6\n",
       "1040 2022-01-31  0.909091    0\n",
       "1041 2022-02-01  0.954545    1\n",
       "1042 2022-02-02  1.000000    2\n",
       "\n",
       "[1043 rows x 3 columns]"
      ]
     },
     "execution_count": 329,
     "metadata": {},
     "output_type": "execute_result"
    }
   ],
   "source": [
    "def trim_DatasetDates(dailyData: pd.DataFrame):\n",
    "    try:\n",
    "        dailyData.reset_index(inplace=True)\n",
    "        dailyData['DoW'] = dailyData['obsDt'].apply(lambda x: dt.date.weekday(x))\n",
    "        "
   ]
  },
  {
   "cell_type": "code",
   "execution_count": 331,
   "metadata": {},
   "outputs": [],
   "source": [
    "def split_trainTest(dailyObs):\n",
    "    train, test = dailyObs[1:-328],dailyObs[-328:-6]\n",
    "    train = np.array(np.split(train,len(train)/7))\n",
    "    test = np.array(np.split(test,len(test)/7))\n",
    "    return train, test"
   ]
  },
  {
   "cell_type": "code",
   "execution_count": 339,
   "metadata": {},
   "outputs": [
    {
     "name": "stdout",
     "output_type": "stream",
     "text": [
      "(102, 7, 1)\n",
      "(46, 7, 1)\n"
     ]
    }
   ],
   "source": [
    "train, test = split_trainTest(dailyObs=fdd)\n",
    "print(train.shape)\n",
    "print(test.shape)"
   ]
  },
  {
   "cell_type": "code",
   "execution_count": 240,
   "metadata": {},
   "outputs": [],
   "source": [
    "#build forward-moving windows\n",
    "def to_supervised(train,nInput,nOut = 7):\n",
    "    train = train.reshape((train.shape[0]*train.shape[1],train.shape[2]))\n",
    "    X, y = [],[]\n",
    "    inStart = 0\n",
    "    for _ in range(len(train)):\n",
    "        inEnd = inStart + nInput\n",
    "        outEnd = inEnd + nOut\n",
    "        if outEnd <= len(train):\n",
    "            xIn = train[inStart:inEnd,0]\n",
    "            xIn = xIn.reshape((len(xIn),1))\n",
    "            X.append(xIn)\n",
    "            y.append(train[inEnd:outEnd,0])\n",
    "        inStart+= 1\n",
    "    return np.array(X),np.array(y)"
   ]
  },
  {
   "cell_type": "code",
   "execution_count": 341,
   "metadata": {},
   "outputs": [
    {
     "name": "stdout",
     "output_type": "stream",
     "text": [
      "(701, 7, 1)\n",
      "(701, 7)\n"
     ]
    }
   ],
   "source": [
    "X, y = to_supervised(train=train,nInput=7)\n",
    "print(X.shape)\n",
    "print(y.shape)"
   ]
  },
  {
   "cell_type": "code",
   "execution_count": 242,
   "metadata": {},
   "outputs": [],
   "source": [
    "from keras.layers import Bidirectional"
   ]
  },
  {
   "cell_type": "code",
   "execution_count": 273,
   "metadata": {},
   "outputs": [],
   "source": [
    "def build_basicModel(train,nInput):\n",
    "    train_x,train_y = to_supervised(train,nInput)\n",
    "    verbose, epochs, batch_size = 0,70,16\n",
    "    nTimesteps,nFeatures,nOutputs = train_x.shape[1],train_x.shape[2],train_y.shape[1]\n",
    "    model = Sequential()\n",
    "    #model.add(Bidirectional(LSTM(units=200,activation='relu')))\n",
    "    model.add(LSTM(units=200,activation='relu', input_shape=(nTimesteps,nFeatures)))\n",
    "    model.add(Dense(100,activation='relu'))\n",
    "    model.add(Dense(nOutputs))\n",
    "    model.compile(loss='mse',optimizer='adam')\n",
    "    model.fit(train_x,train_y,epochs=epochs,batch_size=batch_size,verbose=verbose)\n",
    "    return model"
   ]
  },
  {
   "cell_type": "code",
   "execution_count": null,
   "metadata": {},
   "outputs": [],
   "source": [
    "##TODO: build another model using encoder-decoder, run tests"
   ]
  },
  {
   "cell_type": "code",
   "execution_count": 262,
   "metadata": {},
   "outputs": [],
   "source": [
    "amerob_eastSunset_model = build_basicModel(train=train,nInput=7)"
   ]
  },
  {
   "cell_type": "code",
   "execution_count": 342,
   "metadata": {},
   "outputs": [],
   "source": [
    "stejay_eastSunset_model = build_basicModel(train=train,nInput=7)"
   ]
  },
  {
   "cell_type": "code",
   "execution_count": 346,
   "metadata": {},
   "outputs": [],
   "source": [
    "def forecast(model,history,nInput):\n",
    "    histData = np.array(history)\n",
    "    #histData = np.array(np.split(histData,len(histData)/7))\n",
    "    histData = histData.reshape((histData.shape[0]*histData.shape[1],histData.shape[2]))\n",
    "    inputX = histData[-nInput:,0]\n",
    "    inputX = inputX.reshape((1,len(inputX),1))\n",
    "    yhat = model.predict(inputX,verbose=0)\n",
    "    yhat = yhat[0]\n",
    "    return yhat"
   ]
  },
  {
   "cell_type": "code",
   "execution_count": 344,
   "metadata": {},
   "outputs": [
    {
     "data": {
      "text/plain": [
       "array([0.7123969 , 0.75063694, 0.80259275, 0.85019034, 0.89194   ,\n",
       "       0.94846505, 0.9642189 ], dtype=float32)"
      ]
     },
     "execution_count": 344,
     "metadata": {},
     "output_type": "execute_result"
    }
   ],
   "source": [
    "forx = forecast(model=stejay_eastSunset_model,history=fdd[:-7],nInput=7)\n",
    "forx"
   ]
  },
  {
   "cell_type": "code",
   "execution_count": 345,
   "metadata": {},
   "outputs": [
    {
     "data": {
      "text/html": [
       "<div>\n",
       "<style scoped>\n",
       "    .dataframe tbody tr th:only-of-type {\n",
       "        vertical-align: middle;\n",
       "    }\n",
       "\n",
       "    .dataframe tbody tr th {\n",
       "        vertical-align: top;\n",
       "    }\n",
       "\n",
       "    .dataframe thead th {\n",
       "        text-align: right;\n",
       "    }\n",
       "</style>\n",
       "<table border=\"1\" class=\"dataframe\">\n",
       "  <thead>\n",
       "    <tr style=\"text-align: right;\">\n",
       "      <th></th>\n",
       "      <th>howMany</th>\n",
       "    </tr>\n",
       "    <tr>\n",
       "      <th>obsDt</th>\n",
       "      <th></th>\n",
       "    </tr>\n",
       "  </thead>\n",
       "  <tbody>\n",
       "    <tr>\n",
       "      <th>2022-01-27</th>\n",
       "      <td>0.727273</td>\n",
       "    </tr>\n",
       "    <tr>\n",
       "      <th>2022-01-28</th>\n",
       "      <td>0.772727</td>\n",
       "    </tr>\n",
       "    <tr>\n",
       "      <th>2022-01-29</th>\n",
       "      <td>0.818182</td>\n",
       "    </tr>\n",
       "    <tr>\n",
       "      <th>2022-01-30</th>\n",
       "      <td>0.863636</td>\n",
       "    </tr>\n",
       "    <tr>\n",
       "      <th>2022-01-31</th>\n",
       "      <td>0.909091</td>\n",
       "    </tr>\n",
       "    <tr>\n",
       "      <th>2022-02-01</th>\n",
       "      <td>0.954545</td>\n",
       "    </tr>\n",
       "    <tr>\n",
       "      <th>2022-02-02</th>\n",
       "      <td>1.000000</td>\n",
       "    </tr>\n",
       "  </tbody>\n",
       "</table>\n",
       "</div>"
      ],
      "text/plain": [
       "             howMany\n",
       "obsDt               \n",
       "2022-01-27  0.727273\n",
       "2022-01-28  0.772727\n",
       "2022-01-29  0.818182\n",
       "2022-01-30  0.863636\n",
       "2022-01-31  0.909091\n",
       "2022-02-01  0.954545\n",
       "2022-02-02  1.000000"
      ]
     },
     "execution_count": 345,
     "metadata": {},
     "output_type": "execute_result"
    }
   ],
   "source": [
    "fdd[-7:]"
   ]
  },
  {
   "cell_type": "code",
   "execution_count": 271,
   "metadata": {},
   "outputs": [
    {
     "data": {
      "text/plain": [
       "2.7742558386059955"
      ]
     },
     "execution_count": 271,
     "metadata": {},
     "output_type": "execute_result"
    }
   ],
   "source": [
    "np.average(forx)/4.367"
   ]
  },
  {
   "cell_type": "code",
   "execution_count": 272,
   "metadata": {},
   "outputs": [
    {
     "data": {
      "text/plain": [
       "2.9768719945042363"
      ]
     },
     "execution_count": 272,
     "metadata": {},
     "output_type": "execute_result"
    }
   ],
   "source": [
    "13/4.367"
   ]
  },
  {
   "cell_type": "code",
   "execution_count": 245,
   "metadata": {},
   "outputs": [],
   "source": [
    "def eval_forecasts(actual,predicted):\n",
    "    try:\n",
    "        scores = list()\n",
    "        for i in range(actual.shape[1]):\n",
    "            mse = mean_squared_error(actual[:,i],predicted[:,i])\n",
    "            rmse = np.sqrt(mse)\n",
    "            scores.append(rmse)\n",
    "        s = 0\n",
    "        for row in range(actual.shape[0]):\n",
    "            for col in range(actual.shape[1]):\n",
    "                s+= (actual[row,col] - predicted[row,col])**2\n",
    "        score = np.sqrt(s/(actual.shape[0]*actual.shape[1]))\n",
    "    except Exception as metricExc:\n",
    "        raise metricExc\n",
    "    return score, scores"
   ]
  },
  {
   "cell_type": "code",
   "execution_count": 286,
   "metadata": {},
   "outputs": [],
   "source": [
    "def evalModel(train,test,nInput):\n",
    "    model = build_basicModel(train=train,nInput=nInput)\n",
    "    history = [x for x in train]\n",
    "    predictions = []\n",
    "    for i in range(len(test)):\n",
    "        yhatSeq = forecast(model=model,history=history,nInput=nInput)\n",
    "        predictions.append(yhatSeq)\n",
    "        history.append(test[i,:])\n",
    "    predictions = np.array(predictions)\n",
    "    score, scores = eval_forecasts(actual=test[:,:,0],predicted=predictions)\n",
    "    return score, scores\n",
    "    #return predictions"
   ]
  },
  {
   "cell_type": "code",
   "execution_count": 347,
   "metadata": {},
   "outputs": [],
   "source": [
    "score, scores = evalModel(train=train,test=test,nInput=7)\n"
   ]
  },
  {
   "cell_type": "code",
   "execution_count": 256,
   "metadata": {},
   "outputs": [],
   "source": [
    "def summarizeEvalScore(name,score,scores):\n",
    "    sScores = ', '.join(['%f' % s for s in scores])\n",
    "    print('%s: [%.3f] %s' % (name, score, sScores))"
   ]
  },
  {
   "cell_type": "code",
   "execution_count": 348,
   "metadata": {},
   "outputs": [
    {
     "name": "stdout",
     "output_type": "stream",
     "text": [
      "run: [0.234] 0.171749, 0.185661, 0.209144, 0.226055, 0.248578, 0.272514, 0.297879\n"
     ]
    }
   ],
   "source": [
    "summarizeEvalScore(name='run',score=score,scores=scores)"
   ]
  },
  {
   "cell_type": "markdown",
   "metadata": {},
   "source": [
    "amerob:\n",
    "1. run1: [2.551] 2.458957, 2.472114, 2.475770, 2.677192, 3.045214, 2.251491, 2.402137 n = 7\n",
    "2. run2: [2.655] 2.482476, 2.564362, 2.557338, 2.738337, 3.200391, 2.457562, 2.509320 n = 21\n",
    "3. run3: [3.221] 2.561701, 2.617324, 2.715710, 3.185073, 3.910806, 3.548933, 3.717976 n = 14\n",
    "4. run4: [2.757] 2.647477, 2.664606, 2.711631, 2.933634, 3.188165, 2.496027, 2.599233 n = 7 bidirectional\n",
    "5. run5: [2.216] 0.385453, 0.939606, 1.419237, 1.818103, 2.423542, 2.977693, 3.646165 n = 7 note: changed interpolation method to slinear\n",
    "6. run6: [2.442] 0.468001, 1.068273, 1.803750, 2.283598, 2.770545, 3.216125, 3.727616 n = 7\n",
    "7. run7: [2.146] 0.346224, 1.057628, 1.474756, 1.910932, 2.273262, 2.820911, 3.470625 n = 7\n",
    "8. run: [2.082] 0.474444, 0.973971, 1.394103, 1.790021, 2.196929, 2.821583, 3.353662 n = 7 improved interpolation method\n",
    "9. run: [2.770] 1.373590, 0.953020, 1.333994, 2.028866, 2.949500, 3.854387, 4.632758 n = 28 stick with a lower n\n",
    "\n",
    "stejay:\n",
    "1. run: [0.234] 0.171749, 0.185661, 0.209144, 0.226055, 0.248578, 0.272514, 0.297879 n = 7 for stejay"
   ]
  }
 ],
 "metadata": {
  "interpreter": {
   "hash": "ce2b8b10e8082f390f0f7c9c12f304c9df3ed4554edd4b21c0fcee2d9ef65582"
  },
  "kernelspec": {
   "display_name": "Python 3.9.7 ('base')",
   "language": "python",
   "name": "python3"
  },
  "language_info": {
   "codemirror_mode": {
    "name": "ipython",
    "version": 3
   },
   "file_extension": ".py",
   "mimetype": "text/x-python",
   "name": "python",
   "nbconvert_exporter": "python",
   "pygments_lexer": "ipython3",
   "version": "3.7.12"
  },
  "orig_nbformat": 4
 },
 "nbformat": 4,
 "nbformat_minor": 2
}
