{
 "cells": [
  {
   "cell_type": "code",
   "execution_count": 8,
   "metadata": {},
   "outputs": [],
   "source": [
    "import pandas as pd\n",
    "import numpy as np\n",
    "from keras.models import Sequential\n",
    "from keras.layers import LSTM\n",
    "from keras.layers import Dense\n",
    "import sqlite3 as db\n",
    "import datetime as dt\n",
    "from sklearn.metrics import mean_squared_error,r2_score"
   ]
  },
  {
   "cell_type": "code",
   "execution_count": 9,
   "metadata": {},
   "outputs": [],
   "source": [
    "github_userName = 'Tanag3r'\n",
    "ebird_token = 'j6c7l80ga2ib'\n",
    "db_name = 'trailheadDirectBirds_sous.db'"
   ]
  },
  {
   "cell_type": "code",
   "execution_count": 10,
   "metadata": {},
   "outputs": [],
   "source": [
    "##connect to database\n",
    "def connectDB():\n",
    "    try:\n",
    "        cnx = db.connect(db_name)\n",
    "    except Exception as cnxError:\n",
    "        raise UserWarning(f'Unable to connect to database due to: {cnxError}')\n",
    "    return cnx"
   ]
  },
  {
   "cell_type": "code",
   "execution_count": 11,
   "metadata": {},
   "outputs": [],
   "source": [
    "#baseline request from the application layer\n",
    "#outputs a list of birds at the stop and a classification based solely off the number of observations\n",
    "def birdList_request(StopName: str,cnx):\n",
    "    try:\n",
    "        query = f'SELECT speciesCode,count(subId) as \"checklists\",(SELECT count(subId) FROM historicObservations hxobx WHERE hxobx.speciesCode=hsob.speciesCode) as \"sightings\" FROM historicObservations hsob LEFT JOIN closestStop on hsob.locId=closestStop.locId WHERE StopName = \"{StopName}\" GROUP BY speciesCode;'\n",
    "        sightings = pd.read_sql(sql=query,con=cnx)\n",
    "    #rareness at the stop\n",
    "        sightings['stopGroup'] = int\n",
    "        bucket = sightings['checklists'].quantile([0,0.15,0.5,0.85,1])\n",
    "        sightings.loc[sightings['checklists'] <= bucket[0.15],'stopGroup'] = 1  #mythic\n",
    "        sightings.loc[(sightings['checklists'] > bucket[0.15]) & (sightings['checklists'] <= bucket[0.5]),'stopGroup'] = 2  #rare\n",
    "        sightings.loc[(sightings['checklists'] > bucket[0.5]) & (sightings['checklists'] < bucket[0.85]),'stopGroup'] = 3   #uncommon\n",
    "        sightings.loc[(sightings['checklists'] >= bucket[0.85]) & (sightings['checklists'] <=bucket[1]),'stopGroup'] = 4    #common\n",
    "    #overall rareness\n",
    "        sightings['overall'] = int\n",
    "        bucket = sightings['sightings'].quantile([0,0.15,0.5,0.85,1])\n",
    "        sightings.loc[sightings['sightings'] <= bucket[0.15],'overall'] = 1\n",
    "        sightings.loc[(sightings['sightings'] > bucket[0.15]) & (sightings['sightings'] <= bucket[0.5]),'overall'] = 2\n",
    "        sightings.loc[(sightings['sightings'] > bucket[0.5]) & (sightings['sightings'] < bucket[0.85]),'overall'] = 3\n",
    "        sightings.loc[(sightings['sightings'] >= bucket[0.85]) & (sightings['sightings'] <=bucket[1]),'overall'] = 4\n",
    "        sightings['StopName'] = StopName\n",
    "    #raise an exception if the stopName given is not valid and return a list of valid stop names\n",
    "    except Exception as ex:\n",
    "        raise ex\n",
    "    return sightings"
   ]
  },
  {
   "cell_type": "markdown",
   "metadata": {},
   "source": [
    "LSTM forecasting of common birds. Why use LSTM instead of a traditional auto-regression?\n",
    "- Bird volumes at a time step are not neccessarily a function of volumes at the previous time step. It is not reasonable to assume that bird behavior (presence at a location) is explained by bird behavior in a historic time step.\n",
    "- Comparatively less resource intensive. LSTM models can provide accurate forecasting without stepped re-training\n",
    "\n",
    "How does LSTM perform compared to other NN autoregressive models? Not well in literature, but the above reasons make the method worth exploring"
   ]
  },
  {
   "cell_type": "code",
   "execution_count": 12,
   "metadata": {},
   "outputs": [],
   "source": [
    "def build_dailyDataset(speciesCode: str,StopName: str,cnx = connectDB()):\n",
    "    try:\n",
    "        query = f'SELECT speciesCode,FX.locId,StopName,obsDt,howMany FROM historicObservations AS FX LEFT JOIN closestStop on FX.locId = closestStop.locId WHERE (SELECT count(distinct(subId)) FROM historicObservations AS QA WHERE QA.comName = FX.comName) > 2 AND FX.speciesCode = \"{speciesCode}\" AND StopName = \"{StopName}\";'\n",
    "        obsData = pd.read_sql(query,con=cnx,parse_dates=['obsDt'])\n",
    "        obsData.set_index('obsDt',inplace=True)\n",
    "    #resample to days\n",
    "        dailyData = obsData.resample('d')\n",
    "        dailyData = dailyData.mean()\n",
    "    except Exception as ex:\n",
    "        raise ex\n",
    "    return dailyData"
   ]
  },
  {
   "cell_type": "code",
   "execution_count": 13,
   "metadata": {},
   "outputs": [],
   "source": [
    "##TODO build realtime prediction function using LSTM model"
   ]
  },
  {
   "cell_type": "code",
   "execution_count": 14,
   "metadata": {},
   "outputs": [],
   "source": [
    "def build_interpolatedDataset(dailyData:pd.DataFrame):\n",
    "    try:\n",
    "    #mask in null presence\n",
    "        dailyData['mask'] = dailyData['howMany'].interpolate(method='zero',limit_direction='both',limit=21)\n",
    "        dailyData.loc[(dailyData['mask'].isna() == True),'howMany'] = 0\n",
    "        test_dailyData = dailyData[dailyData['howMany'].notna()].drop(columns='mask')\n",
    "        \n",
    "#determine the best method of interpolation for the given data\n",
    "        testResults = []\n",
    "        methodDict = [{'method':'linear','order':3,'limit_direction':'both','limit':21},{'method':'slinear','order':3,'limit_direction':'both','limit':21},{'method':'quadratic','order':0,'limit_direction':'both','limit':21},{'method':'cubic','order':3,'limit_direction':'both','limit':21},{'method':'spline','order':3,'limit_direction':'both','limit':21},{'method':'spline','order':5,'limit_direction':'both','limit':21},{'method':'polynomial','order':3,'limit_direction':'both','limit':21},{'method':'polynomial','order':5,'limit_direction':'both','limit':21}]\n",
    "        for v in list([0.2,0.25,0.3,0.35]):\n",
    "            test_dailyData['sample'] = test_dailyData['howMany'].sample(frac=v,random_state=1)\n",
    "            blob = {}\n",
    "            for test in methodDict:\n",
    "                testName = str(test['method'])\n",
    "                test_dailyData[testName] = test_dailyData['sample']\n",
    "                test_dailyData[testName] = test_dailyData['sample'].interpolate(method=test['method'],order=test['order'],limit=test['limit'],limit_direction=test['limit_direction']).fillna(test_dailyData['howMany'])\n",
    "                r_sqr = r2_score(y_true=test_dailyData['howMany'],y_pred=test_dailyData[testName])\n",
    "                if r_sqr < 0:\n",
    "                    continue\n",
    "                blob = {'method':test['method'],'order':test['order'],'limit':test['limit'],'sampleSize':v,'r_sqr':r_sqr}\n",
    "                testResults.append(blob)\n",
    "        if not testResults:\n",
    "            testResults.append({'method':'nearest','order':0,'limit':21})\n",
    "            resultFrame = pd.DataFrame.from_dict(testResults)\n",
    "        else:\n",
    "            resultFrame = pd.DataFrame.from_dict(testResults)\n",
    "            resultFrame = resultFrame.groupby(by=['method','order','limit'])['r_sqr'].median().reset_index()\n",
    "            resultFrame.sort_values(by=['r_sqr'],ascending=False,inplace=True,ignore_index=True)\n",
    "    #apply the best interpolation method\n",
    "        bestMethod = resultFrame.loc[0].to_dict()\n",
    "        dailyData['howMany'] = dailyData['howMany'].interpolate(method=bestMethod['method'],order=bestMethod['order'],limit=bestMethod['limit'],limit_direction='both')\n",
    "        dailyData.drop(columns='mask',inplace=True)\n",
    "    except Exception as ex:\n",
    "        raise ex\n",
    "    return dailyData"
   ]
  },
  {
   "cell_type": "code",
   "execution_count": 15,
   "metadata": {},
   "outputs": [],
   "source": [
    "def trim_DatasetDates(dailyData: pd.DataFrame):\n",
    "    try:\n",
    "        if (len(dailyData)/7).is_integer()!=True:\n",
    "            i = 0\n",
    "            for i in range(1,6):\n",
    "                dailyDataCut = dailyData[i:]\n",
    "                if (len(dailyDataCut)/7).is_integer()==True:\n",
    "                    dailyDataCut\n",
    "                    break\n",
    "                else:\n",
    "                    continue\n",
    "        else:\n",
    "            pass\n",
    "    except Exception as ee:\n",
    "        raise ee\n",
    "    return dailyDataCut     "
   ]
  },
  {
   "cell_type": "code",
   "execution_count": 16,
   "metadata": {},
   "outputs": [],
   "source": [
    "def split_trainTest(dailyObs):\n",
    "    dailyObs = trim_DatasetDates(dailyData=dailyObs)\n",
    "    train, test = dailyObs[1:-328],dailyObs[-328:-6]\n",
    "    train = np.array(np.split(train,len(train)/7))\n",
    "    test = np.array(np.split(test,len(test)/7))\n",
    "    return train, test"
   ]
  },
  {
   "cell_type": "code",
   "execution_count": 17,
   "metadata": {},
   "outputs": [],
   "source": [
    "#build forward-moving windows\n",
    "def to_supervised(train,nInput,nOut = 7):\n",
    "    train = train.reshape((train.shape[0]*train.shape[1],train.shape[2]))\n",
    "    X, y = [],[]\n",
    "    inStart = 0\n",
    "    for _ in range(len(train)):\n",
    "        inEnd = inStart + nInput\n",
    "        outEnd = inEnd + nOut\n",
    "        if outEnd <= len(train):\n",
    "            xIn = train[inStart:inEnd,0]\n",
    "            xIn = xIn.reshape((len(xIn),1))\n",
    "            X.append(xIn)\n",
    "            y.append(train[inEnd:outEnd,0])\n",
    "        inStart+= 1\n",
    "    return np.array(X),np.array(y)"
   ]
  },
  {
   "cell_type": "code",
   "execution_count": 18,
   "metadata": {},
   "outputs": [],
   "source": [
    "from keras.layers import RepeatVector,Flatten,TimeDistributed"
   ]
  },
  {
   "cell_type": "code",
   "execution_count": 19,
   "metadata": {},
   "outputs": [],
   "source": [
    "def build_basicLinearModel(train,nInput):\n",
    "    train_x,train_y = to_supervised(train,nInput)\n",
    "    verbose, epochs, batch_size = 0,70,16\n",
    "    nTimesteps,nFeatures,nOutputs = train_x.shape[1],train_x.shape[2],train_y.shape[1]\n",
    "    model = Sequential()\n",
    "    model.add(LSTM(units=200,activation='relu', input_shape=(nTimesteps,nFeatures)))\n",
    "    model.add(Dense(100,activation='relu'))\n",
    "    model.add(Dense(nOutputs))\n",
    "    model.compile(loss='mse',optimizer='adam')\n",
    "    model.fit(train_x,train_y,epochs=epochs,batch_size=batch_size,verbose=verbose)\n",
    "    return model"
   ]
  },
  {
   "cell_type": "code",
   "execution_count": 20,
   "metadata": {},
   "outputs": [],
   "source": [
    "def build_basicLogisticModel(train,nInput):\n",
    "    train_x,train_y = to_supervised(train,nInput)\n",
    "    verbose, epochs, batch_size = 0,70,16\n",
    "    nTimesteps,nFeatures,nOutputs = train_x.shape[1],train_x.shape[2],train_y.shape[1]\n",
    "    model = Sequential()\n",
    "    model.add(LSTM(units=200, input_shape=(nTimesteps,nFeatures)))\n",
    "    model.add(Dense(100))\n",
    "    model.add(Dense(nOutputs))\n",
    "    model.compile(loss='mse',optimizer='adam')\n",
    "    model.fit(train_x,train_y,epochs=epochs,batch_size=batch_size,verbose=verbose)\n",
    "    return model"
   ]
  },
  {
   "cell_type": "code",
   "execution_count": 21,
   "metadata": {},
   "outputs": [],
   "source": [
    "def build_EncDecModel(train,nInput):\n",
    "    try:\n",
    "        train_x,train_y = to_supervised(train,nInput)\n",
    "        verbose,epochs,batch_size = 0,20,16\n",
    "        nTimesteps,nFeatures,nOutputs = train_x.shape[1],train_x.shape[2],train_y.shape[1]\n",
    "    #output reshape\n",
    "        train_y = train_y.reshape((train_y.shape[0],train_y.shape[1],1))\n",
    "        model = Sequential()\n",
    "        model.add(LSTM(200,activation='relu',input_shape=(nTimesteps,nFeatures)))\n",
    "        model.add(RepeatVector(nOutputs))\n",
    "        model.add(LSTM(200,activation='relu',return_sequences=True))\n",
    "        model.add(TimeDistributed(Dense(100,activation='relu')))\n",
    "        model.add(TimeDistributed(Dense(1)))\n",
    "        model.compile(loss='mse',optimizer='adam')\n",
    "        model.fit(train_x,train_y,batch_size=batch_size,verbose=verbose,epochs=epochs)\n",
    "    except Exception as ex:\n",
    "        raise ex\n",
    "    return model"
   ]
  },
  {
   "cell_type": "code",
   "execution_count": 22,
   "metadata": {},
   "outputs": [],
   "source": [
    "##TODO: build another model using encoder-decoder, run tests\n",
    "##TODO export models to db"
   ]
  },
  {
   "cell_type": "code",
   "execution_count": 23,
   "metadata": {},
   "outputs": [],
   "source": [
    "def forecast(model,history,nInput):\n",
    "    histData = np.array(history)\n",
    "    #histData = np.array(np.split(histData,len(histData)/7))\n",
    "    histData = histData.reshape((histData.shape[0]*histData.shape[1],histData.shape[2]))\n",
    "    inputX = histData[-nInput:,0]\n",
    "    inputX = inputX.reshape((1,len(inputX),1))\n",
    "    yhat = model.predict(inputX,verbose=0)\n",
    "    yhat = yhat[0]\n",
    "    return yhat"
   ]
  },
  {
   "cell_type": "code",
   "execution_count": 24,
   "metadata": {},
   "outputs": [],
   "source": [
    "def forecast_fromDF(model,history,nInput):\n",
    "    histData = np.array(history)\n",
    "    histData = np.array(np.split(histData,len(histData)/7))\n",
    "    histData = histData.reshape((histData.shape[0]*histData.shape[1],histData.shape[2]))\n",
    "    inputX = histData[-nInput:,0]\n",
    "    inputX = inputX.reshape((1,len(inputX),1))\n",
    "    yhat = model.predict(inputX,verbose=0)\n",
    "    yhat = yhat[0]\n",
    "    return yhat"
   ]
  },
  {
   "cell_type": "code",
   "execution_count": 25,
   "metadata": {},
   "outputs": [],
   "source": [
    "def eval_forecasts(actual,predicted):\n",
    "    try:\n",
    "        scores = list()\n",
    "        for i in range(actual.shape[1]):\n",
    "            mse = mean_squared_error(actual[:,i],predicted[:,i])\n",
    "            rmse = np.sqrt(mse)\n",
    "            scores.append(rmse)\n",
    "        s = 0\n",
    "        for row in range(actual.shape[0]):\n",
    "            for col in range(actual.shape[1]):\n",
    "                s+= (actual[row,col] - predicted[row,col])**2\n",
    "        score = np.sqrt(s/(actual.shape[0]*actual.shape[1]))\n",
    "    except Exception as metricExc:\n",
    "        raise metricExc\n",
    "    return score, scores"
   ]
  },
  {
   "cell_type": "code",
   "execution_count": 21,
   "metadata": {},
   "outputs": [],
   "source": [
    "def evalModel(train,test,nInput):\n",
    "    model = build_basicModel(train=train,nInput=nInput)\n",
    "    history = [x for x in train]\n",
    "    predictions = []\n",
    "    for i in range(len(test)):\n",
    "        yhatSeq = forecast(model=model,history=history,nInput=nInput)\n",
    "        predictions.append(yhatSeq)\n",
    "        history.append(test[i,:])\n",
    "    predictions = np.array(predictions)\n",
    "    score, scores = eval_forecasts(actual=test[:,:,0],predicted=predictions)\n",
    "    return score, scores\n",
    "    #return predictions"
   ]
  },
  {
   "cell_type": "code",
   "execution_count": 107,
   "metadata": {},
   "outputs": [],
   "source": [
    "def eval_givenModel(train,test,model,nInput):\n",
    "    model = model\n",
    "    history = [x for x in train]\n",
    "    predictions = []\n",
    "    for i in range(len(test)):\n",
    "        yhatSeq = forecast(model=model,history=history,nInput=nInput)\n",
    "        predictions.append(yhatSeq)\n",
    "        history.append(test[i,:])\n",
    "    predictions = np.array(predictions)\n",
    "    score, scores = eval_forecasts(actual=test[:,:,0],predicted=predictions)\n",
    "    return score, scores"
   ]
  },
  {
   "cell_type": "code",
   "execution_count": 111,
   "metadata": {},
   "outputs": [],
   "source": [
    "def summarizeEvalScore(name,score,scores):\n",
    "    sScores = ', '.join(['%f' % s for s in scores])\n",
    "    print('%s: [%.3f] %s' % (name, score, sScores))"
   ]
  },
  {
   "cell_type": "markdown",
   "metadata": {},
   "source": [
    "Evaluate, test, forecast"
   ]
  },
  {
   "cell_type": "code",
   "execution_count": 110,
   "metadata": {},
   "outputs": [],
   "source": [
    "commonCore = birdList_request(StopName='MargaretsWay',cnx=connectDB())\n",
    "commonCore = commonCore[commonCore.apply(lambda x: (x['stopGroup']==4) and (x['overall']==4),axis=1)]"
   ]
  },
  {
   "cell_type": "code",
   "execution_count": 109,
   "metadata": {},
   "outputs": [],
   "source": [
    "spotow_MargWay = build_dailyDataset(speciesCode='spotow',StopName='MargaretsWay')\n",
    "spotow_MargWay = build_interpolatedDataset(dailyData=spotow_MargWay)"
   ]
  },
  {
   "cell_type": "code",
   "execution_count": 104,
   "metadata": {},
   "outputs": [],
   "source": [
    "train, test = split_trainTest(dailyObs=spotow_MargWay)"
   ]
  },
  {
   "cell_type": "code",
   "execution_count": 105,
   "metadata": {},
   "outputs": [
    {
     "name": "stdout",
     "output_type": "stream",
     "text": [
      "WARNING:tensorflow:From C:\\Users\\lukew\\anaconda3\\envs\\nurnet\\lib\\site-packages\\keras\\backend\\tensorflow_backend.py:422: The name tf.global_variables is deprecated. Please use tf.compat.v1.global_variables instead.\n",
      "\n"
     ]
    }
   ],
   "source": [
    "Model_spotow_MargWay = build_basicLogisticModel(train=train,nInput=7)"
   ]
  },
  {
   "cell_type": "code",
   "execution_count": 214,
   "metadata": {},
   "outputs": [],
   "source": [
    "model_spotowBasic = build_basicLinearModel(train=train,nInput=7)"
   ]
  },
  {
   "cell_type": "code",
   "execution_count": 120,
   "metadata": {},
   "outputs": [],
   "source": [
    "encDec_14 = build_EncDecModel(train=train,nInput=14)"
   ]
  },
  {
   "cell_type": "code",
   "execution_count": 130,
   "metadata": {},
   "outputs": [],
   "source": [
    "encDec_21 = build_EncDecModel(train=train,nInput=21)"
   ]
  },
  {
   "cell_type": "code",
   "execution_count": 112,
   "metadata": {},
   "outputs": [
    {
     "name": "stdout",
     "output_type": "stream",
     "text": [
      "run: [0.702] 0.193155, 0.250886, 0.479920, 0.596008, 1.076070, 0.910771, 0.879647\n"
     ]
    }
   ],
   "source": [
    "score, scores = eval_givenModel(train=train,test=test,model=Model_spotow_MargWay,nInput=7)\n",
    "summarizeEvalScore(name='run',score=score,scores=scores)"
   ]
  },
  {
   "cell_type": "code",
   "execution_count": 215,
   "metadata": {},
   "outputs": [
    {
     "data": {
      "text/plain": [
       "array([3.7747087, 4.107637 , 4.455287 , 4.682245 , 4.869202 , 5.0695677,\n",
       "       5.092761 ], dtype=float32)"
      ]
     },
     "execution_count": 215,
     "metadata": {},
     "output_type": "execute_result"
    }
   ],
   "source": [
    "forecast_fromDF(model=model_spotowBasic,history=spotow_MargWay[3:-7],nInput=7)"
   ]
  },
  {
   "cell_type": "code",
   "execution_count": null,
   "metadata": {},
   "outputs": [],
   "source": [
    "Model_spotow_MargWay.predict()"
   ]
  },
  {
   "cell_type": "code",
   "execution_count": 174,
   "metadata": {},
   "outputs": [],
   "source": [
    "def plot_forecast(model,history,nInput: int):\n",
    "    try:\n",
    "        history,predictions = trim_DatasetDates(dailyData=history),[]\n",
    "        fxDist = int(len(history))\n",
    "        s = 0\n",
    "        for s in range(0,fxDist,nInput):\n",
    "            grip = np.array(history[s:s+nInput])\n",
    "            grip = grip.reshape((1,len(grip),1))\n",
    "            yhat = model.predict(grip,verbose=0)\n",
    "            yhat = yhat[0]\n",
    "            startDate = history[s:s+nInput].index[6]\n",
    "            fxDates = pd.date_range(start=startDate,periods=7).to_numpy()\n",
    "            rxf = pd.Series(data=yhat,index=fxDates)\n",
    "            s += 7\n",
    "            predictions.append(rxf)\n",
    "    except Exception as ex:\n",
    "        raise ex\n",
    "    return predictions"
   ]
  },
  {
   "cell_type": "code",
   "execution_count": 180,
   "metadata": {},
   "outputs": [],
   "source": [
    "outcome = plot_forecast(model=Model_spotow_MargWay,history=spotow_MargWay,nInput=7)\n"
   ]
  },
  {
   "cell_type": "code",
   "execution_count": 179,
   "metadata": {},
   "outputs": [
    {
     "data": {
      "text/plain": [
       "2019-04-21    3.880236\n",
       "2019-04-22    3.735588\n",
       "2019-04-23    3.669961\n",
       "2019-04-24    3.561803\n",
       "2019-04-25    3.438621\n",
       "2019-04-26    3.382010\n",
       "2019-04-27    3.255807\n",
       "dtype: float32"
      ]
     },
     "execution_count": 179,
     "metadata": {},
     "output_type": "execute_result"
    }
   ],
   "source": [
    "outcome[5]\n"
   ]
  },
  {
   "cell_type": "code",
   "execution_count": 123,
   "metadata": {},
   "outputs": [
    {
     "data": {
      "text/plain": [
       "7"
      ]
     },
     "execution_count": 123,
     "metadata": {},
     "output_type": "execute_result"
    }
   ],
   "source": [
    "results = np.array([3.9444287, 4.138676 , 4.221805 , 4.414371 , 4.4964213, 4.698316 ,  4.8643365],dtype='float32')\n",
    "start = spotow_MargWay[3:-7].tail(1).index[0]\n",
    "dateList = pd.date_range(start=start,periods=7).to_numpy()\n",
    "joinedSeries = pd.Series(data=results,index=dateList)\n",
    "len(dateList)"
   ]
  },
  {
   "cell_type": "markdown",
   "metadata": {},
   "source": [
    "amerob:\n",
    "1. run1: [2.551] 2.458957, 2.472114, 2.475770, 2.677192, 3.045214, 2.251491, 2.402137 n = 7\n",
    "2. run2: [2.655] 2.482476, 2.564362, 2.557338, 2.738337, 3.200391, 2.457562, 2.509320 n = 21\n",
    "3. run3: [3.221] 2.561701, 2.617324, 2.715710, 3.185073, 3.910806, 3.548933, 3.717976 n = 14\n",
    "4. run4: [2.757] 2.647477, 2.664606, 2.711631, 2.933634, 3.188165, 2.496027, 2.599233 n = 7 bidirectional\n",
    "5. run5: [2.216] 0.385453, 0.939606, 1.419237, 1.818103, 2.423542, 2.977693, 3.646165 n = 7 note: changed interpolation method to slinear\n",
    "6. run6: [2.442] 0.468001, 1.068273, 1.803750, 2.283598, 2.770545, 3.216125, 3.727616 n = 7\n",
    "7. run7: [2.146] 0.346224, 1.057628, 1.474756, 1.910932, 2.273262, 2.820911, 3.470625 n = 7\n",
    "8. run: [2.082] 0.474444, 0.973971, 1.394103, 1.790021, 2.196929, 2.821583, 3.353662 n = 7 improved interpolation method\n",
    "9. run: [2.770] 1.373590, 0.953020, 1.333994, 2.028866, 2.949500, 3.854387, 4.632758 n = 28 stick with a lower n\n",
    "\n",
    "stejay:\n",
    "1. run: [0.234] 0.171749, 0.185661, 0.209144, 0.226055, 0.248578, 0.272514, 0.297879 n = 7 for stejay\n",
    "\n",
    "daejun:\n",
    "1. run: [1.052] 1.003830, 0.517272, 0.763046, 0.948381, 1.110182, 1.257345, 1.473364 n = 7\n",
    "\n",
    "spotow @ Margaret's Way:\n",
    "1. run: [0.702] 0.232709, 0.339712, 0.556325, 0.644979, 1.098925, 0.853708, 0.788657 n = 7 on basic model\n",
    "2. run: [0.876] 0.730321, 0.677835, 0.770073, 0.835399, 1.157776, 0.971914, 0.897609 n = 7 on encode-decode model\n",
    "3. run: [0.788] 0.544925, 0.537754, 0.656841, 0.726218, 1.098290, 0.921656, 0.865887 n = 14 on encode-decode model\n",
    "4. run: [0.648] 0.435483, 0.284990, 0.425358, 0.498536, 0.992761, 0.796883, 0.783939 n = 7 on basic model\n",
    "5. run: [0.755] 0.540210, 0.536792, 0.643041, 0.715725, 1.022832, 0.858091, 0.836813 n = 21 on encode-decode model\n",
    "6. run: [0.694] 0.515053, 0.491792, 0.575834, 0.594757, 1.018386, 0.798578, 0.713137 n = 7 on encode-decode model\n",
    "7. run: [0.640] 0.329971, 0.380803, 0.497928, 0.554324, 1.009087, 0.774420, 0.660594 n =7 LSTM sigmoid,Dense reLU"
   ]
  },
  {
   "cell_type": "code",
   "execution_count": null,
   "metadata": {},
   "outputs": [],
   "source": [
    "##TODO #94 build three-week forecasting method on top of LSTM model"
   ]
  },
  {
   "cell_type": "code",
   "execution_count": 4,
   "metadata": {},
   "outputs": [],
   "source": [
    "import matplotlib.pyplot as plt\n",
    "import seaborn as sns"
   ]
  },
  {
   "cell_type": "code",
   "execution_count": 30,
   "metadata": {},
   "outputs": [],
   "source": [
    "sns.set_theme(style='darkgrid')"
   ]
  },
  {
   "cell_type": "code",
   "execution_count": 34,
   "metadata": {},
   "outputs": [
    {
     "data": {
      "text/plain": [
       "<seaborn.axisgrid.FacetGrid at 0x191b9a01708>"
      ]
     },
     "execution_count": 34,
     "metadata": {},
     "output_type": "execute_result"
    },
    {
     "data": {
      "image/png": "[encoded data removed]",
      "text/plain": [
       "<Figure size 900x360 with 1 Axes>"
      ]
     },
     "metadata": {},
     "output_type": "display_data"
    }
   ],
   "source": [
    "lineplot = sns.relplot(data=spotow_MargWay,x='obsDt',y='howMany',kind='line',aspect=2.5)\n",
    "lineplot"
   ]
  }
 ],
 "metadata": {
  "interpreter": {
   "hash": "ce2b8b10e8082f390f0f7c9c12f304c9df3ed4554edd4b21c0fcee2d9ef65582"
  },
  "kernelspec": {
   "display_name": "Python 3.9.7 ('base')",
   "language": "python",
   "name": "python3"
  },
  "language_info": {
   "codemirror_mode": {
    "name": "ipython",
    "version": 3
   },
   "file_extension": ".py",
   "mimetype": "text/x-python",
   "name": "python",
   "nbconvert_exporter": "python",
   "pygments_lexer": "ipython3",
   "version": "3.7.12"
  },
  "orig_nbformat": 4
 },
 "nbformat": 4,
 "nbformat_minor": 2
}
