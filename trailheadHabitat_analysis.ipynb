{
 "cells": [
  {
   "cell_type": "code",
   "execution_count": 45,
   "metadata": {},
   "outputs": [],
   "source": [
    "import pandas as pd\n",
    "import numpy as np\n",
    "import matplotlib.pyplot as plt\n",
    "import seaborn as sns\n",
    "import statsmodels.api as sm\n",
    "import datetime as dt\n",
    "import sqlite3 as db\n",
    "import matplotlib.pyplot as pp"
   ]
  },
  {
   "cell_type": "code",
   "execution_count": 2,
   "metadata": {},
   "outputs": [],
   "source": [
    "github_userName = 'Tanag3r'\n",
    "ebird_token = 'j6c7l80ga2ib'\n",
    "db_name = 'trailheadDirectBirds_sous.db'"
   ]
  },
  {
   "cell_type": "code",
   "execution_count": 3,
   "metadata": {},
   "outputs": [],
   "source": [
    "##connect to database\n",
    "def connectDB():\n",
    "    try:\n",
    "        cnx = db.connect(db_name)\n",
    "    except Exception as cnxError:\n",
    "        raise UserWarning(f'Unable to connect to database due to: {cnxError}')\n",
    "    return cnx"
   ]
  },
  {
   "cell_type": "code",
   "execution_count": 57,
   "metadata": {},
   "outputs": [],
   "source": [
    "def weeklyAbundance():\n",
    "    cnx = connectDB()\n",
    "    try:\n",
    "        ObsDataset = pd.read_sql('SELECT comName,locId,obsDt,howMany,subId FROM historicObservations WHERE comName == \"Canada Jay\";',con=cnx,parse_dates=['obsDt']) #Canada Jay filter is for testing purposes only\n",
    "        ObsDataset['obsDt_week'] = ObsDataset['obsDt'].dt.isocalendar().week\n",
    "        #group up data\n",
    "        ObsDataset = ObsDataset.groupby(['comName','locId','obsDt_week'])['howMany'].median()\n",
    "        ObsDataset = pd.DataFrame(ObsDataset)\n",
    "        ObsDataset['relativeAbundance'] = ObsDataset['howMany']/ObsDataset['howMany'].mean()\n",
    "        ObsDataset.sort_values(by=['comName','obsDt_week'],ascending=True,inplace=True)   #not needed\n",
    "        ObsDataset.reset_index(inplace=True)   #not needed\n",
    "    except Exception as calcEx:\n",
    "        raise UserWarning(calcEx)\n",
    "    return ObsDataset"
   ]
  },
  {
   "cell_type": "code",
   "execution_count": 58,
   "metadata": {},
   "outputs": [
    {
     "data": {
      "text/html": [
       "<div>\n",
       "<style scoped>\n",
       "    .dataframe tbody tr th:only-of-type {\n",
       "        vertical-align: middle;\n",
       "    }\n",
       "\n",
       "    .dataframe tbody tr th {\n",
       "        vertical-align: top;\n",
       "    }\n",
       "\n",
       "    .dataframe thead th {\n",
       "        text-align: right;\n",
       "    }\n",
       "</style>\n",
       "<table border=\"1\" class=\"dataframe\">\n",
       "  <thead>\n",
       "    <tr style=\"text-align: right;\">\n",
       "      <th></th>\n",
       "      <th>comName</th>\n",
       "      <th>locId</th>\n",
       "      <th>obsDt_week</th>\n",
       "      <th>howMany</th>\n",
       "      <th>relativeAbundance</th>\n",
       "    </tr>\n",
       "  </thead>\n",
       "  <tbody>\n",
       "    <tr>\n",
       "      <th>0</th>\n",
       "      <td>Canada Jay</td>\n",
       "      <td>L8312096</td>\n",
       "      <td>1</td>\n",
       "      <td>1.0</td>\n",
       "      <td>0.282051</td>\n",
       "    </tr>\n",
       "    <tr>\n",
       "      <th>1</th>\n",
       "      <td>Canada Jay</td>\n",
       "      <td>L12172834</td>\n",
       "      <td>10</td>\n",
       "      <td>6.0</td>\n",
       "      <td>1.692308</td>\n",
       "    </tr>\n",
       "    <tr>\n",
       "      <th>2</th>\n",
       "      <td>Canada Jay</td>\n",
       "      <td>L12172834</td>\n",
       "      <td>11</td>\n",
       "      <td>2.0</td>\n",
       "      <td>0.564103</td>\n",
       "    </tr>\n",
       "    <tr>\n",
       "      <th>3</th>\n",
       "      <td>Canada Jay</td>\n",
       "      <td>L10129014</td>\n",
       "      <td>13</td>\n",
       "      <td>4.0</td>\n",
       "      <td>1.128205</td>\n",
       "    </tr>\n",
       "    <tr>\n",
       "      <th>4</th>\n",
       "      <td>Canada Jay</td>\n",
       "      <td>L12172834</td>\n",
       "      <td>40</td>\n",
       "      <td>7.0</td>\n",
       "      <td>1.974359</td>\n",
       "    </tr>\n",
       "    <tr>\n",
       "      <th>5</th>\n",
       "      <td>Canada Jay</td>\n",
       "      <td>L12172834</td>\n",
       "      <td>49</td>\n",
       "      <td>2.0</td>\n",
       "      <td>0.564103</td>\n",
       "    </tr>\n",
       "    <tr>\n",
       "      <th>6</th>\n",
       "      <td>Canada Jay</td>\n",
       "      <td>L8312096</td>\n",
       "      <td>49</td>\n",
       "      <td>1.0</td>\n",
       "      <td>0.282051</td>\n",
       "    </tr>\n",
       "    <tr>\n",
       "      <th>7</th>\n",
       "      <td>Canada Jay</td>\n",
       "      <td>L12172834</td>\n",
       "      <td>52</td>\n",
       "      <td>4.0</td>\n",
       "      <td>1.128205</td>\n",
       "    </tr>\n",
       "    <tr>\n",
       "      <th>8</th>\n",
       "      <td>Canada Jay</td>\n",
       "      <td>L424117</td>\n",
       "      <td>52</td>\n",
       "      <td>3.0</td>\n",
       "      <td>0.846154</td>\n",
       "    </tr>\n",
       "    <tr>\n",
       "      <th>9</th>\n",
       "      <td>Canada Jay</td>\n",
       "      <td>L8312096</td>\n",
       "      <td>52</td>\n",
       "      <td>1.0</td>\n",
       "      <td>0.282051</td>\n",
       "    </tr>\n",
       "    <tr>\n",
       "      <th>10</th>\n",
       "      <td>Canada Jay</td>\n",
       "      <td>L12172834</td>\n",
       "      <td>53</td>\n",
       "      <td>8.0</td>\n",
       "      <td>2.256410</td>\n",
       "    </tr>\n",
       "  </tbody>\n",
       "</table>\n",
       "</div>"
      ],
      "text/plain": [
       "       comName      locId  obsDt_week  howMany  relativeAbundance\n",
       "0   Canada Jay   L8312096           1      1.0           0.282051\n",
       "1   Canada Jay  L12172834          10      6.0           1.692308\n",
       "2   Canada Jay  L12172834          11      2.0           0.564103\n",
       "3   Canada Jay  L10129014          13      4.0           1.128205\n",
       "4   Canada Jay  L12172834          40      7.0           1.974359\n",
       "5   Canada Jay  L12172834          49      2.0           0.564103\n",
       "6   Canada Jay   L8312096          49      1.0           0.282051\n",
       "7   Canada Jay  L12172834          52      4.0           1.128205\n",
       "8   Canada Jay    L424117          52      3.0           0.846154\n",
       "9   Canada Jay   L8312096          52      1.0           0.282051\n",
       "10  Canada Jay  L12172834          53      8.0           2.256410"
      ]
     },
     "execution_count": 58,
     "metadata": {},
     "output_type": "execute_result"
    }
   ],
   "source": [
    "trx = weeklyAbundance()\n",
    "trx"
   ]
  },
  {
   "cell_type": "code",
   "execution_count": 59,
   "metadata": {},
   "outputs": [
    {
     "data": {
      "text/plain": [
       "[<matplotlib.lines.Line2D at 0x1db4e0e8190>]"
      ]
     },
     "execution_count": 59,
     "metadata": {},
     "output_type": "execute_result"
    },
    {
     "data": {
      "image/png": "[encoded data removed]",
      "text/plain": [
       "<Figure size 432x288 with 1 Axes>"
      ]
     },
     "metadata": {
      "needs_background": "light"
     },
     "output_type": "display_data"
    }
   ],
   "source": [
    "##TODO #67 interpolate sighting values into the test Canada Jay dataset\n",
    "xdata = trx['obsDt_week']\n",
    "ydata = trx['relativeAbundance']\n",
    "\n",
    "pp.plot(xdata,ydata,'--o')"
   ]
  },
  {
   "cell_type": "code",
   "execution_count": null,
   "metadata": {},
   "outputs": [],
   "source": [
    "##TODO #66 split out birds into quartiles based on the number of observations available and the YOY frequency. Results will determine the strength of forecasting required"
   ]
  },
  {
   "cell_type": "code",
   "execution_count": null,
   "metadata": {},
   "outputs": [],
   "source": [
    "##TODO #64 using the relative abundance value from weeklyAbundance(), write a function that returns FAO land coverage preference"
   ]
  },
  {
   "cell_type": "code",
   "execution_count": null,
   "metadata": {},
   "outputs": [],
   "source": [
    "##TODO #65 using historic habitat preference data, forecast the seasonal habitat preference for each species of bird"
   ]
  }
 ],
 "metadata": {
  "interpreter": {
   "hash": "ce2b8b10e8082f390f0f7c9c12f304c9df3ed4554edd4b21c0fcee2d9ef65582"
  },
  "kernelspec": {
   "display_name": "Python 3.9.7 ('base')",
   "language": "python",
   "name": "python3"
  },
  "language_info": {
   "codemirror_mode": {
    "name": "ipython",
    "version": 3
   },
   "file_extension": ".py",
   "mimetype": "text/x-python",
   "name": "python",
   "nbconvert_exporter": "python",
   "pygments_lexer": "ipython3",
   "version": "3.9.7"
  },
  "orig_nbformat": 4
 },
 "nbformat": 4,
 "nbformat_minor": 2
}
