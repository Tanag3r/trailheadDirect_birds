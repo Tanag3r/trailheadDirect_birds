{
 "cells": [
  {
   "cell_type": "code",
   "execution_count": 1,
   "metadata": {},
   "outputs": [],
   "source": [
    "import pandas as pd\n",
    "import numpy as np\n",
    "import matplotlib.pyplot as plt\n",
    "import seaborn as sns\n",
    "import statsmodels.api as sm\n",
    "import datetime as dt\n",
    "import sqlite3 as db"
   ]
  },
  {
   "cell_type": "code",
   "execution_count": 2,
   "metadata": {},
   "outputs": [],
   "source": [
    "github_userName = 'Tanag3r'\n",
    "ebird_token = 'j6c7l80ga2ib'\n",
    "db_name = 'trailheadDirectBirds_sous.db'"
   ]
  },
  {
   "cell_type": "code",
   "execution_count": 3,
   "metadata": {},
   "outputs": [],
   "source": [
    "##connect to database\n",
    "def connectDB():\n",
    "    try:\n",
    "        cnx = db.connect(db_name)\n",
    "    except Exception as cnxError:\n",
    "        raise UserWarning(f'Unable to connect to database due to: {cnxError}')\n",
    "    return cnx"
   ]
  },
  {
   "cell_type": "code",
   "execution_count": 38,
   "metadata": {},
   "outputs": [],
   "source": [
    "def weeklyAbundance():\n",
    "    cnx = connectDB()\n",
    "    try:\n",
    "        ObsDataset = pd.read_sql('SELECT comName,locId,obsDt,howMany,subId FROM historicObservations WHERE comName == \"Canada Jay\";',con=cnx,parse_dates=['obsDt']) #Canada Jay filter is for testing purposes only\n",
    "        ##add month,year and week of year\n",
    "        #ObsDataset['obsDt_year'] = pd.DatetimeIndex(ObsDataset['obsDt']).year\n",
    "        #ObsDataset['obsDt_month'] = pd.DatetimeIndex(ObsDataset['obsDt']).month\n",
    "        ObsDataset['obsDt_week'] = ObsDataset['obsDt'].dt.isocalendar().week\n",
    "        #group up data\n",
    "        ObsDataset = ObsDataset.groupby(['comName','locId','obsDt_week'])['howMany'].median()\n",
    "        ObsDataset = pd.DataFrame(ObsDataset)\n",
    "        ObsDataset['relativeAbundance'] = ObsDataset['howMany']/ObsDataset['howMany'].mean()\n",
    "        ObsDataset.sort_values(by=['comName','locId','obsDt_week'],ascending=True,inplace=True)\n",
    "    except Exception as calcEx:\n",
    "        raise UserWarning(calcEx)\n",
    "    return ObsDataset"
   ]
  },
  {
   "cell_type": "code",
   "execution_count": 39,
   "metadata": {},
   "outputs": [
    {
     "data": {
      "text/html": [
       "<div>\n",
       "<style scoped>\n",
       "    .dataframe tbody tr th:only-of-type {\n",
       "        vertical-align: middle;\n",
       "    }\n",
       "\n",
       "    .dataframe tbody tr th {\n",
       "        vertical-align: top;\n",
       "    }\n",
       "\n",
       "    .dataframe thead th {\n",
       "        text-align: right;\n",
       "    }\n",
       "</style>\n",
       "<table border=\"1\" class=\"dataframe\">\n",
       "  <thead>\n",
       "    <tr style=\"text-align: right;\">\n",
       "      <th></th>\n",
       "      <th></th>\n",
       "      <th></th>\n",
       "      <th>howMany</th>\n",
       "      <th>relativeAbundance</th>\n",
       "    </tr>\n",
       "    <tr>\n",
       "      <th>comName</th>\n",
       "      <th>locId</th>\n",
       "      <th>obsDt_week</th>\n",
       "      <th></th>\n",
       "      <th></th>\n",
       "    </tr>\n",
       "  </thead>\n",
       "  <tbody>\n",
       "    <tr>\n",
       "      <th rowspan=\"11\" valign=\"top\">Canada Jay</th>\n",
       "      <th>L10129014</th>\n",
       "      <th>13</th>\n",
       "      <td>4.0</td>\n",
       "      <td>1.128205</td>\n",
       "    </tr>\n",
       "    <tr>\n",
       "      <th rowspan=\"6\" valign=\"top\">L12172834</th>\n",
       "      <th>10</th>\n",
       "      <td>6.0</td>\n",
       "      <td>1.692308</td>\n",
       "    </tr>\n",
       "    <tr>\n",
       "      <th>11</th>\n",
       "      <td>2.0</td>\n",
       "      <td>0.564103</td>\n",
       "    </tr>\n",
       "    <tr>\n",
       "      <th>40</th>\n",
       "      <td>7.0</td>\n",
       "      <td>1.974359</td>\n",
       "    </tr>\n",
       "    <tr>\n",
       "      <th>49</th>\n",
       "      <td>2.0</td>\n",
       "      <td>0.564103</td>\n",
       "    </tr>\n",
       "    <tr>\n",
       "      <th>52</th>\n",
       "      <td>4.0</td>\n",
       "      <td>1.128205</td>\n",
       "    </tr>\n",
       "    <tr>\n",
       "      <th>53</th>\n",
       "      <td>8.0</td>\n",
       "      <td>2.256410</td>\n",
       "    </tr>\n",
       "    <tr>\n",
       "      <th>L424117</th>\n",
       "      <th>52</th>\n",
       "      <td>3.0</td>\n",
       "      <td>0.846154</td>\n",
       "    </tr>\n",
       "    <tr>\n",
       "      <th rowspan=\"3\" valign=\"top\">L8312096</th>\n",
       "      <th>1</th>\n",
       "      <td>1.0</td>\n",
       "      <td>0.282051</td>\n",
       "    </tr>\n",
       "    <tr>\n",
       "      <th>49</th>\n",
       "      <td>1.0</td>\n",
       "      <td>0.282051</td>\n",
       "    </tr>\n",
       "    <tr>\n",
       "      <th>52</th>\n",
       "      <td>1.0</td>\n",
       "      <td>0.282051</td>\n",
       "    </tr>\n",
       "  </tbody>\n",
       "</table>\n",
       "</div>"
      ],
      "text/plain": [
       "                                 howMany  relativeAbundance\n",
       "comName    locId     obsDt_week                            \n",
       "Canada Jay L10129014 13              4.0           1.128205\n",
       "           L12172834 10              6.0           1.692308\n",
       "                     11              2.0           0.564103\n",
       "                     40              7.0           1.974359\n",
       "                     49              2.0           0.564103\n",
       "                     52              4.0           1.128205\n",
       "                     53              8.0           2.256410\n",
       "           L424117   52              3.0           0.846154\n",
       "           L8312096  1               1.0           0.282051\n",
       "                     49              1.0           0.282051\n",
       "                     52              1.0           0.282051"
      ]
     },
     "execution_count": 39,
     "metadata": {},
     "output_type": "execute_result"
    }
   ],
   "source": [
    "trx = weeklyAbundance()\n",
    "trx"
   ]
  }
 ],
 "metadata": {
  "interpreter": {
   "hash": "ce2b8b10e8082f390f0f7c9c12f304c9df3ed4554edd4b21c0fcee2d9ef65582"
  },
  "kernelspec": {
   "display_name": "Python 3.9.7 ('base')",
   "language": "python",
   "name": "python3"
  },
  "language_info": {
   "codemirror_mode": {
    "name": "ipython",
    "version": 3
   },
   "file_extension": ".py",
   "mimetype": "text/x-python",
   "name": "python",
   "nbconvert_exporter": "python",
   "pygments_lexer": "ipython3",
   "version": "3.9.7"
  },
  "orig_nbformat": 4
 },
 "nbformat": 4,
 "nbformat_minor": 2
}
