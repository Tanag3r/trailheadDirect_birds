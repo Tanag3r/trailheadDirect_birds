{
 "cells": [
  {
   "cell_type": "code",
   "execution_count": 416,
   "metadata": {},
   "outputs": [],
   "source": [
    "import pandas as pd\n",
    "import numpy as np\n",
    "import matplotlib.pyplot as plt\n",
    "import seaborn as sns\n",
    "import statsmodels.api as sm\n",
    "import datetime as dt\n",
    "import sqlite3 as db\n",
    "#import geopy\n",
    "import matplotlib.pyplot as plt\n",
    "from sklearn.metrics import r2_score"
   ]
  },
  {
   "cell_type": "code",
   "execution_count": 92,
   "metadata": {},
   "outputs": [],
   "source": [
    "github_userName = 'Tanag3r'\n",
    "ebird_token = 'j6c7l80ga2ib'\n",
    "db_name = 'trailheadDirectBirds_sous.db'"
   ]
  },
  {
   "cell_type": "code",
   "execution_count": 93,
   "metadata": {},
   "outputs": [],
   "source": [
    "##connect to database\n",
    "def connectDB():\n",
    "    try:\n",
    "        cnx = db.connect(db_name)\n",
    "    except Exception as cnxError:\n",
    "        raise UserWarning(f'Unable to connect to database due to: {cnxError}')\n",
    "    return cnx"
   ]
  },
  {
   "cell_type": "code",
   "execution_count": 66,
   "metadata": {},
   "outputs": [],
   "source": [
    "def stopQualityMask(comName: str,closestStop: str):\n",
    "    cnx = connectDB()\n",
    "    try:\n",
    "        gap = dt.date.today().year-2018\n",
    "        query = f'SELECT COUNT(DISTINCT(year)) as \"frq\" FROM coefficients_bySpecies WHERE comName = \"{comName}\" AND closestStop = \"{closestStop}\"'\n",
    "        coeficients = pd.read_sql(query,con=cnx)\n",
    "        coeficients['frq'] = coeficients.apply(lambda g: (g.frq/gap),axis=1)\n",
    "    except Exception as maskExc:\n",
    "        raise maskExc\n",
    "    return coeficients['frq']"
   ]
  },
  {
   "cell_type": "code",
   "execution_count": 425,
   "metadata": {},
   "outputs": [],
   "source": [
    "def weeklyAbundance():\n",
    "    cnx = connectDB()\n",
    "    try:\n",
    "        #note that the query filters out birds only seen by two people\n",
    "        ObsDataset = pd.read_sql('SELECT comName,FX.locId,StopName,obsDt,howMany,subId FROM historicObservations AS FX  LEFT JOIN closestStop on FX.locId = closestStop.locId WHERE (SELECT count(distinct(subId)) FROM historicObservations AS QA WHERE QA.comName = FX.comName) > 2 AND FX.comName in (\"Canada Jay\",\"Ruby-crowned Kinglet\",\"Golden-crowned Kinglet\");',con=cnx,parse_dates=['obsDt']) #Canada Jay filter is for testing purposes only\n",
    "        ObsDataset['obsDt_week'] = ObsDataset['obsDt'].dt.isocalendar().week\n",
    "        ObsDataset['howMany'] = ObsDataset['howMany'].fillna(1)\n",
    "        #group up data\n",
    "        ObsDataset = ObsDataset.groupby(['comName','StopName','locId','obsDt_week'])['howMany'].mean().reset_index()\n",
    "        maxCount = ObsDataset.groupby(['comName'])['howMany'].max()\n",
    "        #calculations\n",
    "        ObsDataset['relativeAbundance'] = ObsDataset.apply(lambda x: (x.howMany/(maxCount[x.comName])),axis=1)  #baseline\n",
    "        ObsDataset['relativeAbundance'] = ObsDataset.apply(lambda f: stopQualityMask(f.comName,f.StopName)*f.relativeAbundance,axis=1)  #apply frequency mask\n",
    "        maxAbd = ObsDataset.groupby(['comName'])['relativeAbundance'].max() #max abundance value by species\n",
    "        ObsDataset['relativeAbundance'] = ObsDataset.apply(lambda n: (n.relativeAbundance/(maxAbd[n.comName])),axis=1)  #normalize\n",
    "        ObsDataset.sort_values(by=['comName','obsDt_week'],ascending=True,inplace=True)\n",
    "    except Exception as calcEx:\n",
    "        raise calcEx\n",
    "    finally: cnx.close()\n",
    "    return ObsDataset[['comName','StopName','obsDt_week','locId','relativeAbundance']]"
   ]
  },
  {
   "cell_type": "code",
   "execution_count": 492,
   "metadata": {},
   "outputs": [],
   "source": [
    "##TODO #82 write a function that returns a dataframe of the annual relative abundance for a given list of birds\n",
    "##TODO #84 add StopName as an optional argument for the function wklyAbd_setSpecies()\n",
    "\n",
    "def wklyAbd_setSpecies(speciesList: list):\n",
    "    cnx=connectDB()\n",
    "    try:\n",
    "        querySpecies = \",\".join(speciesList)\n",
    "        ##todo #83 write an exception to convert non-string speciesList values to strings that returns the db.error if the strings do not represent columns\n",
    "        query = f'SELECT comName,FX.locId,StopName,obsDt,howMany FROM historicObservations AS FX  LEFT JOIN closestStop on FX.locId = closestStop.locId WHERE (SELECT count(distinct(subId)) FROM historicObservations AS QA WHERE QA.comName = FX.comName) > 2 AND FX.comName in ({querySpecies});'\n",
    "        obsData = pd.read_sql(query,con=cnx,parse_dates=['obsDt'])\n",
    "        obsData = obsData.assign(obsDt_week=obsData.obsDt.dt.isocalendar().week)\n",
    "        obsData['howMany'].fillna(1,inplace=True)\n",
    "        obsData = obsData.groupby(['comName','StopName','obsDt_week'])['howMany'].mean().reset_index()\n",
    "        maxCount = obsData.groupby(['comName'])['howMany'].max()\n",
    "        #derive relative abundance\n",
    "        obsData['relativeAbundance'] = obsData.apply(lambda x: (x.howMany/(maxCount[x.comName])),axis=1)  #baseline\n",
    "        obsData['relativeAbundance'] = obsData.apply(lambda f: stopQualityMask(f.comName,f.StopName)*f.relativeAbundance,axis=1)  #apply frequency mask\n",
    "        maxAbd = obsData.groupby(['comName'])['relativeAbundance'].max() #max abundance value by species\n",
    "        obsData['relativeAbundance'] = obsData.apply(lambda n: (n.relativeAbundance/(maxAbd[n.comName])),axis=1)  #normalize\n",
    "        #apply absence smoothing mask\n",
    "        list = []\n",
    "        obsData = obsData.groupby(['comName','obsDt_week'])['relativeAbundance'].mean().reset_index()\n",
    "        speciesKeys = obsData.drop_duplicates(subset=['comName'])\n",
    "        for comName in speciesKeys.itertuples():\n",
    "            species_obsData = obsData[obsData['comName']==comName.comName]\n",
    "            weekMin = (species_obsData['obsDt_week'].min()-8)\n",
    "            if weekMin <= 0: weekMin = 1\n",
    "            weekMax = (species_obsData['obsDt_week'].max()+8)\n",
    "            if weekMax > 53: weekMax = 53\n",
    "            allweek = pd.DataFrame({'obsDt_week':range(weekMin,weekMax)})\n",
    "            species_obsData = pd.merge(left=species_obsData,right=allweek,left_on='obsDt_week',right_on='obsDt_week',how='outer')\n",
    "            species_obsData.set_index('obsDt_week',inplace=True)\n",
    "            species_obsData.sort_index(axis='index',ascending=True,inplace=True)\n",
    "            species_obsData['mask'] = species_obsData['relativeAbundance'].interpolate(method='index',limit=5,limit_direction='both')  #mask, values do not matter\n",
    "            species_obsData.loc[species_obsData['mask'].isna() == True,'relativeAbundance'] = 0\n",
    "            species_obsData.reset_index(inplace=True)\n",
    "            list.append(species_obsData)\n",
    "        weeklySpeciesAbd = pd.DataFrame()\n",
    "        weeklyAbundance = pd.concat(list,ignore_index=True)\n",
    "    except db.DatabaseError as dbExc:\n",
    "        raise f'there was an issue with the database request: {dbExc}'\n",
    "    except Exception as ex:\n",
    "        raise ex\n",
    "    return weeklyAbundance"
   ]
  },
  {
   "cell_type": "code",
   "execution_count": 493,
   "metadata": {},
   "outputs": [],
   "source": [
    "trx = wklyAbd_setSpecies(speciesList=['\"Fox Sparrow\"','\"Golden-crowned Kinglet\"','\"Canada Jay\"','\"Ruby-crowned Kinglet\"'])"
   ]
  },
  {
   "cell_type": "code",
   "execution_count": null,
   "metadata": {},
   "outputs": [],
   "source": [
    "##TODO #80 develop a reference model for birds present in winter and early spring that returns a list of species that fit the model\n",
    "##TODO #81 write a function that tests the fit of each species' observerd smoothed relative abundance against each model, then returns a model\n",
    "\n",
    "#winter abundance model\n",
    "\n"
   ]
  },
  {
   "cell_type": "code",
   "execution_count": 494,
   "metadata": {},
   "outputs": [
    {
     "data": {
      "text/plain": [
       "<seaborn.axisgrid.FacetGrid at 0x27230149a30>"
      ]
     },
     "execution_count": 494,
     "metadata": {},
     "output_type": "execute_result"
    },
    {
     "data": {
      "image/png": "[encoded data removed]",
      "text/plain": [
       "<Figure size 735.225x360 with 1 Axes>"
      ]
     },
     "metadata": {
      "needs_background": "light"
     },
     "output_type": "display_data"
    }
   ],
   "source": [
    "sns.relplot(data=trx,hue='comName',x='obsDt_week',y='relativeAbundance',aspect=1.61)\n"
   ]
  },
  {
   "cell_type": "code",
   "execution_count": 497,
   "metadata": {},
   "outputs": [
    {
     "data": {
      "text/plain": [
       "<seaborn.axisgrid.FacetGrid at 0x2723011a760>"
      ]
     },
     "execution_count": 497,
     "metadata": {},
     "output_type": "execute_result"
    },
    {
     "data": {
      "image/png": "[encoded data removed]",
      "text/plain": [
       "<Figure size 735.225x360 with 1 Axes>"
      ]
     },
     "metadata": {
      "needs_background": "light"
     },
     "output_type": "display_data"
    }
   ],
   "source": [
    "sns.lmplot(data=trx,x='obsDt_week',y='relativeAbundance',order=3,scatter_kws={'s':80},ci=None,hue='comName',aspect=1.61)"
   ]
  },
  {
   "cell_type": "markdown",
   "metadata": {},
   "source": [
    "Forecasting Architecture:\n",
    "\n",
    "- Reference models group birds based on expressed habitat preference, seasonality and rolling volume. Where neccessary, linear interpolation is applied to the reference models to reasonabily fill in gaps. The strength (re:limit value) of this interpolation and the accompanying mask is determined by rarity. Each bird+stop combination is assigned a reference model.\n",
    "- R-squared testing assigns an interpolation method to each bird+stop combination to estimate the relative abundance of a bird at each stop based off of the given relative abundance and the reference model group\n",
    "- Dependent forecasting uses existing relative abundance values to make inferences about relative abundance and habitat preference using a baseline of known values/sightings\n",
    "- Independent forecasting projects the habitat preference of each bird over the habitat makeup of each stop, ignoring the sightings used to confirm the dependent forecasting model. For example: although there are not any Canada Jay sightings logged at Mt. Si, the habitat makeup of that stop correlates (Spearman rank) with the Canada Jay's preferred late-season habitat"
   ]
  },
  {
   "cell_type": "code",
   "execution_count": null,
   "metadata": {},
   "outputs": [],
   "source": [
    "##TODO #77 identify birds that express seasonality/can only be found in the observed regions during specific times of year to inform the method of interpolation"
   ]
  },
  {
   "cell_type": "code",
   "execution_count": 369,
   "metadata": {},
   "outputs": [],
   "source": [
    "##TODO #79 add 'StopName' as a loop layer to the relative abundance forecasting --DONE\n",
    "def forecast_weeklyAbd():\n",
    "    realObsAbd = weeklyAbundance()\n",
    "    try:\n",
    "        keyList = realObsAbd.drop_duplicates(subset=['comName','StopName'])\n",
    "        realObsAbd = realObsAbd.groupby(['comName','StopName','obsDt_week'])['relativeAbundance'].mean().reset_index()\n",
    "        forecastList = []\n",
    "        for comName in keyList.itertuples():\n",
    "            #species = pd.DataFrame(keyList[keyList['comName'] == comName.comName])\n",
    "            obsAbd = realObsAbd[realObsAbd['comName'] == comName.comName]\n",
    "            obsAbd = obsAbd[obsAbd['StopName'] == comName.StopName]\n",
    "    #build presence time series scope\n",
    "            weekMin = (obsAbd['obsDt_week'].min()-8)\n",
    "            if weekMin <= 0: weekMin = 1\n",
    "            weekMax = (obsAbd['obsDt_week'].max()+8)\n",
    "            if weekMax > 53: weekMax = 53\n",
    "            allweek = pd.DataFrame({'obsDt_week':range(weekMin,weekMax)})\n",
    "            obsAbd.drop(columns=['comName','StopName'],inplace=True)\n",
    "            ptForxt = pd.merge(left=obsAbd,right=allweek,left_on='obsDt_week',right_on='obsDt_week',how='outer')\n",
    "            ptForxt.set_index('obsDt_week',inplace=True)\n",
    "            ptForxt.sort_index(axis='index',ascending=True,inplace=True)\n",
    "    #mask in seasonality, where there are no birds present in the observed location\n",
    "            ptForxt['mask'] = ptForxt['relativeAbundance'].interpolate(method='index',limit=5,limit_direction='both')  #mask, values do not matter\n",
    "            ptForxt.loc[ptForxt['mask'].isna() == True,'relativeAbundance'] = 0\n",
    "            ptForxt['forecastAbd'] = ptForxt['relativeAbundance'].interpolate(method='polynomial',order=5,limit=5,limit_direction='both')   #real forecast\n",
    "            ptForxt['comName'] = comName.comName\n",
    "            ptForxt['StopName'] = comName.StopName\n",
    "            ptForxt = ptForxt.reset_index()\n",
    "            forecastList.append(ptForxt)\n",
    "        seasonalAbd = pd.DataFrame()\n",
    "        seasonalAbd = pd.DataFrame(pd.concat(forecastList,ignore_index=True))\n",
    "    except Exception as abdForxExc:\n",
    "        raise abdForxExc\n",
    "    return seasonalAbd"
   ]
  },
  {
   "cell_type": "code",
   "execution_count": 370,
   "metadata": {},
   "outputs": [],
   "source": [
    "forx = forecast_weeklyAbd()"
   ]
  },
  {
   "cell_type": "code",
   "execution_count": 390,
   "metadata": {},
   "outputs": [],
   "source": [
    "##TODO #78 calculate R2 scores for each relative abundance interpolation method\n",
    "\n",
    "forecast = forx[['comName','StopName','obsDt_week','relativeAbundance']]\n",
    "forecast = forecast[forecast['comName']=='Canada Jay']\n",
    "forecast = forecast[forecast['StopName']=='ChiricoTrail_PooPooPoint']\n",
    "forecast.set_index('obsDt_week',inplace=True)\n"
   ]
  },
  {
   "cell_type": "code",
   "execution_count": 381,
   "metadata": {},
   "outputs": [],
   "source": [
    "from sklearn.metrics import r2_score"
   ]
  },
  {
   "cell_type": "code",
   "execution_count": 403,
   "metadata": {},
   "outputs": [],
   "source": [
    "forecast = forecast.assign(fillMean=forecast.relativeAbundance.fillna(forecast.relativeAbundance.mean()))\n",
    "forecast = forecast.assign(fillMedian=forecast.relativeAbundance.fillna(forecast.relativeAbundance.median()))\n",
    "forecast = forecast.assign(linear=forecast.relativeAbundance.interpolate(method='linear',limit=5,limit_direction='both'))\n",
    "forecast = forecast.assign(splineThree=forecast.relativeAbundance.interpolate(method='spline',order=3,limit=5,limit_direction='both'))\n",
    "forecast = forecast.assign(polynomialThree=forecast.relativeAbundance.interpolate(method='polynomial',order=3,limit=5,limit_direction='both'))\n",
    "forecast = forecast.assign(polynomialFive=forecast.relativeAbundance.interpolate(method='polynomial',order=5,limit=5,limit_direction='both'))"
   ]
  },
  {
   "cell_type": "code",
   "execution_count": 405,
   "metadata": {},
   "outputs": [
    {
     "data": {
      "text/html": [
       "<div>\n",
       "<style scoped>\n",
       "    .dataframe tbody tr th:only-of-type {\n",
       "        vertical-align: middle;\n",
       "    }\n",
       "\n",
       "    .dataframe tbody tr th {\n",
       "        vertical-align: top;\n",
       "    }\n",
       "\n",
       "    .dataframe thead th {\n",
       "        text-align: right;\n",
       "    }\n",
       "</style>\n",
       "<table border=\"1\" class=\"dataframe\">\n",
       "  <thead>\n",
       "    <tr style=\"text-align: right;\">\n",
       "      <th></th>\n",
       "      <th>Method</th>\n",
       "      <th>r_squared</th>\n",
       "    </tr>\n",
       "  </thead>\n",
       "  <tbody>\n",
       "    <tr>\n",
       "      <th>0</th>\n",
       "      <td>linear</td>\n",
       "      <td>1.0</td>\n",
       "    </tr>\n",
       "    <tr>\n",
       "      <th>1</th>\n",
       "      <td>splineThree</td>\n",
       "      <td>0.43094248847845873</td>\n",
       "    </tr>\n",
       "    <tr>\n",
       "      <th>2</th>\n",
       "      <td>splineFive</td>\n",
       "      <td>-32.29752234089802</td>\n",
       "    </tr>\n",
       "    <tr>\n",
       "      <th>3</th>\n",
       "      <td>polynomialThree</td>\n",
       "      <td>-8.878357622059019</td>\n",
       "    </tr>\n",
       "    <tr>\n",
       "      <th>4</th>\n",
       "      <td>polynomialFive</td>\n",
       "      <td>-32.29752234089802</td>\n",
       "    </tr>\n",
       "  </tbody>\n",
       "</table>\n",
       "</div>"
      ],
      "text/plain": [
       "            Method            r_squared\n",
       "0           linear                  1.0\n",
       "1      splineThree  0.43094248847845873\n",
       "2       splineFive   -32.29752234089802\n",
       "3  polynomialThree   -8.878357622059019\n",
       "4   polynomialFive   -32.29752234089802"
      ]
     },
     "execution_count": 405,
     "metadata": {},
     "output_type": "execute_result"
    }
   ],
   "source": [
    "results = [(method,r2_score(forecast.linear,forecast[method])) for method in list(forecast)[6:]]\n",
    "results_df = pd.DataFrame(np.array(results),columns=['Method','r_squared'])\n",
    "results_df.sort_values(by='r_squared',ascending=False)\n",
    "results_df"
   ]
  },
  {
   "cell_type": "code",
   "execution_count": null,
   "metadata": {},
   "outputs": [],
   "source": [
    "##TODO #66 split out birds into quartiles based on the number of observations available and the YOY frequency. Results will determine the strength of forecasting required"
   ]
  },
  {
   "cell_type": "code",
   "execution_count": 406,
   "metadata": {},
   "outputs": [],
   "source": [
    "##TODO #64 using the relative abundance value from weeklyAbundance(), write a function that returns FAO land coverage preference --DONE\n",
    "##TODO #68 add seasons to relative abundance function, then add in a loop over each season in the function seasonalHabitatPreference\n",
    "def seasonalHabitatPref():\n",
    "    cnx = connectDB()\n",
    "    try:\n",
    "        wklyAbd = weeklyAbundance()\n",
    "        #start season loop here\n",
    "        rawList = []\n",
    "        for locId in wklyAbd.itertuples():\n",
    "            query = f'SELECT Barren,Urban,Grasslands,Savannas,waterBodies,evergreenNeedleleafForest,evergreenBroadleafForests,openForests,mixedBroadleafandNeedleleafForests,sparseForests,denseHerbaceous,sparseHerbaceous FROM FAO_by_locId WHERE FAO_by_locId.locId = \"{locId.locId}\"'\n",
    "            lx = pd.read_sql(query,con=cnx)\n",
    "            lx = lx.applymap(lambda x: locId.relativeAbundance*x,na_action='ignore')\n",
    "            lx = lx.assign(comName=locId.comName)\n",
    "            lx = lx.assign(obsDt_week=locId.obsDt_week)\n",
    "            #lx['comName'] = locId.comName\n",
    "            #lx['obsDt_week'] = locId.obsDt_week\n",
    "            rawList.append(lx)\n",
    "        results = pd.DataFrame()\n",
    "        results = pd.concat(rawList,ignore_index=True)\n",
    "        results = results.groupby(['comName','obsDt_week']).mean()\n",
    "        results.reset_index(inplace=True)\n",
    "        results = pd.DataFrame(results)\n",
    "    except Exception as prefExc:\n",
    "        raise UserWarning(prefExc)\n",
    "    finally: cnx.close()\n",
    "    return results"
   ]
  },
  {
   "cell_type": "code",
   "execution_count": 103,
   "metadata": {},
   "outputs": [],
   "source": [
    "##TODO #65 using historic habitat preference data, forecast the seasonal habitat preference for each species of bird --DONE\n",
    "##TODO #74 update the interpolation method used in forecasting habitat preference to polynomial or just use the forecasted relative abundance\n",
    "def forecastHabtPref():\n",
    "    realHabtPref = seasonalHabitatPref()\n",
    "    habtKeys = realHabtPref.drop_duplicates(subset=['comName'])\n",
    "    try:\n",
    "        forxHabtList = []\n",
    "        for i in habtKeys.itertuples():\n",
    "            allweek = pd.DataFrame({'obsDt_week':range(1,53)})\n",
    "            obsPref = realHabtPref[realHabtPref['comName'] == i.comName]\n",
    "            obsPref.drop(columns=['comName'],inplace=True)\n",
    "            forxPref = pd.merge(left=obsPref,right=allweek,left_on='obsDt_week',right_on='obsDt_week',how='outer')\n",
    "            forxPref.set_index('obsDt_week',inplace=True)\n",
    "            forxPref.sort_index(axis='index',ascending=True,inplace=True)\n",
    "            #forxPref.interpolate(method='polynomial',order=3,inplace=True,limit=3,limit_direction='both')\n",
    "            forxPref.interpolate(method='linear',inplace=True,limit=3,limit_direction='both')\n",
    "            forxPref['comName'] = i.comName\n",
    "            forxPref = forxPref.reset_index()\n",
    "            forxHabtList.append(forxPref)\n",
    "        forecastPref = pd.DataFrame()\n",
    "        forecastPref = pd.concat(forxHabtList,ignore_index=True)\n",
    "    except Exception as habtPrefForxExcp:\n",
    "        raise UserWarning(habtPrefForxExcp)\n",
    "    return forecastPref"
   ]
  },
  {
   "cell_type": "code",
   "execution_count": null,
   "metadata": {},
   "outputs": [],
   "source": [
    "##TODO #65 using historic habitat preference data, forecast the seasonal habitat preference for each species of bird --DONE\n",
    "##TODO #74 update the interpolation method used in forecasting habitat preference to polynomial or just use the forecasted relative abundance\n",
    "def forecastHabtPref():\n",
    "    realHabtPref = seasonalHabitatPref()\n",
    "    habtKeys = realHabtPref.drop_duplicates(subset=['comName'])\n",
    "    try:\n",
    "        forxHabtList = []\n",
    "        for i in habtKeys.itertuples():\n",
    "            allweek = pd.DataFrame({'obsDt_week':range(1,53)})\n",
    "            obsPref = realHabtPref[realHabtPref['comName'] == i.comName]\n",
    "            obsPref.drop(columns=['comName'],inplace=True)\n",
    "            forxPref = pd.merge(left=obsPref,right=allweek,left_on='obsDt_week',right_on='obsDt_week',how='outer')\n",
    "            forxPref.set_index('obsDt_week',inplace=True)\n",
    "            forxPref.sort_index(axis='index',ascending=True,inplace=True)\n",
    "            #forxPref.interpolate(method='polynomial',order=3,inplace=True,limit=3,limit_direction='both')\n",
    "            forxPref.interpolate(method='linear',inplace=True,limit=3,limit_direction='both')\n",
    "            forxPref['comName'] = i.comName\n",
    "            forxPref = forxPref.reset_index()\n",
    "            forxHabtList.append(forxPref)\n",
    "        forecastPref = pd.DataFrame()\n",
    "        forecastPref = pd.concat(forxHabtList,ignore_index=True)\n",
    "    except Exception as habtPrefForxExcp:\n",
    "        raise UserWarning(habtPrefForxExcp)\n",
    "    return forecastPref"
   ]
  },
  {
   "cell_type": "code",
   "execution_count": 104,
   "metadata": {},
   "outputs": [
    {
     "name": "stderr",
     "output_type": "stream",
     "text": [
      "C:\\Users\\lukew\\anaconda3\\lib\\site-packages\\pandas\\core\\frame.py:4906: SettingWithCopyWarning: \n",
      "A value is trying to be set on a copy of a slice from a DataFrame\n",
      "\n",
      "See the caveats in the documentation: https://pandas.pydata.org/pandas-docs/stable/user_guide/indexing.html#returning-a-view-versus-a-copy\n",
      "  return super().drop(\n"
     ]
    },
    {
     "data": {
      "text/html": [
       "<div>\n",
       "<style scoped>\n",
       "    .dataframe tbody tr th:only-of-type {\n",
       "        vertical-align: middle;\n",
       "    }\n",
       "\n",
       "    .dataframe tbody tr th {\n",
       "        vertical-align: top;\n",
       "    }\n",
       "\n",
       "    .dataframe thead th {\n",
       "        text-align: right;\n",
       "    }\n",
       "</style>\n",
       "<table border=\"1\" class=\"dataframe\">\n",
       "  <thead>\n",
       "    <tr style=\"text-align: right;\">\n",
       "      <th></th>\n",
       "      <th>obsDt_week</th>\n",
       "      <th>Urban</th>\n",
       "      <th>Savannas</th>\n",
       "      <th>evergreenNeedleleafForest</th>\n",
       "      <th>evergreenBroadleafForests</th>\n",
       "      <th>openForests</th>\n",
       "      <th>mixedBroadleafandNeedleleafForests</th>\n",
       "      <th>sparseForests</th>\n",
       "      <th>comName</th>\n",
       "    </tr>\n",
       "  </thead>\n",
       "  <tbody>\n",
       "    <tr>\n",
       "      <th>0</th>\n",
       "      <td>1</td>\n",
       "      <td>NaN</td>\n",
       "      <td>NaN</td>\n",
       "      <td>0.010000</td>\n",
       "      <td>NaN</td>\n",
       "      <td>NaN</td>\n",
       "      <td>0.067692</td>\n",
       "      <td>NaN</td>\n",
       "      <td>Canada Jay</td>\n",
       "    </tr>\n",
       "    <tr>\n",
       "      <th>1</th>\n",
       "      <td>2</td>\n",
       "      <td>NaN</td>\n",
       "      <td>NaN</td>\n",
       "      <td>0.060171</td>\n",
       "      <td>NaN</td>\n",
       "      <td>NaN</td>\n",
       "      <td>0.067692</td>\n",
       "      <td>NaN</td>\n",
       "      <td>Canada Jay</td>\n",
       "    </tr>\n",
       "    <tr>\n",
       "      <th>2</th>\n",
       "      <td>3</td>\n",
       "      <td>NaN</td>\n",
       "      <td>NaN</td>\n",
       "      <td>0.110342</td>\n",
       "      <td>NaN</td>\n",
       "      <td>NaN</td>\n",
       "      <td>0.067692</td>\n",
       "      <td>NaN</td>\n",
       "      <td>Canada Jay</td>\n",
       "    </tr>\n",
       "    <tr>\n",
       "      <th>3</th>\n",
       "      <td>4</td>\n",
       "      <td>NaN</td>\n",
       "      <td>NaN</td>\n",
       "      <td>0.160513</td>\n",
       "      <td>NaN</td>\n",
       "      <td>NaN</td>\n",
       "      <td>0.067692</td>\n",
       "      <td>NaN</td>\n",
       "      <td>Canada Jay</td>\n",
       "    </tr>\n",
       "    <tr>\n",
       "      <th>4</th>\n",
       "      <td>5</td>\n",
       "      <td>NaN</td>\n",
       "      <td>NaN</td>\n",
       "      <td>NaN</td>\n",
       "      <td>NaN</td>\n",
       "      <td>NaN</td>\n",
       "      <td>NaN</td>\n",
       "      <td>NaN</td>\n",
       "      <td>Canada Jay</td>\n",
       "    </tr>\n",
       "    <tr>\n",
       "      <th>...</th>\n",
       "      <td>...</td>\n",
       "      <td>...</td>\n",
       "      <td>...</td>\n",
       "      <td>...</td>\n",
       "      <td>...</td>\n",
       "      <td>...</td>\n",
       "      <td>...</td>\n",
       "      <td>...</td>\n",
       "      <td>...</td>\n",
       "    </tr>\n",
       "    <tr>\n",
       "      <th>100</th>\n",
       "      <td>48</td>\n",
       "      <td>NaN</td>\n",
       "      <td>NaN</td>\n",
       "      <td>NaN</td>\n",
       "      <td>NaN</td>\n",
       "      <td>NaN</td>\n",
       "      <td>NaN</td>\n",
       "      <td>NaN</td>\n",
       "      <td>Orange-crowned Warbler</td>\n",
       "    </tr>\n",
       "    <tr>\n",
       "      <th>101</th>\n",
       "      <td>49</td>\n",
       "      <td>NaN</td>\n",
       "      <td>NaN</td>\n",
       "      <td>NaN</td>\n",
       "      <td>NaN</td>\n",
       "      <td>NaN</td>\n",
       "      <td>NaN</td>\n",
       "      <td>NaN</td>\n",
       "      <td>Orange-crowned Warbler</td>\n",
       "    </tr>\n",
       "    <tr>\n",
       "      <th>102</th>\n",
       "      <td>50</td>\n",
       "      <td>NaN</td>\n",
       "      <td>NaN</td>\n",
       "      <td>NaN</td>\n",
       "      <td>NaN</td>\n",
       "      <td>NaN</td>\n",
       "      <td>NaN</td>\n",
       "      <td>NaN</td>\n",
       "      <td>Orange-crowned Warbler</td>\n",
       "    </tr>\n",
       "    <tr>\n",
       "      <th>103</th>\n",
       "      <td>51</td>\n",
       "      <td>NaN</td>\n",
       "      <td>NaN</td>\n",
       "      <td>NaN</td>\n",
       "      <td>NaN</td>\n",
       "      <td>NaN</td>\n",
       "      <td>NaN</td>\n",
       "      <td>NaN</td>\n",
       "      <td>Orange-crowned Warbler</td>\n",
       "    </tr>\n",
       "    <tr>\n",
       "      <th>104</th>\n",
       "      <td>52</td>\n",
       "      <td>NaN</td>\n",
       "      <td>NaN</td>\n",
       "      <td>NaN</td>\n",
       "      <td>NaN</td>\n",
       "      <td>NaN</td>\n",
       "      <td>NaN</td>\n",
       "      <td>NaN</td>\n",
       "      <td>Orange-crowned Warbler</td>\n",
       "    </tr>\n",
       "  </tbody>\n",
       "</table>\n",
       "<p>105 rows × 9 columns</p>\n",
       "</div>"
      ],
      "text/plain": [
       "     obsDt_week  Urban  Savannas  evergreenNeedleleafForest  \\\n",
       "0             1    NaN       NaN                   0.010000   \n",
       "1             2    NaN       NaN                   0.060171   \n",
       "2             3    NaN       NaN                   0.110342   \n",
       "3             4    NaN       NaN                   0.160513   \n",
       "4             5    NaN       NaN                        NaN   \n",
       "..          ...    ...       ...                        ...   \n",
       "100          48    NaN       NaN                        NaN   \n",
       "101          49    NaN       NaN                        NaN   \n",
       "102          50    NaN       NaN                        NaN   \n",
       "103          51    NaN       NaN                        NaN   \n",
       "104          52    NaN       NaN                        NaN   \n",
       "\n",
       "     evergreenBroadleafForests  openForests  \\\n",
       "0                          NaN          NaN   \n",
       "1                          NaN          NaN   \n",
       "2                          NaN          NaN   \n",
       "3                          NaN          NaN   \n",
       "4                          NaN          NaN   \n",
       "..                         ...          ...   \n",
       "100                        NaN          NaN   \n",
       "101                        NaN          NaN   \n",
       "102                        NaN          NaN   \n",
       "103                        NaN          NaN   \n",
       "104                        NaN          NaN   \n",
       "\n",
       "     mixedBroadleafandNeedleleafForests  sparseForests                 comName  \n",
       "0                              0.067692            NaN              Canada Jay  \n",
       "1                              0.067692            NaN              Canada Jay  \n",
       "2                              0.067692            NaN              Canada Jay  \n",
       "3                              0.067692            NaN              Canada Jay  \n",
       "4                                   NaN            NaN              Canada Jay  \n",
       "..                                  ...            ...                     ...  \n",
       "100                                 NaN            NaN  Orange-crowned Warbler  \n",
       "101                                 NaN            NaN  Orange-crowned Warbler  \n",
       "102                                 NaN            NaN  Orange-crowned Warbler  \n",
       "103                                 NaN            NaN  Orange-crowned Warbler  \n",
       "104                                 NaN            NaN  Orange-crowned Warbler  \n",
       "\n",
       "[105 rows x 9 columns]"
      ]
     },
     "execution_count": 104,
     "metadata": {},
     "output_type": "execute_result"
    }
   ],
   "source": [
    "forgex = forecastHabtPref()\n",
    "forgex"
   ]
  }
 ],
 "metadata": {
  "interpreter": {
   "hash": "ce2b8b10e8082f390f0f7c9c12f304c9df3ed4554edd4b21c0fcee2d9ef65582"
  },
  "kernelspec": {
   "display_name": "Python 3.9.7 ('base')",
   "language": "python",
   "name": "python3"
  },
  "language_info": {
   "codemirror_mode": {
    "name": "ipython",
    "version": 3
   },
   "file_extension": ".py",
   "mimetype": "text/x-python",
   "name": "python",
   "nbconvert_exporter": "python",
   "pygments_lexer": "ipython3",
   "version": "3.9.7"
  },
  "orig_nbformat": 4
 },
 "nbformat": 4,
 "nbformat_minor": 2
}
