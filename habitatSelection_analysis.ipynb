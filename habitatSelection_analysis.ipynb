{
 "cells": [
  {
   "cell_type": "code",
   "execution_count": 70,
   "metadata": {},
   "outputs": [],
   "source": [
    "import pandas as pd\n",
    "import sqlite3 as db\n",
    "import datetime as dt\n",
    "import numpy as np\n",
    "import matplotlib.pyplot as plt\n",
    "import seaborn as sns\n",
    "from sklearn.metrics import r2_score,explained_variance_score\n",
    "from sklearn.cluster import KMeans"
   ]
  },
  {
   "cell_type": "markdown",
   "metadata": {},
   "source": [
    "Identifying birds that strongly select for one or more habitats"
   ]
  },
  {
   "cell_type": "code",
   "execution_count": 71,
   "metadata": {},
   "outputs": [],
   "source": [
    "github_userName = 'Tanag3r'\n",
    "ebird_token = 'j6c7l80ga2ib'\n",
    "db_name = 'trailheadDirectBirds_sous.db'"
   ]
  },
  {
   "cell_type": "code",
   "execution_count": 72,
   "metadata": {},
   "outputs": [],
   "source": [
    "##connect to database\n",
    "def connectDB():\n",
    "    try:\n",
    "        cnx = db.connect(db_name)\n",
    "    except Exception as cnxError:\n",
    "        raise UserWarning(f'Unable to connect to database due to: {cnxError}')\n",
    "    return cnx"
   ]
  },
  {
   "cell_type": "code",
   "execution_count": 110,
   "metadata": {},
   "outputs": [],
   "source": [
    "##TODO #99 replace the update latestUpdate in the function with a trigger in the database\n",
    "class notInTable(ValueError):\n",
    "    def __init__(self,locId,message=\"given locId cannot be found in table Hotspots\"):\n",
    "        self.locId = locId\n",
    "        self.message = message\n",
    "        super().__init__(self.message)\n",
    "    def __str__(self):\n",
    "        return f'{self.locId} >> {self.message}'\n",
    "\n"
   ]
  },
  {
   "cell_type": "code",
   "execution_count": 146,
   "metadata": {},
   "outputs": [],
   "source": [
    "\n",
    "def post_hotspotHabitat(locId: str,label: int,cnx=connectDB()):\n",
    "    try:\n",
    "        cursor = cnx.cursor()\n",
    "    #validate\n",
    "        validate_query = \"SELECT EXISTS(SELECT ? FROM Hotspots WHERE locId = ?)\"\n",
    "        validate_tuple = (locId,locId)\n",
    "        cursor.execute(validate_query,validate_tuple)\n",
    "        validate = cursor.fetchone()[0]\n",
    "        if validate == 0:\n",
    "            raise notInTable(locId)\n",
    "        else:\n",
    "            updateLabel_script = \"UPDATE Hotspots SET habitatLabel = ?, latestUpdate = ? WHERE locId = ?;\"\n",
    "            updatelabel_tuple = (label,str(dt.datetime.today()),locId)\n",
    "            cursor.execute(updateLabel_script,updatelabel_tuple)\n",
    "            cnx.commit()\n",
    "            cursor.close()\n",
    "    except ValueError as vxf:\n",
    "        raise vxf\n",
    "    except Exception as ex:\n",
    "        raise ex\n",
    "    return locId"
   ]
  },
  {
   "cell_type": "code",
   "execution_count": 83,
   "metadata": {},
   "outputs": [],
   "source": [
    "#derive habitat cluster labels from FAO values\n",
    "def kmeans_habitat(distinctHabitats: int,cnx= connectDB()):\n",
    "    try:\n",
    "        data = pd.read_sql(sql='SELECT * FROM FAO_by_locId;',con=cnx)\n",
    "        data = data.drop(columns=['locName']).set_index('locId')\n",
    "        data.fillna(0,inplace=True)\n",
    "    #normalize\n",
    "        maxValue = data.apply(max,axis=1)\n",
    "        data = data.apply(lambda x: (x/maxValue[x.index]),axis=0)   #min-max normalizing to smooth in proportionality\n",
    "    #compute kmeans for each locId\n",
    "        habitat_kmeans = KMeans(n_clusters=distinctHabitats,init='k-means++')\n",
    "        habitat_kmeans = habitat_kmeans.fit(data.values)\n",
    "        clusterLabels = habitat_kmeans.labels_\n",
    "        centerPoints = habitat_kmeans.cluster_centers_\n",
    "    #define habitats\n",
    "        habitatFrame = pd.DataFrame(data=clusterLabels,columns=['clusterLabel'],index=data.index).sort_values(by='clusterLabel').reset_index()\n",
    "        #habitatFrame = pd.merge(left=habitatFrame,left_on='locId',right=data,right_on='locId',how='left')\n",
    "    except Exception as kmeansExc:\n",
    "        raise kmeansExc\n",
    "    return habitatFrame,centerPoints"
   ]
  },
  {
   "cell_type": "markdown",
   "metadata": {},
   "source": [
    "Test and interpolate"
   ]
  },
  {
   "cell_type": "code",
   "execution_count": 122,
   "metadata": {},
   "outputs": [],
   "source": [
    "##call function into frame\n",
    "query = f\"\"\"with habitatAbundance as (\n",
    "select\n",
    "\t(strftime('%Y',obsDt)||'-'||strftime('%W',obsDt)) as \"year_week\",\n",
    "\tround(avg(howMany),0) as \"habitatVolume\",\n",
    "\t(total(round(avg(howMany),0)) over(partition by strftime('%Y',obsDt)||'-'||strftime('%W',obsDt))) as \"volume_allHabitats\",\n",
    "\thabitatLabel \n",
    "from historicObservations as hsob\n",
    "left join (select locId,habitatLabel from Hotspots) as \"labels\" on hsob.locId=labels.locId\n",
    "where speciesCode = '{speciesCode}'\n",
    "group by year_week,habitatLabel\n",
    ")\n",
    "select year_week,round((habitatVolume/volume_allHabitats),2) as \"selectionRatio_{i}\"\n",
    "from habitatAbundance\n",
    "where habitatLabel = {i}\n",
    ";\"\"\""
   ]
  },
  {
   "cell_type": "code",
   "execution_count": 156,
   "metadata": {},
   "outputs": [],
   "source": [
    "def build_datebase(speciesCode,con = connectDB()):\n",
    "    try:\n",
    "        cursor = con.cursor()\n",
    "        minYearQuery = f\"\"\"select strftime('%Y',obsDt) as \"year\" from historicObservations group by speciesCode having obsDt=min(obsDt) and speciesCode = '{speciesCode}';\"\"\"\n",
    "        maxYearQuery = f\"\"\"select strftime('%Y',obsDt) as \"year\" from historicObservations group by speciesCode having obsDt=max(obsDt) and speciesCode = '{speciesCode}';\"\"\"\n",
    "        minYear = cursor.execute(minYearQuery).fetchone()[0]\n",
    "        maxYear = cursor.execute(maxYearQuery).fetchone()[0]\n",
    "        datebase = []\n",
    "        for x in range(int(minYear),int(maxYear),1):\n",
    "            for y in range(1,53,1):\n",
    "                week_year = '-'.join([str(x),str(y)])\n",
    "                datebase.append(week_year)\n",
    "    except Exception as ex:\n",
    "        raise ex\n",
    "    return datebase\n"
   ]
  },
  {
   "cell_type": "code",
   "execution_count": null,
   "metadata": {},
   "outputs": [],
   "source": []
  },
  {
   "cell_type": "code",
   "execution_count": 157,
   "metadata": {},
   "outputs": [
    {
     "data": {
      "text/plain": [
       "['2019-1',\n",
       " '2019-2',\n",
       " '2019-3',\n",
       " '2019-4',\n",
       " '2019-5',\n",
       " '2019-6',\n",
       " '2019-7',\n",
       " '2019-8',\n",
       " '2019-9',\n",
       " '2019-10',\n",
       " '2019-11',\n",
       " '2019-12',\n",
       " '2019-13',\n",
       " '2019-14',\n",
       " '2019-15',\n",
       " '2019-16',\n",
       " '2019-17',\n",
       " '2019-18',\n",
       " '2019-19',\n",
       " '2019-20',\n",
       " '2019-21',\n",
       " '2019-22',\n",
       " '2019-23',\n",
       " '2019-24',\n",
       " '2019-25',\n",
       " '2019-26',\n",
       " '2019-27',\n",
       " '2019-28',\n",
       " '2019-29',\n",
       " '2019-30',\n",
       " '2019-31',\n",
       " '2019-32',\n",
       " '2019-33',\n",
       " '2019-34',\n",
       " '2019-35',\n",
       " '2019-36',\n",
       " '2019-37',\n",
       " '2019-38',\n",
       " '2019-39',\n",
       " '2019-40',\n",
       " '2019-41',\n",
       " '2019-42',\n",
       " '2019-43',\n",
       " '2019-44',\n",
       " '2019-45',\n",
       " '2019-46',\n",
       " '2019-47',\n",
       " '2019-48',\n",
       " '2019-49',\n",
       " '2019-50',\n",
       " '2019-51',\n",
       " '2019-52',\n",
       " '2020-1',\n",
       " '2020-2',\n",
       " '2020-3',\n",
       " '2020-4',\n",
       " '2020-5',\n",
       " '2020-6',\n",
       " '2020-7',\n",
       " '2020-8',\n",
       " '2020-9',\n",
       " '2020-10',\n",
       " '2020-11',\n",
       " '2020-12',\n",
       " '2020-13',\n",
       " '2020-14',\n",
       " '2020-15',\n",
       " '2020-16',\n",
       " '2020-17',\n",
       " '2020-18',\n",
       " '2020-19',\n",
       " '2020-20',\n",
       " '2020-21',\n",
       " '2020-22',\n",
       " '2020-23',\n",
       " '2020-24',\n",
       " '2020-25',\n",
       " '2020-26',\n",
       " '2020-27',\n",
       " '2020-28',\n",
       " '2020-29',\n",
       " '2020-30',\n",
       " '2020-31',\n",
       " '2020-32',\n",
       " '2020-33',\n",
       " '2020-34',\n",
       " '2020-35',\n",
       " '2020-36',\n",
       " '2020-37',\n",
       " '2020-38',\n",
       " '2020-39',\n",
       " '2020-40',\n",
       " '2020-41',\n",
       " '2020-42',\n",
       " '2020-43',\n",
       " '2020-44',\n",
       " '2020-45',\n",
       " '2020-46',\n",
       " '2020-47',\n",
       " '2020-48',\n",
       " '2020-49',\n",
       " '2020-50',\n",
       " '2020-51',\n",
       " '2020-52']"
      ]
     },
     "execution_count": 157,
     "metadata": {},
     "output_type": "execute_result"
    }
   ],
   "source": [
    "build_datebase(speciesCode='westan')"
   ]
  }
 ],
 "metadata": {
  "interpreter": {
   "hash": "ce2b8b10e8082f390f0f7c9c12f304c9df3ed4554edd4b21c0fcee2d9ef65582"
  },
  "kernelspec": {
   "display_name": "Python 3.9.7 ('base')",
   "language": "python",
   "name": "python3"
  },
  "language_info": {
   "codemirror_mode": {
    "name": "ipython",
    "version": 3
   },
   "file_extension": ".py",
   "mimetype": "text/x-python",
   "name": "python",
   "nbconvert_exporter": "python",
   "pygments_lexer": "ipython3",
   "version": "3.9.7"
  },
  "orig_nbformat": 4
 },
 "nbformat": 4,
 "nbformat_minor": 2
}
