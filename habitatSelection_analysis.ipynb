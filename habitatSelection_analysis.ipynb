{
 "cells": [
  {
   "cell_type": "code",
   "execution_count": 70,
   "metadata": {},
   "outputs": [],
   "source": [
    "import pandas as pd\n",
    "import sqlite3 as db\n",
    "import datetime as dt\n",
    "import numpy as np\n",
    "import matplotlib.pyplot as plt\n",
    "import seaborn as sns\n",
    "from sklearn.metrics import r2_score,explained_variance_score\n",
    "from sklearn.cluster import KMeans"
   ]
  },
  {
   "cell_type": "markdown",
   "metadata": {},
   "source": [
    "Identifying birds that strongly select for one or more habitats"
   ]
  },
  {
   "cell_type": "code",
   "execution_count": 71,
   "metadata": {},
   "outputs": [],
   "source": [
    "github_userName = 'Tanag3r'\n",
    "ebird_token = 'j6c7l80ga2ib'\n",
    "db_name = 'trailheadDirectBirds_sous.db'"
   ]
  },
  {
   "cell_type": "code",
   "execution_count": 72,
   "metadata": {},
   "outputs": [],
   "source": [
    "##connect to database\n",
    "def connectDB():\n",
    "    try:\n",
    "        cnx = db.connect(db_name)\n",
    "    except Exception as cnxError:\n",
    "        raise UserWarning(f'Unable to connect to database due to: {cnxError}')\n",
    "    return cnx"
   ]
  },
  {
   "cell_type": "code",
   "execution_count": 110,
   "metadata": {},
   "outputs": [],
   "source": [
    "##TODO #99 replace the update latestUpdate in the function with a trigger in the database\n",
    "class notInTable(ValueError):\n",
    "    def __init__(self,locId,message=\"given locId cannot be found in table Hotspots\"):\n",
    "        self.locId = locId\n",
    "        self.message = message\n",
    "        super().__init__(self.message)\n",
    "    def __str__(self):\n",
    "        return f'{self.locId} >> {self.message}'\n",
    "\n"
   ]
  },
  {
   "cell_type": "code",
   "execution_count": 114,
   "metadata": {},
   "outputs": [],
   "source": [
    "\n",
    "def post_hotspotHabitat(locId: str,label: int,cnx=connectDB()):\n",
    "    try:\n",
    "        cursor = cnx.cursor()\n",
    "    #validate\n",
    "        validate_query = \"SELECT EXISTS(SELECT ? FROM Hotspots WHERE locId = ?)\"\n",
    "        validate_tuple = (locId,locId)\n",
    "        cursor.execute(validate_query,validate_tuple)\n",
    "        validate = cursor.fetchone()[0]\n",
    "        if validate == 0:\n",
    "            raise notInTable(locId)\n",
    "        else:\n",
    "            updateLabel_script = f\"UPDATE Hotspots SET habitatLabel = ?, latestUpdate = ? WHERE locId = ?;\"\n",
    "            updatelabel_tuple = (label,str(dt.datetime.today()),locId)\n",
    "            cursor.execute(updateLabel_script,updatelabel_tuple)\n",
    "            cnx.commit()\n",
    "            cursor.close()\n",
    "    except ValueError as vxf:\n",
    "        raise vxf\n",
    "    except Exception as ex:\n",
    "        raise ex\n",
    "    return locId"
   ]
  },
  {
   "cell_type": "code",
   "execution_count": 83,
   "metadata": {},
   "outputs": [],
   "source": [
    "#derive habitat cluster labels from FAO values\n",
    "def kmeans_habitat(distinctHabitats: int,cnx= connectDB()):\n",
    "    try:\n",
    "        data = pd.read_sql(sql='SELECT * FROM FAO_by_locId;',con=cnx)\n",
    "        data = data.drop(columns=['locName']).set_index('locId')\n",
    "        data.fillna(0,inplace=True)\n",
    "    #normalize\n",
    "        maxValue = data.apply(max,axis=1)\n",
    "        data = data.apply(lambda x: (x/maxValue[x.index]),axis=0)   #min-max normalizing to smooth in proportionality\n",
    "    #compute kmeans for each locId\n",
    "        habitat_kmeans = KMeans(n_clusters=distinctHabitats,init='k-means++')\n",
    "        habitat_kmeans = habitat_kmeans.fit(data.values)\n",
    "        clusterLabels = habitat_kmeans.labels_\n",
    "        centerPoints = habitat_kmeans.cluster_centers_\n",
    "    #define habitats\n",
    "        habitatFrame = pd.DataFrame(data=clusterLabels,columns=['clusterLabel'],index=data.index).sort_values(by='clusterLabel').reset_index()\n",
    "        #habitatFrame = pd.merge(left=habitatFrame,left_on='locId',right=data,right_on='locId',how='left')\n",
    "    except Exception as kmeansExc:\n",
    "        raise kmeansExc\n",
    "    return habitatFrame,centerPoints"
   ]
  },
  {
   "cell_type": "code",
   "execution_count": 84,
   "metadata": {},
   "outputs": [
    {
     "data": {
      "text/plain": [
       "array([[ 0.00000000e+00,  7.78046089e-01,  2.98861344e-01,\n",
       "         3.06492158e-01,  3.08591038e-01,  0.00000000e+00,\n",
       "         1.98752332e-01,  0.00000000e+00,  5.85937500e-02,\n",
       "         0.00000000e+00,  0.00000000e+00,  9.92187500e-01,\n",
       "         3.49460908e-01,  7.58539244e-02],\n",
       "       [ 0.00000000e+00,  3.66795367e-02,  0.00000000e+00,\n",
       "         2.38195295e-01,  0.00000000e+00,  6.93889390e-18,\n",
       "         1.00000000e+00,  8.67361738e-19,  2.41863249e-01,\n",
       "         5.50102828e-01,  1.73472348e-18,  1.90476190e-02,\n",
       "         0.00000000e+00, -1.73472348e-18],\n",
       "       [ 6.93889390e-18,  5.55111512e-17,  0.00000000e+00,\n",
       "         1.76366843e-02,  3.52733686e-02,  6.93889390e-18,\n",
       "         1.60635455e-01,  4.16541963e-02,  1.76366843e-02,\n",
       "         1.00000000e+00,  9.55908289e-02, -5.55111512e-17,\n",
       "         0.00000000e+00, -1.73472348e-18],\n",
       "       [ 5.36666667e-01,  1.00000000e+00,  0.00000000e+00,\n",
       "         1.38777878e-17,  2.77555756e-17,  0.00000000e+00,\n",
       "         5.55111512e-17,  0.00000000e+00,  2.77555756e-17,\n",
       "         0.00000000e+00,  1.73472348e-18,  4.00000000e-01,\n",
       "         6.93889390e-18,  6.33333333e-02],\n",
       "       [ 0.00000000e+00,  2.66966068e-01,  7.77345309e-02,\n",
       "         0.00000000e+00,  1.00000000e+00,  0.00000000e+00,\n",
       "         1.19914018e-01,  0.00000000e+00,  1.83632735e-01,\n",
       "         8.33333333e-02,  0.00000000e+00,  8.33333333e-02,\n",
       "         7.77345309e-02,  0.00000000e+00],\n",
       "       [ 0.00000000e+00,  7.15488734e-01,  6.01851852e-02,\n",
       "         1.13186462e-01,  0.00000000e+00,  0.00000000e+00,\n",
       "         9.60000000e-01,  0.00000000e+00,  2.29086845e-01,\n",
       "         8.91071429e-02,  0.00000000e+00,  5.94958721e-01,\n",
       "         6.01851852e-02,  0.00000000e+00],\n",
       "       [ 0.00000000e+00,  5.55111512e-17,  0.00000000e+00,\n",
       "         1.38777878e-17,  0.00000000e+00,  6.93889390e-18,\n",
       "         1.00000000e+00,  8.67361738e-19,  0.00000000e+00,\n",
       "         4.70085470e-02,  1.73472348e-18,  0.00000000e+00,\n",
       "         6.93889390e-18,  0.00000000e+00],\n",
       "       [ 1.66666667e-02,  1.00000000e+00,  3.28793948e-02,\n",
       "         3.15623148e-02,  1.63169399e-02,  6.93889390e-18,\n",
       "         1.93519490e-01,  8.67361738e-19,  1.21481614e-01,\n",
       "         1.11022302e-16,  3.46944695e-18,  8.17360840e-01,\n",
       "         3.62981983e-02,  7.65027322e-03],\n",
       "       [ 0.00000000e+00,  6.15642191e-01,  0.00000000e+00,\n",
       "         3.79853305e-01,  4.51925377e-01,  0.00000000e+00,\n",
       "         1.56142869e-01,  0.00000000e+00,  1.00000000e+00,\n",
       "         0.00000000e+00,  0.00000000e+00,  0.00000000e+00,\n",
       "         0.00000000e+00,  0.00000000e+00],\n",
       "       [ 0.00000000e+00,  0.00000000e+00,  0.00000000e+00,\n",
       "         4.64000000e-01,  1.00000000e+00,  1.00000000e+00,\n",
       "         3.36000000e-01,  0.00000000e+00,  4.64000000e-01,\n",
       "         0.00000000e+00,  0.00000000e+00,  0.00000000e+00,\n",
       "         0.00000000e+00,  0.00000000e+00],\n",
       "       [ 0.00000000e+00,  0.00000000e+00,  0.00000000e+00,\n",
       "         0.00000000e+00,  0.00000000e+00,  1.00000000e+00,\n",
       "         0.00000000e+00,  0.00000000e+00,  0.00000000e+00,\n",
       "         0.00000000e+00,  0.00000000e+00,  0.00000000e+00,\n",
       "         0.00000000e+00,  0.00000000e+00]])"
      ]
     },
     "execution_count": 84,
     "metadata": {},
     "output_type": "execute_result"
    }
   ],
   "source": [
    "frame, centers = kmeans_habitat(distinctHabitats=11)\n",
    "centers"
   ]
  },
  {
   "cell_type": "code",
   "execution_count": 117,
   "metadata": {},
   "outputs": [],
   "source": [
    "\n",
    "for x in frame.index:\n",
    "    locId = str(frame['locId'][x])\n",
    "    label = int(frame['clusterLabel'][x])\n",
    "\n",
    "    post_hotspotHabitat(locId=locId,label=label)\n",
    "\n"
   ]
  },
  {
   "cell_type": "code",
   "execution_count": 69,
   "metadata": {},
   "outputs": [
    {
     "ename": "notInTable",
     "evalue": "L8520 >> given locId cannot be found in table Hotspots",
     "output_type": "error",
     "traceback": [
      "\u001b[1;31m---------------------------------------------------------------------------\u001b[0m",
      "\u001b[1;31mnotInTable\u001b[0m                                Traceback (most recent call last)",
      "\u001b[1;32m~\\AppData\\Local\\Temp/ipykernel_17564/1441165373.py\u001b[0m in \u001b[0;36m<module>\u001b[1;34m\u001b[0m\n\u001b[1;32m----> 1\u001b[1;33m \u001b[0mpost_hotspotHabitat\u001b[0m\u001b[1;33m(\u001b[0m\u001b[0mlocId\u001b[0m\u001b[1;33m=\u001b[0m\u001b[1;34m'L8520'\u001b[0m\u001b[1;33m,\u001b[0m\u001b[0mlabel\u001b[0m\u001b[1;33m=\u001b[0m\u001b[1;36m3\u001b[0m\u001b[1;33m)\u001b[0m\u001b[1;33m\u001b[0m\u001b[1;33m\u001b[0m\u001b[0m\n\u001b[0m",
      "\u001b[1;32m~\\AppData\\Local\\Temp/ipykernel_17564/618375395.py\u001b[0m in \u001b[0;36mpost_hotspotHabitat\u001b[1;34m(locId, label, cnx)\u001b[0m\n\u001b[0;32m     26\u001b[0m             \u001b[0mcursor\u001b[0m\u001b[1;33m.\u001b[0m\u001b[0mclose\u001b[0m\u001b[1;33m(\u001b[0m\u001b[1;33m)\u001b[0m\u001b[1;33m\u001b[0m\u001b[1;33m\u001b[0m\u001b[0m\n\u001b[0;32m     27\u001b[0m     \u001b[1;32mexcept\u001b[0m \u001b[0mValueError\u001b[0m \u001b[1;32mas\u001b[0m \u001b[0mvxf\u001b[0m\u001b[1;33m:\u001b[0m\u001b[1;33m\u001b[0m\u001b[1;33m\u001b[0m\u001b[0m\n\u001b[1;32m---> 28\u001b[1;33m         \u001b[1;32mraise\u001b[0m \u001b[0mvxf\u001b[0m\u001b[1;33m\u001b[0m\u001b[1;33m\u001b[0m\u001b[0m\n\u001b[0m\u001b[0;32m     29\u001b[0m     \u001b[1;32mexcept\u001b[0m \u001b[0mException\u001b[0m \u001b[1;32mas\u001b[0m \u001b[0mex\u001b[0m\u001b[1;33m:\u001b[0m\u001b[1;33m\u001b[0m\u001b[1;33m\u001b[0m\u001b[0m\n\u001b[0;32m     30\u001b[0m         \u001b[1;32mraise\u001b[0m \u001b[0mex\u001b[0m\u001b[1;33m\u001b[0m\u001b[1;33m\u001b[0m\u001b[0m\n",
      "\u001b[1;32m~\\AppData\\Local\\Temp/ipykernel_17564/618375395.py\u001b[0m in \u001b[0;36mpost_hotspotHabitat\u001b[1;34m(locId, label, cnx)\u001b[0m\n\u001b[0;32m     18\u001b[0m         \u001b[0mvalidate\u001b[0m \u001b[1;33m=\u001b[0m \u001b[0mcursor\u001b[0m\u001b[1;33m.\u001b[0m\u001b[0mfetchone\u001b[0m\u001b[1;33m(\u001b[0m\u001b[1;33m)\u001b[0m\u001b[1;33m[\u001b[0m\u001b[1;36m0\u001b[0m\u001b[1;33m]\u001b[0m\u001b[1;33m\u001b[0m\u001b[1;33m\u001b[0m\u001b[0m\n\u001b[0;32m     19\u001b[0m         \u001b[1;32mif\u001b[0m \u001b[0mvalidate\u001b[0m \u001b[1;33m==\u001b[0m \u001b[1;36m0\u001b[0m\u001b[1;33m:\u001b[0m\u001b[1;33m\u001b[0m\u001b[1;33m\u001b[0m\u001b[0m\n\u001b[1;32m---> 20\u001b[1;33m             \u001b[1;32mraise\u001b[0m \u001b[0mnotInTable\u001b[0m\u001b[1;33m(\u001b[0m\u001b[0mlocId\u001b[0m\u001b[1;33m)\u001b[0m\u001b[1;33m\u001b[0m\u001b[1;33m\u001b[0m\u001b[0m\n\u001b[0m\u001b[0;32m     21\u001b[0m         \u001b[1;32melse\u001b[0m\u001b[1;33m:\u001b[0m\u001b[1;33m\u001b[0m\u001b[1;33m\u001b[0m\u001b[0m\n\u001b[0;32m     22\u001b[0m             \u001b[0mupdateLabel_script\u001b[0m \u001b[1;33m=\u001b[0m \u001b[1;34mf\"UPDATE Hotspots SET habitatLabel = ?, latestUpdate = ? WHERE locId = ?;\"\u001b[0m\u001b[1;33m\u001b[0m\u001b[1;33m\u001b[0m\u001b[0m\n",
      "\u001b[1;31mnotInTable\u001b[0m: L8520 >> given locId cannot be found in table Hotspots"
     ]
    }
   ],
   "source": [
    "post_hotspotHabitat(locId='L8520',label=3)"
   ]
  }
 ],
 "metadata": {
  "interpreter": {
   "hash": "ce2b8b10e8082f390f0f7c9c12f304c9df3ed4554edd4b21c0fcee2d9ef65582"
  },
  "kernelspec": {
   "display_name": "Python 3.9.7 ('base')",
   "language": "python",
   "name": "python3"
  },
  "language_info": {
   "codemirror_mode": {
    "name": "ipython",
    "version": 3
   },
   "file_extension": ".py",
   "mimetype": "text/x-python",
   "name": "python",
   "nbconvert_exporter": "python",
   "pygments_lexer": "ipython3",
   "version": "3.9.7"
  },
  "orig_nbformat": 4
 },
 "nbformat": 4,
 "nbformat_minor": 2
}
