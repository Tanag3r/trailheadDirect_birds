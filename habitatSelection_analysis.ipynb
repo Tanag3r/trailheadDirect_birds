{
 "cells": [
  {
   "cell_type": "code",
   "execution_count": 70,
   "metadata": {},
   "outputs": [],
   "source": [
    "import pandas as pd\n",
    "import sqlite3 as db\n",
    "import datetime as dt\n",
    "import numpy as np\n",
    "import matplotlib.pyplot as plt\n",
    "import seaborn as sns\n",
    "from sklearn.metrics import r2_score,explained_variance_score\n",
    "from sklearn.cluster import KMeans"
   ]
  },
  {
   "cell_type": "markdown",
   "metadata": {},
   "source": [
    "Identifying birds that strongly select for one or more habitats"
   ]
  },
  {
   "cell_type": "code",
   "execution_count": 71,
   "metadata": {},
   "outputs": [],
   "source": [
    "github_userName = 'Tanag3r'\n",
    "ebird_token = 'j6c7l80ga2ib'\n",
    "db_name = 'trailheadDirectBirds_sous.db'"
   ]
  },
  {
   "cell_type": "code",
   "execution_count": 72,
   "metadata": {},
   "outputs": [],
   "source": [
    "##connect to database\n",
    "def connectDB():\n",
    "    try:\n",
    "        cnx = db.connect(db_name)\n",
    "    except Exception as cnxError:\n",
    "        raise UserWarning(f'Unable to connect to database due to: {cnxError}')\n",
    "    return cnx"
   ]
  },
  {
   "cell_type": "code",
   "execution_count": 110,
   "metadata": {},
   "outputs": [],
   "source": [
    "##TODO #99 replace the update latestUpdate in the function with a trigger in the database\n",
    "class notInTable(ValueError):\n",
    "    def __init__(self,locId,message=\"given locId cannot be found in table Hotspots\"):\n",
    "        self.locId = locId\n",
    "        self.message = message\n",
    "        super().__init__(self.message)\n",
    "    def __str__(self):\n",
    "        return f'{self.locId} >> {self.message}'\n",
    "\n"
   ]
  },
  {
   "cell_type": "code",
   "execution_count": 114,
   "metadata": {},
   "outputs": [],
   "source": [
    "\n",
    "def post_hotspotHabitat(locId: str,label: int,cnx=connectDB()):\n",
    "    try:\n",
    "        cursor = cnx.cursor()\n",
    "    #validate\n",
    "        validate_query = \"SELECT EXISTS(SELECT ? FROM Hotspots WHERE locId = ?)\"\n",
    "        validate_tuple = (locId,locId)\n",
    "        cursor.execute(validate_query,validate_tuple)\n",
    "        validate = cursor.fetchone()[0]\n",
    "        if validate == 0:\n",
    "            raise notInTable(locId)\n",
    "        else:\n",
    "            updateLabel_script = f\"UPDATE Hotspots SET habitatLabel = ?, latestUpdate = ? WHERE locId = ?;\"\n",
    "            updatelabel_tuple = (label,str(dt.datetime.today()),locId)\n",
    "            cursor.execute(updateLabel_script,updatelabel_tuple)\n",
    "            cnx.commit()\n",
    "            cursor.close()\n",
    "    except ValueError as vxf:\n",
    "        raise vxf\n",
    "    except Exception as ex:\n",
    "        raise ex\n",
    "    return locId"
   ]
  },
  {
   "cell_type": "code",
   "execution_count": 83,
   "metadata": {},
   "outputs": [],
   "source": [
    "#derive habitat cluster labels from FAO values\n",
    "def kmeans_habitat(distinctHabitats: int,cnx= connectDB()):\n",
    "    try:\n",
    "        data = pd.read_sql(sql='SELECT * FROM FAO_by_locId;',con=cnx)\n",
    "        data = data.drop(columns=['locName']).set_index('locId')\n",
    "        data.fillna(0,inplace=True)\n",
    "    #normalize\n",
    "        maxValue = data.apply(max,axis=1)\n",
    "        data = data.apply(lambda x: (x/maxValue[x.index]),axis=0)   #min-max normalizing to smooth in proportionality\n",
    "    #compute kmeans for each locId\n",
    "        habitat_kmeans = KMeans(n_clusters=distinctHabitats,init='k-means++')\n",
    "        habitat_kmeans = habitat_kmeans.fit(data.values)\n",
    "        clusterLabels = habitat_kmeans.labels_\n",
    "        centerPoints = habitat_kmeans.cluster_centers_\n",
    "    #define habitats\n",
    "        habitatFrame = pd.DataFrame(data=clusterLabels,columns=['clusterLabel'],index=data.index).sort_values(by='clusterLabel').reset_index()\n",
    "        #habitatFrame = pd.merge(left=habitatFrame,left_on='locId',right=data,right_on='locId',how='left')\n",
    "    except Exception as kmeansExc:\n",
    "        raise kmeansExc\n",
    "    return habitatFrame,centerPoints"
   ]
  },
  {
   "cell_type": "markdown",
   "metadata": {},
   "source": [
    "Test and interpolate"
   ]
  },
  {
   "cell_type": "code",
   "execution_count": 119,
   "metadata": {},
   "outputs": [
    {
     "ename": "SyntaxError",
     "evalue": "EOL while scanning string literal (Temp/ipykernel_17564/856640219.py, line 1)",
     "output_type": "error",
     "traceback": [
      "\u001b[1;36m  File \u001b[1;32m\"C:\\Users\\lukew\\AppData\\Local\\Temp/ipykernel_17564/856640219.py\"\u001b[1;36m, line \u001b[1;32m1\u001b[0m\n\u001b[1;33m    query = \"select\u001b[0m\n\u001b[1;37m                   ^\u001b[0m\n\u001b[1;31mSyntaxError\u001b[0m\u001b[1;31m:\u001b[0m EOL while scanning string literal\n"
     ]
    }
   ],
   "source": [
    "##call function into frame"
   ]
  }
 ],
 "metadata": {
  "interpreter": {
   "hash": "ce2b8b10e8082f390f0f7c9c12f304c9df3ed4554edd4b21c0fcee2d9ef65582"
  },
  "kernelspec": {
   "display_name": "Python 3.9.7 ('base')",
   "language": "python",
   "name": "python3"
  },
  "language_info": {
   "codemirror_mode": {
    "name": "ipython",
    "version": 3
   },
   "file_extension": ".py",
   "mimetype": "text/x-python",
   "name": "python",
   "nbconvert_exporter": "python",
   "pygments_lexer": "ipython3",
   "version": "3.9.7"
  },
  "orig_nbformat": 4
 },
 "nbformat": 4,
 "nbformat_minor": 2
}
