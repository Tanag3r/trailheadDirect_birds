{
 "cells": [
  {
   "cell_type": "code",
   "execution_count": 1,
   "metadata": {},
   "outputs": [],
   "source": [
    "import geojson\n",
    "import json\n",
    "import requests\n",
    "import sqlite3 as db\n",
    "import pandas as pd\n",
    "import cgi  #for decompiling headers of appEEARS responses"
   ]
  },
  {
   "cell_type": "code",
   "execution_count": null,
   "metadata": {},
   "outputs": [],
   "source": [
    "ebird_token = 'j6c7l80ga2ib'\n",
    "cnx = db.connect('trailheadDirectBirds_sous.db')\n",
    "cur = cnx.cursor()"
   ]
  },
  {
   "cell_type": "markdown",
   "metadata": {},
   "source": [
    "1. Filter the hotspots table to find the hotspots closest to each trailhead\n",
    "2. Use the eBird API region ref (.../ref/region/info/{{locId}}) to return the bounds/polygon of each hotspot in the filtered list\n",
    "3. Reformat the results and pass the data into HotspotsPolygon.trailheadDirectBirds_sous\n",
    "4. Build a polygon for each trailhead and export the result as a .geoJSON\n",
    "4. Request FAO land cover and leaf coverage data from MODIS MCD12Q1 dataset with appEEARS service for each hotspot using .geoJSON\n",
    "5. Parse results into trailheadDirectBirds_sous database"
   ]
  }
 ],
 "metadata": {
  "interpreter": {
   "hash": "ce2b8b10e8082f390f0f7c9c12f304c9df3ed4554edd4b21c0fcee2d9ef65582"
  },
  "kernelspec": {
   "display_name": "Python 3.9.7 ('base')",
   "language": "python",
   "name": "python3"
  },
  "language_info": {
   "codemirror_mode": {
    "name": "ipython",
    "version": 3
   },
   "file_extension": ".py",
   "mimetype": "text/x-python",
   "name": "python",
   "nbconvert_exporter": "python",
   "pygments_lexer": "ipython3",
   "version": "3.9.7"
  },
  "orig_nbformat": 4
 },
 "nbformat": 4,
 "nbformat_minor": 2
}
