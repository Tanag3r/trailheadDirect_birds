{
 "cells": [
  {
   "cell_type": "code",
   "execution_count": null,
   "metadata": {},
   "outputs": [],
   "source": [
    "import geojson\n",
    "import json\n",
    "import requests\n",
    "import sqlite3 as db\n",
    "import pandas as pd"
   ]
  },
  {
   "cell_type": "code",
   "execution_count": null,
   "metadata": {},
   "outputs": [],
   "source": [
    "ebird_token = 'j6c7l80ga2ib'\n",
    "cnx = db.connect('trailheadDirectBirds_sous.db')\n",
    "cur = cnx.cursor()"
   ]
  },
  {
   "cell_type": "markdown",
   "metadata": {},
   "source": [
    "1. Filter the hotspots table to find the hotspots closest to each trailhead\n",
    "2. Use the eBird API region ref (.../ref/region/info/{{locId}}) to return the bounds/polygon of each hotspot in the filtered list\n",
    "3. Reformat the results and pass the data into HotspotsPolygon.trailheadDirectBirds_sous\n",
    "4. Build a polygon for each trailhead and export the result as a .geoJSON\n",
    "4. Request FAO land cover and leaf coverage data from MODIS MCD12Q1 dataset with appEEARS service for each hotspot using .geoJSON\n",
    "5. Parse results into trailheadDirectBirds_sous database"
   ]
  }
 ],
 "metadata": {
  "language_info": {
   "name": "python"
  },
  "orig_nbformat": 4
 },
 "nbformat": 4,
 "nbformat_minor": 2
}
