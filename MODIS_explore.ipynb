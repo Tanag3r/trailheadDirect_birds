{
 "cells": [
  {
   "cell_type": "code",
   "execution_count": 17,
   "metadata": {},
   "outputs": [],
   "source": [
    "import sys\n",
    "import os\n",
    "import pandas as pd\n",
    "import numpy as np\n",
    "import datetime as dt\n",
    "import json\n",
    "import geojson\n",
    "import requests\n",
    "import sqlite3 as db\n",
    "\n",
    "pd.options.display.max_rows=99"
   ]
  },
  {
   "cell_type": "code",
   "execution_count": 18,
   "metadata": {},
   "outputs": [],
   "source": [
    "github_userName = 'Tanag3r'\n",
    "ebird_token = 'j6c7l80ga2ib'\n",
    "db_name = 'trailheadDirectBirds_sous.db'"
   ]
  },
  {
   "cell_type": "code",
   "execution_count": 19,
   "metadata": {},
   "outputs": [],
   "source": [
    "##connect to database\n",
    "def connectDB():\n",
    "    try:\n",
    "        cnx = db.connect(db_name)\n",
    "    except Exception as cnxError:\n",
    "        raise UserWarning(f'Unable to connect to database due to: {cnxError}')\n",
    "    return cnx"
   ]
  },
  {
   "cell_type": "markdown",
   "metadata": {},
   "source": [
    "NASA Data Products:\n",
    "- LAI: LAI is a measure for the total area of leaves per unit ground area and directly related to the amount of light that can be intercepted by plants. It is defined as the one-sided green leaf area per unit ground surface area (LAI = leaf area / ground area, m2 / m2) in broadleaf canopies. There are three methods used to measure LAI for conifers; this project uses projected (or one-sided, in accordance the definition for broadleaf canopies) needle area per unit ground area.\n",
    "    - In general, a higher LAI value indicates more leaf coverage\n",
    "- fPAR: Fraction of absorbed photosynthetically active radiation (fPAR) is the fraction of incoming solar radiation in the spectrum of 400–700 nm that is absorbed by vegetation canopy. Data is provided as a percentage.\n",
    "- Land Cover Type 3: Annual Leaf Area Index (LAI) classification\n",
    "- FAO-Land Cover Classification System 1 (LCCS1) land cover layer"
   ]
  },
  {
   "cell_type": "code",
   "execution_count": 20,
   "metadata": {},
   "outputs": [],
   "source": [
    "##TODO #40 remove the getpass prompt and replace with a credential manager call\n",
    "#earthdata_baseUrl = 'https://lpdaacsvc.cr.usgs.gov/appeears/api/'  #depracated\n",
    "earthdata_baseUrl = 'https://appeears.earthdatacloud.nasa.gov/api/'\n",
    "appEEARS_username = 'lwylie'\n",
    "appEEARS_password = 'BdiUPBhUa7ma5ds'\n",
    "import getpass\n",
    "NASA_username = getpass.getpass(prompt = 'Enter NASA Earthdata Login Username: ')\n",
    "NASA_password = getpass.getpass(prompt = 'Enter NASA Earthdata Login Password: ')"
   ]
  },
  {
   "cell_type": "code",
   "execution_count": 21,
   "metadata": {},
   "outputs": [
    {
     "name": "stdout",
     "output_type": "stream",
     "text": [
      "{'token_type': 'Bearer', 'token': 'IdDetAD5JKgBniBlXWAOlRH_eglvr0eqOQOqU9e_KGTME-koik9MAjyvlme_FThXbc0dK2o-QgFwXACcexhVrQ', 'expiration': '2022-04-13T22:23:30Z'}\n"
     ]
    }
   ],
   "source": [
    "##obtain an Earthdata token\n",
    "##TODO #36 the earthdata API is often under maintenance, write a script to abort this process if a new token cannot be obtain\n",
    "##TODO #56 refactor block into a function that requests a token from the earthdata service and returns the header on success\n",
    "earthdata_loginURL = 'https://lpdaacsvc.cr.usgs.gov/appeears/api/login/'\n",
    "earthdata_cloudLoginURL = 'https://appeears.earthdatacloud.nasa.gov/api/login'\n",
    "earthdata_loginRequest = requests.post(earthdata_cloudLoginURL,auth=(NASA_username,NASA_password))\n",
    "earthdata_loginResponse = earthdata_loginRequest.json()\n",
    "print(earthdata_loginResponse)\n",
    "##Transcribe token, builder header\n",
    "earthdata_token = earthdata_loginResponse['token']\n",
    "earthdata_head = {'Authorization': 'Bearer {}'.format(earthdata_token)}"
   ]
  },
  {
   "cell_type": "code",
   "execution_count": 22,
   "metadata": {},
   "outputs": [],
   "source": [
    "#get the earthdata dictionary from the database and return a list of locId's without Prop1 and Type3 data\n",
    "def list_needMODIS(testList: list):\n",
    "    cnx = connectDB()\n",
    "    diff = 0.005    #equivalent to half a mile\n",
    "    try:\n",
    "        queryList = []\n",
    "        for i in testList:\n",
    "            i = str(i)\n",
    "            queryList.append(i)\n",
    "        queryList = str(queryList).strip('[]')\n",
    "        #dataframe of hotspots from the database\n",
    "        hotspotsGeo = pd.read_sql(f'SELECT locId,lat,lng FROM Hotspots WHERE locId not in (SELECT DISTINCT locId from lpdaac_dictionary WHERE LPDAACkey in ({queryList}));', con=cnx)\n",
    "        if hotspotsGeo.empty == True:\n",
    "            raise Exception(f'An empty dataframe has been returned')\n",
    "        else:\n",
    "            hotspotsGeo.sort_values(by=['locId'],ascending=True,inplace=True)\n",
    "            hotspotsGeo.drop_duplicates(subset=['locId'],keep='first',inplace=True)\n",
    "            hotspotsGeo.reset_index()\n",
    "        #build out squares around each hotspot\n",
    "            def NW(x,y):\n",
    "                return x-diff,y+diff\n",
    "            def NE(x,y):\n",
    "                return x+diff,y+diff\n",
    "            def SE(x,y):\n",
    "                return x+diff,y-diff\n",
    "            def SW(x,y):\n",
    "                return x-diff,y-diff\n",
    "        ##apply the functions as new columns\n",
    "        ##NOTE that appEEARS only accepts coordinates as (longitude,latitude) which is contrary to geoJSON documentation\n",
    "            hotspotsGeo['NW'] = hotspotsGeo.apply(lambda i: NW(i.lng,i.lat), axis = 1)\n",
    "            hotspotsGeo['NE'] = hotspotsGeo.apply(lambda i: NE(i.lng,i.lat), axis = 1)\n",
    "            hotspotsGeo['SE'] = hotspotsGeo.apply(lambda i: SE(i.lng,i.lat), axis = 1)\n",
    "            hotspotsGeo['SW'] = hotspotsGeo.apply(lambda i: SW(i.lng,i.lat), axis = 1)\n",
    "    \n",
    "    except Exception as exd:\n",
    "        raise UserWarning(f'An unexpected error occurred in the function list_needMODIS: {exd}')\n",
    "    return hotspotsGeo"
   ]
  },
  {
   "cell_type": "markdown",
   "metadata": {},
   "source": [
    "Architecture:\n",
    "\n",
    "1. Make all requests in a loop, producing a list of {'locId': 'earthdata_taskID'}\n",
    "2. For each locId, pull each .csv into a dataframe then load that dataframe into a database table bearing the name that corresponds with the layer and product. Append the locId.\n",
    "    EXAMPLE: the contents of the .csv file for 'MCD12Q1-006-LC-Prop1-Statistics.csv' go into the table 'MCD12Q1-006-LC-Prop1-Statistics' in the database"
   ]
  },
  {
   "cell_type": "code",
   "execution_count": 23,
   "metadata": {},
   "outputs": [],
   "source": [
    "#TODO #59 update input on geoPack function to take a list of coordinates\n",
    "def geoPack(NW,NE,SE,SW):\n",
    "    try:\n",
    "        geoPack_wrap = {\"type\": \"FeatureCollection\", \"features\":\n",
    "            [{\n",
    "            \"type\":\"Feature\",\n",
    "                \"geometry\":\n",
    "                    {\"type\": \"Polygon\",\n",
    "                    \"coordinates\":\n",
    "                        [[NW,NE,SE,SW,NW]]\n",
    "                    },\n",
    "                \"properties\": {}}]\n",
    "            }\n",
    "    except geojson.GeoJSON(geoPack_wrap).is_valid == False:\n",
    "        print(geojson.GeoJSON(geoPack_wrap).errors)\n",
    "    return geojson.GeoJSON(geoPack_wrap)"
   ]
  },
  {
   "cell_type": "code",
   "execution_count": 24,
   "metadata": {},
   "outputs": [],
   "source": [
    "#TODO #60 update 'task' function to include layers as an input\n",
    "def task(taskName: str,endDate: str,startDate: str,recurring: bool,yearRange: list, geoPack_wrap = geojson.GeoJSON):\n",
    "    try:\n",
    "        edTask = {\n",
    "            'task_type': 'area',\n",
    "            'task_name': taskName,\n",
    "            'params': {\n",
    "                'dates': \n",
    "                    [{\"endDate\": endDate, \n",
    "                    \"recurring\": recurring, \n",
    "                    \"startDate\": startDate, \n",
    "                    \"yearRange\": yearRange}],\n",
    "                'layers': \n",
    "                    [{\"layer\": \"FparExtra_QC\", \"product\": \"MOD15A2H.006\"}, \n",
    "                    {\"layer\": \"FparLai_QC\", \"product\": \"MOD15A2H.006\"}, \n",
    "                    {\"layer\": \"FparStdDev_500m\", \"product\": \"MOD15A2H.006\"}, \n",
    "                    {\"layer\": \"Fpar_500m\", \"product\": \"MOD15A2H.006\"}, \n",
    "                    {\"layer\": \"LaiStdDev_500m\", \"product\": \"MOD15A2H.006\"}, \n",
    "                    {\"layer\": \"Lai_500m\", \"product\": \"MOD15A2H.006\"}],\n",
    "                'output': {\n",
    "                    'format': {\n",
    "                        'type': 'netcdf4'}, \n",
    "                        'projection': 'geographic'},\n",
    "            'geo':geoPack_wrap}}\n",
    "    except Exception as JSONerror:\n",
    "        raise UserWarning(JSONerror)\n",
    "    return edTask"
   ]
  },
  {
   "cell_type": "code",
   "execution_count": 25,
   "metadata": {},
   "outputs": [],
   "source": [
    "##error logger function\n",
    "def log_earthdataError(message,statusCode: int,request: str,reqDate):\n",
    "    cnx = connectDB()\n",
    "    cur = cnx.cursor()\n",
    "    try:\n",
    "        sqliteInsert = 'INSERT INTO earthdata_errorlog (message,statusCode,request,reqDate) VALUES (?, ?, ?, ?)'\n",
    "        logTuple = (message,statusCode,request,reqDate)\n",
    "        cur.execute(sqliteInsert,logTuple)\n",
    "        cnx.commit()\n",
    "        cur.close()\n",
    "    except db.Error as sqlError:\n",
    "        raise UserWarning(sqlError)\n",
    "    finally:\n",
    "        if cnx:\n",
    "            cnx.close()"
   ]
  },
  {
   "cell_type": "code",
   "execution_count": 26,
   "metadata": {},
   "outputs": [],
   "source": [
    "##TODO #45 once all hotspots/locId's have Prop1 and Type3 MCD12Q1 data, convert this block to check for LAI and fPAR\n",
    "\n",
    "#the testList variable requires a str list of tests from the LPDAAC keys table\n",
    "def post_earthdataTask(testList: list):\n",
    "    import time\n",
    "    #hotspotsGeo = hotspotsGeo_short    #small frame of hotspots for testing\n",
    "    try:\n",
    "        hotspotsGeo = pd.DataFrame(list_needMODIS(testList=testList)).head(2)\n",
    "        earthdataTaskList = []\n",
    "        for locId in hotspotsGeo.itertuples():\n",
    "            time.sleep(0.5)\n",
    "            coords = geoPack(NW = locId.NW,NE = locId.NE,SE = locId.SE,SW = locId.SW)\n",
    "            earthdataTask = task(taskName = locId.locId,endDate = \"12-31\",startDate=\"01-01\",recurring=True,yearRange=[2019,2021],geoPack_wrap=coords)\n",
    "            taskReq = requests.post(f'{earthdata_baseUrl}task',json=earthdataTask,headers=earthdata_head)\n",
    "            if taskReq.status_code != 200:\n",
    "                log_earthdataError(str(taskReq),int(taskReq.status_code),json.dumps(earthdataTask),dt.datetime.today())\n",
    "            earthdataTaskList.append(taskReq.json())\n",
    "    except Exception as ee:\n",
    "        raise ee\n",
    "    return earthdataTaskList"
   ]
  },
  {
   "cell_type": "code",
   "execution_count": 27,
   "metadata": {},
   "outputs": [
    {
     "data": {
      "text/plain": [
       "[{'task_id': 'a9a2331d-188c-44f9-9ede-a9670c08428e', 'status': 'pending'},\n",
       " {'task_id': 'a4c4a771-36e9-4c43-8ca0-15d1601cfd1c', 'status': 'pending'}]"
      ]
     },
     "execution_count": 27,
     "metadata": {},
     "output_type": "execute_result"
    }
   ],
   "source": [
    "post_earthdataTask(testList=[\"FparExtra_QC\",\"FparLai_QC\",\"FparStdDev_500m\",\"Fpar_500m\",\"LaiStdDev_500m\",\"Lai_500m\"])"
   ]
  },
  {
   "cell_type": "code",
   "execution_count": 36,
   "metadata": {},
   "outputs": [],
   "source": [
    "def get_earthdataTask(testList: list):\n",
    "    #postedTasks = pd.DataFrame(help) #for testing\n",
    "    taskInfo = []\n",
    "    fileList = []\n",
    "    cnx = connectDB()\n",
    "    postedTasks = pd.DataFrame(post_earthdataTask(testList=testList))\n",
    "    import time\n",
    "    try:\n",
    "        for task_id in postedTasks.itertuples():\n",
    "            while requests.get(f'{earthdata_baseUrl}task/{task_id.task_id}',headers=earthdata_head).json()['status'] !='done':\n",
    "                requests.get(f'{earthdata_baseUrl}task/{task_id.task_id}',headers=earthdata_head).json()['status']\n",
    "                time.sleep(20.0)\n",
    "            taskStatus = requests.get(f'{earthdata_baseUrl}task/{task_id.task_id}',headers=earthdata_head).json()\n",
    "            taskInfo.append(taskStatus)\n",
    "        taskBatch = pd.DataFrame(data=taskInfo,columns=['task_id','task_name','status','completed'])\n",
    "\n",
    "        for task_id in taskBatch.itertuples():\n",
    "            earthdata_bundle = requests.get(f'{earthdata_baseUrl}bundle/{task_id.task_id}',headers=earthdata_head).json()\n",
    "            ##filter down to .csv files\n",
    "            for x in earthdata_bundle['files']:\n",
    "                if x['file_type'] in 'csv':\n",
    "                    time.sleep(0.3)\n",
    "                    fileID = x['file_id']\n",
    "                    fileName = x['file_name']\n",
    "                    ##To read results to a dataframe, pass in earthdata_baseUrl + 'bundle/ + taskID/ + file_id/ + file_name\n",
    "                    getIt_url = requests.get(f'https://appeears.earthdatacloud.nasa.gov/api/bundle/{task_id.task_id}/{fileID}',headers=earthdata_head,allow_redirects=True,stream=True).url\n",
    "\n",
    "                    getIt = pd.read_csv(getIt_url)\n",
    "                    getIt['locId'] = task_id.task_name\n",
    "                    try:\n",
    "                        getIt.to_sql(name=f'{fileName}_MODIS_cooking',con=cnx,if_exists='append')\n",
    "                    ##TODO #53 test the exception --DONE\n",
    "                    ##TODO #95 update exception in get_earthdataTask to get the AWS URL if one is produced and log the url in the db\n",
    "                    except db.DatabaseError as resultError:\n",
    "                        fileList.append({resultError: resultError.__cause__,task_id.task_name: f'{earthdata_baseUrl}bundle/{task_id.task_id}/{fileID}/{fileName}'})\n",
    "                        pass\n",
    "                else: continue  \n",
    "    except Exception as ex:\n",
    "        raise ex\n",
    "    cnx.close()\n",
    "    return fileList"
   ]
  },
  {
   "cell_type": "code",
   "execution_count": 37,
   "metadata": {},
   "outputs": [
    {
     "name": "stderr",
     "output_type": "stream",
     "text": [
      "C:\\Users\\lukew\\anaconda3\\lib\\site-packages\\pandas\\core\\generic.py:2872: UserWarning: The spaces in these column names will not be changed. In pandas versions < 0.14, spaces were converted to underscores.\n",
      "  sql.to_sql(\n"
     ]
    },
    {
     "data": {
      "text/plain": [
       "[{sqlite3.OperationalError('table MOD15A2H-006-FparExtra-QC-Statistics-QA.csv_MODIS_cooking has no column named 1'): None,\n",
       "  'L10128988': 'https://appeears.earthdatacloud.nasa.gov/api/bundle/06b8a10d-8ba4-46ef-884c-0dfe401fd510/8f196def-014b-446d-b1b5-0725a7f9b0f9/MOD15A2H-006-FparExtra-QC-Statistics-QA.csv'},\n",
       " {sqlite3.OperationalError('table MOD15A2H-006-FparLai-QC-Statistics-QA.csv_MODIS_cooking has no column named 48'): None,\n",
       "  'L10128988': 'https://appeears.earthdatacloud.nasa.gov/api/bundle/06b8a10d-8ba4-46ef-884c-0dfe401fd510/cfd6f5a6-38b2-4bb1-be6f-7863867789e4/MOD15A2H-006-FparLai-QC-Statistics-QA.csv'},\n",
       " {sqlite3.OperationalError('table MOD15A2H-006-FparExtra-QC-Statistics-QA.csv_MODIS_cooking has no column named 1'): None,\n",
       "  'L10129002': 'https://appeears.earthdatacloud.nasa.gov/api/bundle/37bdd0e6-58fe-4a8e-9327-23cc3e4e7a6a/a768bfa6-c549-4536-b2ae-ede25bc4ba93/MOD15A2H-006-FparExtra-QC-Statistics-QA.csv'},\n",
       " {sqlite3.OperationalError('table MOD15A2H-006-FparLai-QC-Statistics-QA.csv_MODIS_cooking has no column named 48'): None,\n",
       "  'L10129002': 'https://appeears.earthdatacloud.nasa.gov/api/bundle/37bdd0e6-58fe-4a8e-9327-23cc3e4e7a6a/19a0237e-ba9c-4d25-bea9-0e5902ab2a05/MOD15A2H-006-FparLai-QC-Statistics-QA.csv'}]"
      ]
     },
     "execution_count": 37,
     "metadata": {},
     "output_type": "execute_result"
    }
   ],
   "source": [
    "boots = get_earthdataTask(testList=[\"FparExtra_QC\",\"FparLai_QC\",\"FparStdDev_500m\",\"Fpar_500m\",\"LaiStdDev_500m\",\"Lai_500m\"])\n",
    "boots"
   ]
  }
 ],
 "metadata": {
  "interpreter": {
   "hash": "ce2b8b10e8082f390f0f7c9c12f304c9df3ed4554edd4b21c0fcee2d9ef65582"
  },
  "kernelspec": {
   "display_name": "Python 3.9.7 ('base')",
   "language": "python",
   "name": "python3"
  },
  "language_info": {
   "codemirror_mode": {
    "name": "ipython",
    "version": 3
   },
   "file_extension": ".py",
   "mimetype": "text/x-python",
   "name": "python",
   "nbconvert_exporter": "python",
   "pygments_lexer": "ipython3",
   "version": "3.9.7"
  },
  "orig_nbformat": 4
 },
 "nbformat": 4,
 "nbformat_minor": 2
}
