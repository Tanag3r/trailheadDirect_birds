{
 "cells": [
  {
   "cell_type": "code",
   "execution_count": 110,
   "metadata": {},
   "outputs": [],
   "source": [
    "import pandas as pd\n",
    "import sqlite3 as db\n",
    "import datetime as dt\n",
    "import numpy as np\n",
    "import matplotlib.pyplot as plt\n",
    "import seaborn as sns\n",
    "from sklearn.metrics import r2_score,explained_variance_score"
   ]
  },
  {
   "cell_type": "code",
   "execution_count": 2,
   "metadata": {},
   "outputs": [],
   "source": [
    "github_userName = 'Tanag3r'\n",
    "ebird_token = 'j6c7l80ga2ib'\n",
    "db_name = 'trailheadDirectBirds_sous.db'"
   ]
  },
  {
   "cell_type": "code",
   "execution_count": 3,
   "metadata": {},
   "outputs": [],
   "source": [
    "##connect to database\n",
    "def connectDB():\n",
    "    try:\n",
    "        cnx = db.connect(db_name)\n",
    "    except Exception as cnxError:\n",
    "        raise UserWarning(f'Unable to connect to database due to: {cnxError}')\n",
    "    return cnx"
   ]
  },
  {
   "cell_type": "code",
   "execution_count": 4,
   "metadata": {},
   "outputs": [],
   "source": [
    "def stopQualityMask(speciesCode: str,closestStop: str):\n",
    "    cnx = connectDB()\n",
    "    try:\n",
    "        gap = dt.date.today().year-2018\n",
    "        query = f'SELECT COUNT(DISTINCT(year)) as \"frq\" FROM coefficients_bySpecies WHERE speciesCode = \"{speciesCode}\" AND closestStop = \"{closestStop}\"'\n",
    "        coeficients = pd.read_sql(query,con=cnx)\n",
    "        coeficients['frq'] = coeficients.apply(lambda g: (g.frq/gap),axis=1)\n",
    "    except Exception as maskExc:\n",
    "        raise maskExc\n",
    "    return coeficients['frq']"
   ]
  },
  {
   "cell_type": "markdown",
   "metadata": {},
   "source": [
    "For birds with robust data, do they behave the same at all stops? If not, what stops does each species appear to prefer? Is that preference explained by habitat?"
   ]
  },
  {
   "cell_type": "code",
   "execution_count": 147,
   "metadata": {},
   "outputs": [],
   "source": [
    "def wklyAbd_selectSpecies(cnx,speciesList: list):\n",
    "    cnx=cnx\n",
    "    try:\n",
    "        querySpecies = []\n",
    "        for i in speciesList:\n",
    "            i = str(i)\n",
    "            querySpecies.append(i)\n",
    "        querySpecies = str(querySpecies).strip('[]')\n",
    "        #query = f'SELECT speciesCode,FX.locId,StopName,obsDt,howMany FROM historicObservations AS FX  LEFT JOIN closestStop on FX.locId = closestStop.locId WHERE (SELECT count(distinct(subId)) FROM historicObservations AS QA WHERE QA.comName = FX.comName) > 2 AND FX.locId in ({query_locIds})'\n",
    "        ##todo #83 write an exception to convert non-string speciesList values to strings that returns the db.error if the strings do not represent columns --DONE\n",
    "        query = f'SELECT speciesCode,FX.locId,StopName,obsDt,howMany FROM historicObservations AS FX  LEFT JOIN closestStop on FX.locId = closestStop.locId WHERE (SELECT count(distinct(subId)) FROM historicObservations AS QA WHERE QA.comName = FX.comName) > 2 AND FX.speciesCode in ({querySpecies});'\n",
    "        obsData = pd.read_sql(query,con=cnx,parse_dates=['obsDt'])\n",
    "        obsData = obsData.assign(obsDt_week=obsData.obsDt.dt.isocalendar().week)\n",
    "        obsData['howMany'].fillna(1,inplace=True)\n",
    "        obsData = obsData.groupby(['speciesCode','StopName','obsDt_week'])['howMany'].mean().reset_index()\n",
    "        #maxCount = obsData.groupby(['speciesCode'])['howMany'].max()\n",
    "        avgCount = obsData.groupby(['speciesCode'])['howMany'].mean()\n",
    "        #derive relative abundance\n",
    "        obsData['relativeAbundance'] = obsData.apply(lambda x: (x.howMany/(avgCount[x.speciesCode])),axis=1)  #baseline relative abd, same process as Fink et. all\n",
    "        obsData['relativeAbundance'] = obsData.apply(lambda f: stopQualityMask(f.speciesCode,f.StopName)*f.relativeAbundance,axis=1)  #apply frequency mask\n",
    "        avgAbd = obsData.groupby(['speciesCode'])['relativeAbundance'].mean()\n",
    "        obsData['relativeAbundance'] = obsData.apply(lambda n: ((n.relativeAbundance)/(avgAbd[n.speciesCode])),axis=1)  #normalizing around average relative abundance\n",
    "        obsData.sort_values(by=['StopName','obsDt_week'],ascending=True,inplace=True)\n",
    "\n",
    "                #apply absence smoothing mask\n",
    "        container = []\n",
    "        speciesContainer = []\n",
    "        stopKeys = obsData.drop_duplicates(subset=['StopName'])\n",
    "        for x in speciesList:\n",
    "            for StopName in stopKeys.itertuples():\n",
    "                stop_obsData = obsData[obsData['speciesCode']==x]\n",
    "                stop_obsData = stop_obsData[stop_obsData['StopName']==StopName.StopName]\n",
    "                allweek = pd.DataFrame({'obsDt_week':range(1,53)})\n",
    "                stop_obsData.drop(columns=['speciesCode','StopName','howMany'],inplace=True)\n",
    "                stop_obsData = pd.merge(left=stop_obsData,right=allweek,left_on='obsDt_week',right_on='obsDt_week',how='outer')\n",
    "                stop_obsData.set_index('obsDt_week',inplace=True)\n",
    "                stop_obsData.sort_index(axis='index',ascending=True,inplace=True)\n",
    "                stop_obsData['mask'] = stop_obsData['relativeAbundance'].interpolate(method='ffill',limit=5,limit_direction='forward')  #mask, values do not matter\n",
    "                stop_obsData['mask'] = stop_obsData['mask'].interpolate(method='bfill',limit=2,limit_direction='backward')  #mask, values do not matter\n",
    "                stop_obsData.loc[stop_obsData['mask'].isna() == True,'relativeAbundance'] = 0\n",
    "                stop_obsData['fx_relativeAbundance'] = stop_obsData['relativeAbundance'].interpolate(method='linear',limit=5,limit_direction='forward')\n",
    "                stop_obsData['fx_relativeAbundance'] = stop_obsData['fx_relativeAbundance'].interpolate(method='linear',limit=2,limit_direction='backward')\n",
    "                stop_obsData.drop(columns=['relativeAbundance','mask'],inplace=True)\n",
    "                stop_obsData.rename(columns={'fx_relativeAbundance':StopName.StopName},inplace=True)\n",
    "                #stop_obsData.reset_index(inplace=True)\n",
    "                #stop_obsData['StopName'] = StopName.StopName\n",
    "                #stop_obsData['speciesCode'] = x\n",
    "                #stop_obsData.drop(columns=['mask'],inplace=True)\n",
    "                \n",
    "                container.append(stop_obsData)\n",
    "            weeklySpeciesAbd = pd.concat(container,ignore_index=False,axis=1)\n",
    "            weeklySpeciesAbd = weeklySpeciesAbd.fillna(value=0,axis=0)\n",
    "            weeklySpeciesAbd['speciesCode'] = x\n",
    "            weeklySpeciesAbd.reset_index(inplace=True)\n",
    "            speciesContainer.append(weeklySpeciesAbd)\n",
    "        popularSpecies = pd.DataFrame(pd.concat(speciesContainer,ignore_index=True,axis=0))\n",
    "\n",
    "    except db.DatabaseError as dbExc:\n",
    "        raise f'there was an issue with the database request: {dbExc}'\n",
    "    except Exception as ex:\n",
    "        raise ex\n",
    "    finally: cnx.close()\n",
    "    return popularSpecies"
   ]
  },
  {
   "cell_type": "code",
   "execution_count": 148,
   "metadata": {},
   "outputs": [],
   "source": [
    "amerob = wklyAbd_selectSpecies(cnx=connectDB(),speciesList=['gockin'])"
   ]
  },
  {
   "cell_type": "code",
   "execution_count": 140,
   "metadata": {},
   "outputs": [
    {
     "data": {
      "text/plain": [
       "[('ChiricoTrail_PooPooPoint', -28.046615005680504),\n",
       " ('EastSunsetWay', -2.978924254005184),\n",
       " ('HighSchool', 0.32057768626443184),\n",
       " ('MargaretsWay', -32.254608348031894),\n",
       " ('MountTeneriffe', 1.0),\n",
       " ('SquakMountain', -1.8049838199225543)]"
      ]
     },
     "execution_count": 140,
     "metadata": {},
     "output_type": "execute_result"
    }
   ],
   "source": [
    "fit = [(stop,r2_score(amerob.MountTeneriffe,amerob[stop])) for stop in list(amerob)]\n",
    "var = [(stop,explained_variance_score(amerob.MountTeneriffe,amerob[stop])) for stop in list(amerob)]\n",
    "\n",
    "#fit_df = pd.DataFrame(data=[fit,var],columns=['stopName','r_squared','explainedVariance'])\n",
    "#fit_df.sort_values(by='r_squared',ascending=False,inplace=True)\n",
    "#fit_df['r_squared'] = fit_df['r_squared'].astype('float64')\n",
    "#fit_df['error'] = 1-fit_df['r_squared']\n",
    "#fit_df = fit_df[fit_df['r_squared'] > 0.65]\n",
    "fit"
   ]
  },
  {
   "cell_type": "code",
   "execution_count": 61,
   "metadata": {},
   "outputs": [
    {
     "data": {
      "text/plain": [
       "1    NaN\n",
       "2    NaN\n",
       "3    NaN\n",
       "4    NaN\n",
       "5    NaN\n",
       "6    NaN\n",
       "7    NaN\n",
       "8    NaN\n",
       "9    NaN\n",
       "10   NaN\n",
       "11   NaN\n",
       "12   NaN\n",
       "13   NaN\n",
       "14   NaN\n",
       "15   NaN\n",
       "16   NaN\n",
       "17   NaN\n",
       "18   NaN\n",
       "19   NaN\n",
       "20   NaN\n",
       "21   NaN\n",
       "22   NaN\n",
       "23   NaN\n",
       "24   NaN\n",
       "25   NaN\n",
       "26   NaN\n",
       "27   NaN\n",
       "28   NaN\n",
       "29   NaN\n",
       "30   NaN\n",
       "31   NaN\n",
       "32   NaN\n",
       "33   NaN\n",
       "34   NaN\n",
       "35   NaN\n",
       "36   NaN\n",
       "37   NaN\n",
       "38   NaN\n",
       "39   NaN\n",
       "40   NaN\n",
       "41   NaN\n",
       "42   NaN\n",
       "43   NaN\n",
       "44   NaN\n",
       "45   NaN\n",
       "46   NaN\n",
       "47   NaN\n",
       "48   NaN\n",
       "49   NaN\n",
       "50   NaN\n",
       "51   NaN\n",
       "52   NaN\n",
       "Name: MountTeneriffe, dtype: float64"
      ]
     },
     "execution_count": 61,
     "metadata": {},
     "output_type": "execute_result"
    }
   ],
   "source": [
    "selection = amerob[amerob['StopName']=='MountTeneriffe']\n",
    "series = pd.Series(name='MountTeneriffe',data=selection['fx_relativeAbundance'],index=range(1,53))\n",
    "series"
   ]
  },
  {
   "cell_type": "code",
   "execution_count": null,
   "metadata": {},
   "outputs": [],
   "source": [
    "\n",
    "\n",
    "        #apply absence smoothing mask\n",
    "        container = []\n",
    "        \n",
    "        stopKeys = obsData.drop_duplicates(subset=['StopName'])\n",
    "        for StopName in stopKeys.itertuples():\n",
    "            stop_obsData = obsData[obsData['speciesCode']==stopKeys.StopName]\n",
    "\n",
    "            ##removing this block, it corrupts interpolation comparisons\n",
    "            #weekMin = (species_obsData['obsDt_week'].min()-8)\n",
    "            #if weekMin <= 0: weekMin = 1\n",
    "            #weekMax = (species_obsData['obsDt_week'].max()+8)\n",
    "            #if weekMax > 53: weekMax = 53\n",
    "            #allweek = pd.DataFrame({'obsDt_week':range(weekMin,weekMax)})\n",
    "            \n",
    "            allweek = pd.DataFrame({'obsDt_week':range(1,53)})\n",
    "            stop_obsData.drop(columns=['speciesCode','StopName'],inplace=True)\n",
    "            stop_obsData = pd.merge(left=stop_obsData,right=allweek,left_on='obsDt_week',right_on='obsDt_week',how='outer')\n",
    "            stop_obsData.set_index('obsDt_week',inplace=True)\n",
    "            stop_obsData.sort_index(axis='index',ascending=True,inplace=True)\n",
    "            stop_obsData['mask'] = stop_obsData['relativeAbundance'].interpolate(method='index',limit=5,limit_direction='both')  #mask, values do not matter\n",
    "            stop_obsData.loc[stop_obsData['mask'].isna() == True,'relativeAbundance'] = 0\n",
    "            stop_obsData.reset_index(inplace=True)\n",
    "            stop_obsData['StopName'] = StopName.StopName\n",
    "            stop_obsData.drop(columns=['mask'],inplace=True)\n",
    "            container.append(stop_obsData)\n",
    "        weeklySpeciesAbd = pd.DataFrame(pd.concat(list,ignore_index=True))\n",
    "    except db.DatabaseError as dbExc:\n",
    "        raise f'there was an issue with the database request: {dbExc}'\n",
    "    except Exception as ex:\n",
    "        raise ex\n",
    "    finally: cnx.close()\n",
    "    return weeklySpeciesAbd"
   ]
  }
 ],
 "metadata": {
  "interpreter": {
   "hash": "ce2b8b10e8082f390f0f7c9c12f304c9df3ed4554edd4b21c0fcee2d9ef65582"
  },
  "kernelspec": {
   "display_name": "Python 3.9.7 ('base')",
   "language": "python",
   "name": "python3"
  },
  "language_info": {
   "codemirror_mode": {
    "name": "ipython",
    "version": 3
   },
   "file_extension": ".py",
   "mimetype": "text/x-python",
   "name": "python",
   "nbconvert_exporter": "python",
   "pygments_lexer": "ipython3",
   "version": "3.9.7"
  },
  "orig_nbformat": 4
 },
 "nbformat": 4,
 "nbformat_minor": 2
}
