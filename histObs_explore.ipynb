{
 "cells": [
  {
   "cell_type": "code",
   "execution_count": 10,
   "metadata": {},
   "outputs": [],
   "source": [
    "import pandas as pd\n",
    "import requests\n",
    "import datetime as dt\n",
    "import json\n",
    "import sys\n",
    "import os\n",
    "import sqlite3 as db"
   ]
  },
  {
   "cell_type": "code",
   "execution_count": 11,
   "metadata": {},
   "outputs": [],
   "source": [
    "ebird_token = 'j6c7l80ga2ib'\n",
    "cnx = db.connect('trailheadDirectBirds_sous.db')\n",
    "cur = cnx.cursor()"
   ]
  },
  {
   "cell_type": "code",
   "execution_count": 12,
   "metadata": {},
   "outputs": [],
   "source": [
    "##get latest trailhead hotspot dataset\n",
    "##TODO: #19 hardcode is an anti-pattern, fix to fetch and load the latest file --DONE\n",
    "trailheadHotspots = pd.DataFrame()\n",
    "trailheadHotspots = pd.read_sql('select * from Hotspots',con=cnx)\n",
    "trailheadHotspots.set_index('index',inplace=True)\n",
    "##convert data to useful types\n",
    "trailheadHotspots['latestObsDt'] = trailheadHotspots['latestObsDt'].astype('datetime64[ns]')\n",
    "trailheadHotspots['latestUpdate'] = trailheadHotspots['latestUpdate'].astype('datetime64[ns]')"
   ]
  },
  {
   "cell_type": "markdown",
   "metadata": {},
   "source": [
    "Duplicate Check\n",
    "\n",
    "Duplicate checking is done here rather than in the hotspot factory to prevent shelling of the eBird API while still allowing trailheads in close proximity to each other to pull the same observation data. "
   ]
  },
  {
   "cell_type": "code",
   "execution_count": 13,
   "metadata": {},
   "outputs": [],
   "source": [
    "##TODO #21 --DONE\n",
    "##get a unique list of trailhead hotspots\n",
    "allHotspots = pd.DataFrame()\n",
    "allHotspots = trailheadHotspots.sort_values(by=['locId','latestObsDt'],ascending=False,ignore_index=True)\n",
    "allHotspots = allHotspots[['locId','latestObsDt']].drop_duplicates(subset=['locId'],keep='first')"
   ]
  },
  {
   "cell_type": "markdown",
   "metadata": {},
   "source": [
    "##Checking for new hotspots and observations\n",
    "1. Compare the latest trailheadHotspots eBird locId's with the eBird locId's in the cooking DB\n",
    "2. For new locId's:\n",
    "    1. Fetch historical data from the beginning of 2019 to today()-1 from the eBird REST API\n",
    "    2. Concat and export the results as a .csv\n",
    "3. For locId's with observations in the DB, obtain the most recent observation date from the eBird REST API for that hotspot:\n",
    "    1. Make a list of locId's WHERE eBird's latest observation date is more recent than the latest observation date in the DB. Using the most recent DB obsDt as a start date and the most recent eBird API obsDt as an end date, fetch historical sightings from the eBird service\n",
    "    2. IF the latest obsDt for a locId/hotspot from eBird is within 15 days of the latest obsDt in the DB, remove the locId from the list of locId's to be passed into the historical eBird sighting service\n",
    "        - TODO: #20 write 'aging' and 'decayed' testing, error logging"
   ]
  },
  {
   "cell_type": "code",
   "execution_count": 56,
   "metadata": {},
   "outputs": [],
   "source": [
    "##TODO #27 build comparison table between the latest hotspot observation vs latest obs in 'historicObservations' table --DONE\n",
    "##fetch the latest observation for each hotspot in the 'historicObservations' table\n",
    "histHotObs = pd.DataFrame()\n",
    "histHotObs = pd.read_sql('select * from historicObservations',con=cnx)\n",
    "##clean up and pull out only what we need\n",
    "histHotObs['obsDt'] = histHotObs['obsDt'].astype('datetime64[ns]')\n",
    "histHotObs = histHotObs[['locId','obsDt']].sort_values(by=['locId','obsDt'],ascending=False,ignore_index=True)\n",
    "histHotObs.drop_duplicates(subset=['locId'],keep='first',inplace=True)\n",
    "##merge\n",
    "dfk = pd.merge(\n",
    "    left=allHotspots,\n",
    "    right=histHotObs,\n",
    "    how='left',\n",
    "    left_on='locId',\n",
    "    right_on='locId'\n",
    ")"
   ]
  },
  {
   "cell_type": "code",
   "execution_count": 57,
   "metadata": {},
   "outputs": [],
   "source": [
    "##replace null, NaT values with the earliest value found in the table\n",
    "min_obsDt = pd.read_sql('select obsDt from historicObservations',con=cnx)\n",
    "min_obsDt['obsDt'] = min_obsDt['obsDt'].astype('datetime64[ns]')\n",
    "min_obsDt = min(min_obsDt['obsDt'])\n",
    "\n",
    "dfk.loc[(dfk['obsDt'].isna()) | (dfk['obsDt'].isnull()) | (dfk['obsDt'] == ''),'obsDt'] = min_obsDt"
   ]
  },
  {
   "cell_type": "code",
   "execution_count": 165,
   "metadata": {},
   "outputs": [],
   "source": [
    "##get the latest observation date for each locId/hotspot\n",
    "##22: update the mess in the two lines below to get only subnational2code from trailheadHotspots\n",
    "THlocIds = trailheadHotspots[['subnational2Code','locId']].sort_values(by=['subnational2Code','locId'],ascending=False,ignore_index=True)\n",
    "THlocIds.drop_duplicates(subset=['locId'],keep='first',inplace=True)\n",
    "ebirdLocs = []\n",
    "##22: update loop below with fetches of https://api.ebird.org/v2/ref/hotspot/info/{{subnational2Code}}\n",
    "    ##result contains the latest sighting date at each location\n",
    "for locId in THlocIds.itertuples():\n",
    "    time.sleep(0.3)\n",
    "    ebird_baseUrl = 'https://api.ebird.org/v2/ref/hotspot/info/'\n",
    "    ebird_url = ebird_baseUrl + locId.locId\n",
    "    ebird_auth = {'X-eBirdApiToken': ebird_token}\n",
    "    ebird_params = {\n",
    "        'back':'30',\n",
    "        'fmt':'json'\n",
    "        }\n",
    "    ebird_request = requests.get(ebird_url,params=ebird_params,headers=ebird_auth)\n",
    "    if ebird_request.status_code == requests.codes.ok:\n",
    "        ebird_resp = pd.DataFrame(ebird_request.json(),index=[0])\n",
    "        ebirdLocs.append(ebird_resp)\n",
    "    ebird_request.raise_for_status()\n",
    "\n",
    "ebirdLocs_toDate = pd.concat(ebirdLocs)"
   ]
  },
  {
   "cell_type": "code",
   "execution_count": 167,
   "metadata": {},
   "outputs": [
    {
     "data": {
      "text/plain": [
       "locId                object\n",
       "name                 object\n",
       "latitude            float64\n",
       "longitude           float64\n",
       "countryCode          object\n",
       "countryName          object\n",
       "subnational1Name     object\n",
       "subnational1Code     object\n",
       "subnational2Code     object\n",
       "subnational2Name     object\n",
       "isHotspot              bool\n",
       "locName              object\n",
       "lat                 float64\n",
       "lng                 float64\n",
       "hierarchicalName     object\n",
       "locID                object\n",
       "dtype: object"
      ]
     },
     "execution_count": 167,
     "metadata": {},
     "output_type": "execute_result"
    }
   ],
   "source": [
    "##TODO #22 recency refactor: get the latest date some other way; eBird hotspot info does not contain the latest date\n",
    "ebirdLocs_toDate.dtypes\n",
    "##TODO #23 recency refactor: pare down results of hotspot batches to match known Trailhead Direct eBird hotspots"
   ]
  },
  {
   "cell_type": "code",
   "execution_count": 58,
   "metadata": {},
   "outputs": [
    {
     "data": {
      "text/html": [
       "<div>\n",
       "<style scoped>\n",
       "    .dataframe tbody tr th:only-of-type {\n",
       "        vertical-align: middle;\n",
       "    }\n",
       "\n",
       "    .dataframe tbody tr th {\n",
       "        vertical-align: top;\n",
       "    }\n",
       "\n",
       "    .dataframe thead th {\n",
       "        text-align: right;\n",
       "    }\n",
       "</style>\n",
       "<table border=\"1\" class=\"dataframe\">\n",
       "  <thead>\n",
       "    <tr style=\"text-align: right;\">\n",
       "      <th></th>\n",
       "      <th>locId</th>\n",
       "      <th>latestObsDt</th>\n",
       "      <th>obsDt</th>\n",
       "      <th>DaysDiff</th>\n",
       "      <th>run</th>\n",
       "    </tr>\n",
       "  </thead>\n",
       "  <tbody>\n",
       "    <tr>\n",
       "      <th>1</th>\n",
       "      <td>L854460</td>\n",
       "      <td>2022-01-23 10:16:00</td>\n",
       "      <td>2020-12-07 07:25:00</td>\n",
       "      <td>412.0</td>\n",
       "      <td>False</td>\n",
       "    </tr>\n",
       "    <tr>\n",
       "      <th>2</th>\n",
       "      <td>L8365620</td>\n",
       "      <td>2022-01-31 16:16:00</td>\n",
       "      <td>2020-08-28 13:30:00</td>\n",
       "      <td>521.0</td>\n",
       "      <td>False</td>\n",
       "    </tr>\n",
       "    <tr>\n",
       "      <th>6</th>\n",
       "      <td>L8102503</td>\n",
       "      <td>2022-01-27 08:01:00</td>\n",
       "      <td>2020-10-17 09:22:00</td>\n",
       "      <td>466.0</td>\n",
       "      <td>False</td>\n",
       "    </tr>\n",
       "    <tr>\n",
       "      <th>8</th>\n",
       "      <td>L7672326</td>\n",
       "      <td>2021-08-21 12:30:00</td>\n",
       "      <td>2020-08-15 15:30:00</td>\n",
       "      <td>370.0</td>\n",
       "      <td>False</td>\n",
       "    </tr>\n",
       "    <tr>\n",
       "      <th>9</th>\n",
       "      <td>L7485982</td>\n",
       "      <td>2021-02-20 12:24:00</td>\n",
       "      <td>2019-01-01 08:18:00</td>\n",
       "      <td>781.0</td>\n",
       "      <td>False</td>\n",
       "    </tr>\n",
       "  </tbody>\n",
       "</table>\n",
       "</div>"
      ],
      "text/plain": [
       "      locId         latestObsDt               obsDt  DaysDiff    run\n",
       "1   L854460 2022-01-23 10:16:00 2020-12-07 07:25:00     412.0  False\n",
       "2  L8365620 2022-01-31 16:16:00 2020-08-28 13:30:00     521.0  False\n",
       "6  L8102503 2022-01-27 08:01:00 2020-10-17 09:22:00     466.0  False\n",
       "8  L7672326 2021-08-21 12:30:00 2020-08-15 15:30:00     370.0  False\n",
       "9  L7485982 2021-02-20 12:24:00 2019-01-01 08:18:00     781.0  False"
      ]
     },
     "execution_count": 58,
     "metadata": {},
     "output_type": "execute_result"
    }
   ],
   "source": [
    "##todo #8: write recency check engine and updater. --DONE\n",
    "##TODO: #15 Check for a gap between the latest run time and current date --DONE\n",
    "\n",
    "for x in dfk:\n",
    "    dateDiff = dfk['latestObsDt']-dfk['obsDt']\n",
    "    dfk['DaysDiff'] = dateDiff.dt.days\n",
    "\n",
    "##avoiding running the big differences for now\n",
    "dfk['run'] = dfk.loc[(dfk['DaysDiff']>8) & (dfk['DaysDiff']<900),'run'] = True\n",
    "dfk.loc[(dfk['DaysDiff']<8) | (dfk['DaysDiff']<900),'run'] = False\n",
    "dfk = dfk[dfk['run'] == False]\n",
    "dfk.head()"
   ]
  },
  {
   "cell_type": "code",
   "execution_count": 63,
   "metadata": {},
   "outputs": [
    {
     "data": {
      "text/html": [
       "<div>\n",
       "<style scoped>\n",
       "    .dataframe tbody tr th:only-of-type {\n",
       "        vertical-align: middle;\n",
       "    }\n",
       "\n",
       "    .dataframe tbody tr th {\n",
       "        vertical-align: top;\n",
       "    }\n",
       "\n",
       "    .dataframe thead th {\n",
       "        text-align: right;\n",
       "    }\n",
       "</style>\n",
       "<table border=\"1\" class=\"dataframe\">\n",
       "  <thead>\n",
       "    <tr style=\"text-align: right;\">\n",
       "      <th></th>\n",
       "      <th>locId</th>\n",
       "      <th>latestObsDt</th>\n",
       "      <th>obsDt</th>\n",
       "      <th>DaysDiff</th>\n",
       "      <th>run</th>\n",
       "    </tr>\n",
       "  </thead>\n",
       "  <tbody>\n",
       "    <tr>\n",
       "      <th>1</th>\n",
       "      <td>L854460</td>\n",
       "      <td>2022-01-23 10:16:00</td>\n",
       "      <td>2020-12-07 07:25:00</td>\n",
       "      <td>412.0</td>\n",
       "      <td>False</td>\n",
       "    </tr>\n",
       "    <tr>\n",
       "      <th>2</th>\n",
       "      <td>L8365620</td>\n",
       "      <td>2022-01-31 16:16:00</td>\n",
       "      <td>2020-08-28 13:30:00</td>\n",
       "      <td>521.0</td>\n",
       "      <td>False</td>\n",
       "    </tr>\n",
       "  </tbody>\n",
       "</table>\n",
       "</div>"
      ],
      "text/plain": [
       "      locId         latestObsDt               obsDt  DaysDiff    run\n",
       "1   L854460 2022-01-23 10:16:00 2020-12-07 07:25:00     412.0  False\n",
       "2  L8365620 2022-01-31 16:16:00 2020-08-28 13:30:00     521.0  False"
      ]
     },
     "execution_count": 63,
     "metadata": {},
     "output_type": "execute_result"
    }
   ],
   "source": [
    "##TODO #28 write a daterange series for each locId in dfk that fails (false) the run test --DONE\n",
    "dfk_test = pd.DataFrame(dfk.head(2))\n",
    "dfk_test.head()"
   ]
  },
  {
   "cell_type": "code",
   "execution_count": null,
   "metadata": {},
   "outputs": [],
   "source": [
    "##TODO #30 write a test that aborts the rest of the scripts if all locId's are up to date (true)"
   ]
  },
  {
   "cell_type": "code",
   "execution_count": 74,
   "metadata": {},
   "outputs": [],
   "source": [
    "ObsHist = []\n",
    "import time\n",
    "\n",
    "for locId in dfk_test.itertuples():\n",
    "    for x in pd.date_range(start=locId.obsDt,end=locId.latestObsDt,freq='D'):\n",
    "        time.sleep(0.3)\n",
    "        ymd = '{}/{}/{}'.format(x.year,x.month,x.day)\n",
    "        ebird_baseUrl = 'https://api.ebird.org/v2/data/obs/'\n",
    "        ebird_url = ebird_baseUrl + locId.locId + '/historic/' + ymd\n",
    "        ebird_auth = {'X-eBirdApiToken': ebird_token}\n",
    "        ebird_params = {\n",
    "            'fmt':'json',\n",
    "            'detail':'simple'\n",
    "        }\n",
    "        ebird_request = requests.get(ebird_url,params=ebird_params,headers=ebird_auth)\n",
    "        if ebird_request.status_code == requests.codes.ok:\n",
    "            ebird_resp = pd.DataFrame(ebird_request.json())\n",
    "            ObsHist.append(ebird_resp)\n",
    "        ebird_request.raise_for_status()"
   ]
  },
  {
   "cell_type": "code",
   "execution_count": 75,
   "metadata": {},
   "outputs": [],
   "source": [
    "##TODO #29 write the new observations to the database\n",
    "historicObservations = pd.concat(ObsHist)"
   ]
  },
  {
   "cell_type": "code",
   "execution_count": 76,
   "metadata": {},
   "outputs": [],
   "source": [
    "historicObservations.to_sql(name='historicObservations_cooking',con=cnx,if_exists='append')"
   ]
  },
  {
   "cell_type": "code",
   "execution_count": 24,
   "metadata": {},
   "outputs": [],
   "source": [
    "##removing made obsolete by other scripts written for issue 28\n",
    "import time\n",
    "\n",
    "ObsHist = []\n",
    "\n",
    "for locId in xCookedHotspots.itertuples():\n",
    "    for date in dateList_hist:\n",
    "        time.sleep(0.5)\n",
    "        date = date\n",
    "        ymd = '{}/{}/{}'.format(date.year,date.month,date.day)\n",
    "        ebird_baseUrl = 'https://api.ebird.org/v2/data/obs/'\n",
    "        ebird_url = ebird_baseUrl + locId.locId + '/historic/' + ymd\n",
    "        ebird_auth = {'X-eBirdApiToken': ebird_token}\n",
    "        ebird_params = {\n",
    "            'fmt':'json',\n",
    "            'detail':'simple'\n",
    "        }\n",
    "        ebird_request = requests.get(ebird_url,params=ebird_params,headers=ebird_auth)\n",
    "        if ebird_request.status_code == requests.codes.ok:\n",
    "            ebird_resp = pd.DataFrame(ebird_request.json())\n",
    "            ObsHist.append(ebird_resp)\n",
    "        ebird_request.raise_for_status()"
   ]
  },
  {
   "cell_type": "code",
   "execution_count": 25,
   "metadata": {},
   "outputs": [
    {
     "data": {
      "text/html": [
       "<div>\n",
       "<style scoped>\n",
       "    .dataframe tbody tr th:only-of-type {\n",
       "        vertical-align: middle;\n",
       "    }\n",
       "\n",
       "    .dataframe tbody tr th {\n",
       "        vertical-align: top;\n",
       "    }\n",
       "\n",
       "    .dataframe thead th {\n",
       "        text-align: right;\n",
       "    }\n",
       "</style>\n",
       "<table border=\"1\" class=\"dataframe\">\n",
       "  <thead>\n",
       "    <tr style=\"text-align: right;\">\n",
       "      <th></th>\n",
       "      <th>speciesCode</th>\n",
       "      <th>comName</th>\n",
       "      <th>sciName</th>\n",
       "      <th>locId</th>\n",
       "      <th>locName</th>\n",
       "      <th>obsDt</th>\n",
       "      <th>howMany</th>\n",
       "      <th>lat</th>\n",
       "      <th>lng</th>\n",
       "      <th>obsValid</th>\n",
       "      <th>obsReviewed</th>\n",
       "      <th>locationPrivate</th>\n",
       "      <th>subId</th>\n",
       "    </tr>\n",
       "  </thead>\n",
       "  <tbody>\n",
       "    <tr>\n",
       "      <th>0</th>\n",
       "      <td>commer</td>\n",
       "      <td>Common Merganser</td>\n",
       "      <td>Mergus merganser</td>\n",
       "      <td>L4381196</td>\n",
       "      <td>Cedar Grove Natual Area</td>\n",
       "      <td>2020-04-26 13:30</td>\n",
       "      <td>1</td>\n",
       "      <td>47.462973</td>\n",
       "      <td>-122.080936</td>\n",
       "      <td>True</td>\n",
       "      <td>False</td>\n",
       "      <td>False</td>\n",
       "      <td>S67866709</td>\n",
       "    </tr>\n",
       "    <tr>\n",
       "      <th>1</th>\n",
       "      <td>baleag</td>\n",
       "      <td>Bald Eagle</td>\n",
       "      <td>Haliaeetus leucocephalus</td>\n",
       "      <td>L4381196</td>\n",
       "      <td>Cedar Grove Natual Area</td>\n",
       "      <td>2020-04-26 13:30</td>\n",
       "      <td>2</td>\n",
       "      <td>47.462973</td>\n",
       "      <td>-122.080936</td>\n",
       "      <td>True</td>\n",
       "      <td>False</td>\n",
       "      <td>False</td>\n",
       "      <td>S67866709</td>\n",
       "    </tr>\n",
       "    <tr>\n",
       "      <th>2</th>\n",
       "      <td>rebsap</td>\n",
       "      <td>Red-breasted Sapsucker</td>\n",
       "      <td>Sphyrapicus ruber</td>\n",
       "      <td>L4381196</td>\n",
       "      <td>Cedar Grove Natual Area</td>\n",
       "      <td>2020-04-26 13:30</td>\n",
       "      <td>2</td>\n",
       "      <td>47.462973</td>\n",
       "      <td>-122.080936</td>\n",
       "      <td>True</td>\n",
       "      <td>False</td>\n",
       "      <td>False</td>\n",
       "      <td>S67866709</td>\n",
       "    </tr>\n",
       "    <tr>\n",
       "      <th>3</th>\n",
       "      <td>amerob</td>\n",
       "      <td>American Robin</td>\n",
       "      <td>Turdus migratorius</td>\n",
       "      <td>L4381196</td>\n",
       "      <td>Cedar Grove Natual Area</td>\n",
       "      <td>2020-04-26 13:30</td>\n",
       "      <td>2</td>\n",
       "      <td>47.462973</td>\n",
       "      <td>-122.080936</td>\n",
       "      <td>True</td>\n",
       "      <td>False</td>\n",
       "      <td>False</td>\n",
       "      <td>S67866709</td>\n",
       "    </tr>\n",
       "    <tr>\n",
       "      <th>0</th>\n",
       "      <td>rocpig</td>\n",
       "      <td>Rock Pigeon</td>\n",
       "      <td>Columba livia</td>\n",
       "      <td>L4381196</td>\n",
       "      <td>Cedar Grove Natual Area</td>\n",
       "      <td>2020-04-28 12:18</td>\n",
       "      <td>3</td>\n",
       "      <td>47.462973</td>\n",
       "      <td>-122.080936</td>\n",
       "      <td>True</td>\n",
       "      <td>False</td>\n",
       "      <td>False</td>\n",
       "      <td>S70289791</td>\n",
       "    </tr>\n",
       "  </tbody>\n",
       "</table>\n",
       "</div>"
      ],
      "text/plain": [
       "  speciesCode                 comName                   sciName     locId  \\\n",
       "0      commer        Common Merganser          Mergus merganser  L4381196   \n",
       "1      baleag              Bald Eagle  Haliaeetus leucocephalus  L4381196   \n",
       "2      rebsap  Red-breasted Sapsucker         Sphyrapicus ruber  L4381196   \n",
       "3      amerob          American Robin        Turdus migratorius  L4381196   \n",
       "0      rocpig             Rock Pigeon             Columba livia  L4381196   \n",
       "\n",
       "                   locName             obsDt  howMany        lat         lng  \\\n",
       "0  Cedar Grove Natual Area  2020-04-26 13:30        1  47.462973 -122.080936   \n",
       "1  Cedar Grove Natual Area  2020-04-26 13:30        2  47.462973 -122.080936   \n",
       "2  Cedar Grove Natual Area  2020-04-26 13:30        2  47.462973 -122.080936   \n",
       "3  Cedar Grove Natual Area  2020-04-26 13:30        2  47.462973 -122.080936   \n",
       "0  Cedar Grove Natual Area  2020-04-28 12:18        3  47.462973 -122.080936   \n",
       "\n",
       "   obsValid  obsReviewed  locationPrivate      subId  \n",
       "0      True        False            False  S67866709  \n",
       "1      True        False            False  S67866709  \n",
       "2      True        False            False  S67866709  \n",
       "3      True        False            False  S67866709  \n",
       "0      True        False            False  S70289791  "
      ]
     },
     "execution_count": 25,
     "metadata": {},
     "output_type": "execute_result"
    }
   ],
   "source": [
    "batch_ObsHist = pd.concat(ObsHist)\n",
    "batch_ObsHist.head()"
   ]
  },
  {
   "cell_type": "code",
   "execution_count": 26,
   "metadata": {},
   "outputs": [],
   "source": [
    "##TODO #16 dynamically name files to denote recency\n",
    "batch_ObsHist.to_csv('MountSi_Obs_2019to2021.csv',sep=',',index=False)"
   ]
  }
 ],
 "metadata": {
  "interpreter": {
   "hash": "ce2b8b10e8082f390f0f7c9c12f304c9df3ed4554edd4b21c0fcee2d9ef65582"
  },
  "kernelspec": {
   "display_name": "Python 3.9.7 64-bit ('base': conda)",
   "language": "python",
   "name": "python3"
  },
  "language_info": {
   "codemirror_mode": {
    "name": "ipython",
    "version": 3
   },
   "file_extension": ".py",
   "mimetype": "text/x-python",
   "name": "python",
   "nbconvert_exporter": "python",
   "pygments_lexer": "ipython3",
   "version": "3.9.7"
  },
  "orig_nbformat": 4
 },
 "nbformat": 4,
 "nbformat_minor": 2
}
