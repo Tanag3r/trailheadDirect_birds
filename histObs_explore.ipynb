{
 "cells": [
  {
   "cell_type": "code",
   "execution_count": 2,
   "metadata": {},
   "outputs": [],
   "source": [
    "import pandas as pd\n",
    "import requests\n",
    "import datetime as dt\n",
    "import json\n",
    "import sys\n",
    "import os"
   ]
  },
  {
   "cell_type": "code",
   "execution_count": 3,
   "metadata": {},
   "outputs": [
    {
     "data": {
      "text/html": [
       "<div>\n",
       "<style scoped>\n",
       "    .dataframe tbody tr th:only-of-type {\n",
       "        vertical-align: middle;\n",
       "    }\n",
       "\n",
       "    .dataframe tbody tr th {\n",
       "        vertical-align: top;\n",
       "    }\n",
       "\n",
       "    .dataframe thead th {\n",
       "        text-align: right;\n",
       "    }\n",
       "</style>\n",
       "<table border=\"1\" class=\"dataframe\">\n",
       "  <thead>\n",
       "    <tr style=\"text-align: right;\">\n",
       "      <th></th>\n",
       "      <th>locId</th>\n",
       "      <th>locName</th>\n",
       "      <th>countryCode</th>\n",
       "      <th>subnational1Code</th>\n",
       "      <th>subnational2Code</th>\n",
       "      <th>lat</th>\n",
       "      <th>lng</th>\n",
       "      <th>latestObsDt</th>\n",
       "      <th>numSpeciesAllTime</th>\n",
       "      <th>StopName</th>\n",
       "    </tr>\n",
       "  </thead>\n",
       "  <tbody>\n",
       "    <tr>\n",
       "      <th>0</th>\n",
       "      <td>L10128988</td>\n",
       "      <td>Berntsen Park</td>\n",
       "      <td>US</td>\n",
       "      <td>US-WA</td>\n",
       "      <td>US-WA-033</td>\n",
       "      <td>47.538439</td>\n",
       "      <td>-122.043281</td>\n",
       "      <td>2021-12-15 11:46</td>\n",
       "      <td>15.0</td>\n",
       "      <td>EastSunsetWay</td>\n",
       "    </tr>\n",
       "    <tr>\n",
       "      <th>1</th>\n",
       "      <td>L10129014</td>\n",
       "      <td>Confluence Park, Issaquah</td>\n",
       "      <td>US</td>\n",
       "      <td>US-WA</td>\n",
       "      <td>US-WA-033</td>\n",
       "      <td>47.536469</td>\n",
       "      <td>-122.039342</td>\n",
       "      <td>2022-01-08 12:54</td>\n",
       "      <td>44.0</td>\n",
       "      <td>EastSunsetWay</td>\n",
       "    </tr>\n",
       "    <tr>\n",
       "      <th>2</th>\n",
       "      <td>L8365620</td>\n",
       "      <td>Issaquah High School</td>\n",
       "      <td>US</td>\n",
       "      <td>US-WA</td>\n",
       "      <td>US-WA-033</td>\n",
       "      <td>47.522490</td>\n",
       "      <td>-122.028687</td>\n",
       "      <td>2021-12-17 08:00</td>\n",
       "      <td>58.0</td>\n",
       "      <td>EastSunsetWay</td>\n",
       "    </tr>\n",
       "    <tr>\n",
       "      <th>3</th>\n",
       "      <td>L8102503</td>\n",
       "      <td>Issaquah Salmon Hatchery</td>\n",
       "      <td>US</td>\n",
       "      <td>US-WA</td>\n",
       "      <td>US-WA-033</td>\n",
       "      <td>47.529503</td>\n",
       "      <td>-122.039512</td>\n",
       "      <td>2021-12-03 08:22</td>\n",
       "      <td>33.0</td>\n",
       "      <td>EastSunsetWay</td>\n",
       "    </tr>\n",
       "    <tr>\n",
       "      <th>4</th>\n",
       "      <td>L3352189</td>\n",
       "      <td>Maple Street ponds, Issaquah</td>\n",
       "      <td>US</td>\n",
       "      <td>US-WA</td>\n",
       "      <td>US-WA-033</td>\n",
       "      <td>47.543027</td>\n",
       "      <td>-122.053715</td>\n",
       "      <td>2021-11-30 10:12</td>\n",
       "      <td>46.0</td>\n",
       "      <td>EastSunsetWay</td>\n",
       "    </tr>\n",
       "  </tbody>\n",
       "</table>\n",
       "</div>"
      ],
      "text/plain": [
       "       locId                       locName countryCode subnational1Code  \\\n",
       "0  L10128988                 Berntsen Park          US            US-WA   \n",
       "1  L10129014     Confluence Park, Issaquah          US            US-WA   \n",
       "2   L8365620          Issaquah High School          US            US-WA   \n",
       "3   L8102503      Issaquah Salmon Hatchery          US            US-WA   \n",
       "4   L3352189  Maple Street ponds, Issaquah          US            US-WA   \n",
       "\n",
       "  subnational2Code        lat         lng       latestObsDt  \\\n",
       "0        US-WA-033  47.538439 -122.043281  2021-12-15 11:46   \n",
       "1        US-WA-033  47.536469 -122.039342  2022-01-08 12:54   \n",
       "2        US-WA-033  47.522490 -122.028687  2021-12-17 08:00   \n",
       "3        US-WA-033  47.529503 -122.039512  2021-12-03 08:22   \n",
       "4        US-WA-033  47.543027 -122.053715  2021-11-30 10:12   \n",
       "\n",
       "   numSpeciesAllTime       StopName  \n",
       "0               15.0  EastSunsetWay  \n",
       "1               44.0  EastSunsetWay  \n",
       "2               58.0  EastSunsetWay  \n",
       "3               33.0  EastSunsetWay  \n",
       "4               46.0  EastSunsetWay  "
      ]
     },
     "execution_count": 3,
     "metadata": {},
     "output_type": "execute_result"
    }
   ],
   "source": [
    "##get latest trailhead hotspot dataset\n",
    "\n",
    "trailheadHotspots = pd.DataFrame()\n",
    "trailheadHotspots = pd.read_csv('https://raw.githubusercontent.com/Tanag3r/trailheadDirect_birds/main/trailheadHotspots/trailheadHotspots_Y2022_M1_D11.csv')\n",
    "trailheadHotspots.head(5)"
   ]
  },
  {
   "cell_type": "code",
   "execution_count": 4,
   "metadata": {},
   "outputs": [
    {
     "data": {
      "text/html": [
       "<div>\n",
       "<style scoped>\n",
       "    .dataframe tbody tr th:only-of-type {\n",
       "        vertical-align: middle;\n",
       "    }\n",
       "\n",
       "    .dataframe tbody tr th {\n",
       "        vertical-align: top;\n",
       "    }\n",
       "\n",
       "    .dataframe thead th {\n",
       "        text-align: right;\n",
       "    }\n",
       "</style>\n",
       "<table border=\"1\" class=\"dataframe\">\n",
       "  <thead>\n",
       "    <tr style=\"text-align: right;\">\n",
       "      <th></th>\n",
       "      <th>Route</th>\n",
       "      <th>StopName</th>\n",
       "      <th>Address</th>\n",
       "      <th>Latitude</th>\n",
       "      <th>Longitude</th>\n",
       "    </tr>\n",
       "  </thead>\n",
       "  <tbody>\n",
       "    <tr>\n",
       "      <th>0</th>\n",
       "      <td>IssaquahAlps</td>\n",
       "      <td>EastSunsetWay</td>\n",
       "      <td>661-831 E Sunset Way, Issaquah, WA 98027</td>\n",
       "      <td>47.529635</td>\n",
       "      <td>-122.025119</td>\n",
       "    </tr>\n",
       "    <tr>\n",
       "      <th>1</th>\n",
       "      <td>IssaquahAlps</td>\n",
       "      <td>HighSchool</td>\n",
       "      <td>Parking lot, The Rainier Trail, Issaquah, WA 9...</td>\n",
       "      <td>47.519345</td>\n",
       "      <td>-122.029801</td>\n",
       "    </tr>\n",
       "    <tr>\n",
       "      <th>2</th>\n",
       "      <td>IssaquahAlps</td>\n",
       "      <td>ChiricoTrail_PooPooPoint</td>\n",
       "      <td>11400 Issaquah-Hobart Road Southeast, Issaquah...</td>\n",
       "      <td>47.499949</td>\n",
       "      <td>-122.021730</td>\n",
       "    </tr>\n",
       "    <tr>\n",
       "      <th>3</th>\n",
       "      <td>IssaquahAlps</td>\n",
       "      <td>SquakMountain</td>\n",
       "      <td>13201 Squak Mountain Rd SE, Issaquah, WA 98027</td>\n",
       "      <td>47.481465</td>\n",
       "      <td>-122.053997</td>\n",
       "    </tr>\n",
       "    <tr>\n",
       "      <th>4</th>\n",
       "      <td>IssaquahAlps</td>\n",
       "      <td>MargaretsWay</td>\n",
       "      <td>190th Ave SE, Issaquah, WA 98027</td>\n",
       "      <td>47.506620</td>\n",
       "      <td>-122.086660</td>\n",
       "    </tr>\n",
       "  </tbody>\n",
       "</table>\n",
       "</div>"
      ],
      "text/plain": [
       "          Route                  StopName  \\\n",
       "0  IssaquahAlps             EastSunsetWay   \n",
       "1  IssaquahAlps                HighSchool   \n",
       "2  IssaquahAlps  ChiricoTrail_PooPooPoint   \n",
       "3  IssaquahAlps             SquakMountain   \n",
       "4  IssaquahAlps              MargaretsWay   \n",
       "\n",
       "                                             Address   Latitude   Longitude  \n",
       "0           661-831 E Sunset Way, Issaquah, WA 98027  47.529635 -122.025119  \n",
       "1  Parking lot, The Rainier Trail, Issaquah, WA 9...  47.519345 -122.029801  \n",
       "2  11400 Issaquah-Hobart Road Southeast, Issaquah...  47.499949 -122.021730  \n",
       "3     13201 Squak Mountain Rd SE, Issaquah, WA 98027  47.481465 -122.053997  \n",
       "4                   190th Ave SE, Issaquah, WA 98027  47.506620 -122.086660  "
      ]
     },
     "execution_count": 4,
     "metadata": {},
     "output_type": "execute_result"
    }
   ],
   "source": [
    "##pull in trailhead reference as base for duplicate hotspot removal\n",
    "trailheadRef = pd.DataFrame()\n",
    "trailheadRef_json = 'https://raw.githubusercontent.com/Tanag3r/trailheadDirect_birds/main/trailheadsRef.json'\n",
    "response = requests.get(trailheadRef_json)\n",
    "trailheadRef = pd.DataFrame(response.json())\n",
    "\n",
    "trailheadRef.head()"
   ]
  },
  {
   "cell_type": "code",
   "execution_count": 5,
   "metadata": {},
   "outputs": [
    {
     "data": {
      "text/plain": [
       "DiscoveryParkSouth          26\n",
       "DiscoveryParkNorth          22\n",
       "EastSunsetWay               14\n",
       "HighSchool                  14\n",
       "MargaretsWay                10\n",
       "ChiricoTrail_PooPooPoint     7\n",
       "SquakMountain                6\n",
       "MountTeneriffe               6\n",
       "MountSi                      5\n",
       "LittleSi                     1\n",
       "Name: StopName, dtype: int64"
      ]
     },
     "execution_count": 5,
     "metadata": {},
     "output_type": "execute_result"
    }
   ],
   "source": [
    "trailheadHotspots['StopName'].value_counts()"
   ]
  },
  {
   "cell_type": "code",
   "execution_count": 27,
   "metadata": {},
   "outputs": [],
   "source": [
    "dfk = pd.merge(\n",
    "    left=trailheadHotspots,\n",
    "    right=trailheadRef,\n",
    "    how='left',\n",
    "    left_on='StopName',\n",
    "    right_on='StopName')"
   ]
  },
  {
   "cell_type": "code",
   "execution_count": 28,
   "metadata": {},
   "outputs": [
    {
     "data": {
      "text/plain": [
       "0      0\n",
       "1      0\n",
       "2      0\n",
       "3      0\n",
       "4      0\n",
       "      ..\n",
       "106    0\n",
       "107    0\n",
       "108    0\n",
       "109    0\n",
       "110    0\n",
       "Name: dist_fromTH, Length: 111, dtype: int32"
      ]
     },
     "execution_count": 28,
     "metadata": {},
     "output_type": "execute_result"
    }
   ],
   "source": [
    "##calculate absolute distance from stop location\n",
    "for i in dfk.itertuples():\n",
    "    latInt = dfk['lat']\n",
    "    latitudeInt = dfk['Latitude']\n",
    "    lngInt = dfk['lng']\n",
    "    longitudeInt = dfk['Longitude']\n",
    "    dfk['dist_fromTH'] = abs(latitudeInt-latInt) + abs(longitudeInt-lngInt)\n",
    "dfk['dist_fromTH'].astype('int32')"
   ]
  },
  {
   "cell_type": "code",
   "execution_count": 30,
   "metadata": {},
   "outputs": [
    {
     "data": {
      "text/plain": [
       "DiscoveryParkSouth          14\n",
       "DiscoveryParkNorth          13\n",
       "EastSunsetWay                9\n",
       "MargaretsWay                 8\n",
       "MountTeneriffe               5\n",
       "HighSchool                   3\n",
       "ChiricoTrail_PooPooPoint     2\n",
       "SquakMountain                1\n",
       "MountSi                      1\n",
       "Name: StopName, dtype: int64"
      ]
     },
     "execution_count": 30,
     "metadata": {},
     "output_type": "execute_result"
    }
   ],
   "source": [
    "##sort to push to the hotspot closest to the trailhead to the top of the subset\n",
    "dfk.sort_values(by=['locName','dist_fromTH'],inplace=True)\n",
    "##remove any duplicate hotspots except for the hotspot closest to the trailhead\n",
    "dfk_cooked = dfk.drop_duplicates(subset=['locName'],keep='first')\n",
    "\n",
    "dfk_cooked['StopName'].value_counts()"
   ]
  }
 ],
 "metadata": {
  "interpreter": {
   "hash": "ce2b8b10e8082f390f0f7c9c12f304c9df3ed4554edd4b21c0fcee2d9ef65582"
  },
  "kernelspec": {
   "display_name": "Python 3.9.7 64-bit ('base': conda)",
   "language": "python",
   "name": "python3"
  },
  "language_info": {
   "codemirror_mode": {
    "name": "ipython",
    "version": 3
   },
   "file_extension": ".py",
   "mimetype": "text/x-python",
   "name": "python",
   "nbconvert_exporter": "python",
   "pygments_lexer": "ipython3",
   "version": "3.9.7"
  },
  "orig_nbformat": 4
 },
 "nbformat": 4,
 "nbformat_minor": 2
}
