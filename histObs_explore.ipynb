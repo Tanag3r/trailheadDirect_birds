{
 "cells": [
  {
   "cell_type": "code",
   "execution_count": 15,
   "metadata": {},
   "outputs": [],
   "source": [
    "import pandas as pd\n",
    "import requests\n",
    "import datetime as dt\n",
    "import json\n",
    "import sys\n",
    "import os\n",
    "import sqlite3 as db"
   ]
  },
  {
   "cell_type": "code",
   "execution_count": 16,
   "metadata": {},
   "outputs": [],
   "source": [
    "ebird_token = 'j6c7l80ga2ib'\n",
    "db_name = 'trailheadDirectBirds_sous.db'"
   ]
  },
  {
   "cell_type": "code",
   "execution_count": 17,
   "metadata": {},
   "outputs": [],
   "source": [
    "##connect to database\n",
    "def connectDB():\n",
    "    try:\n",
    "        cnx = db.connect(db_name)\n",
    "    except Exception as cnxError:\n",
    "        raise UserWarning(f'Unable to connect to database due to: {cnxError}')\n",
    "    return cnx"
   ]
  },
  {
   "cell_type": "code",
   "execution_count": 88,
   "metadata": {},
   "outputs": [],
   "source": [
    "def get_hotspots():\n",
    "    trailheadHotspots = pd.DataFrame()\n",
    "    histHotObs = pd.DataFrame()\n",
    "    cnx = connectDB()\n",
    "    try:\n",
    "        #get the latest hotspots from the database\n",
    "        #trailheadHotspots = pd.read_sql('select * from Hotspots',con=cnx,parse_dates=['latestObsDt','latestUpdate'])   #Excluding Discovery Park until a later date\n",
    "        trailheadHotspots = pd.read_sql('select * from Hotspots where Hotspots.StopName not like \"DiscoveryPark%\"',con=cnx,parse_dates=['latestObsDt','latestUpdate'])\n",
    "        trailheadHotspots.set_index('index',inplace=True)\n",
    "        trailheadHotspots.sort_values(by=['locId','latestObsDt'],ascending=False,ignore_index=True,inplace=True)\n",
    "        uniqueHotspots = trailheadHotspots[['locId','latestObsDt']].drop_duplicates(subset=['locId'],keep='first')\n",
    "        #get hotspots from the observations in the database\n",
    "        histHotObs = pd.read_sql('select locId,obsDt,loadDate from historicObservations',con=cnx,parse_dates=['obsDt','loadDate'])\n",
    "        min_obsDt = min(histHotObs['obsDt'])\n",
    "        histHotObs.sort_values(by=['locId','obsDt'],ascending=False,ignore_index=True,inplace=True)\n",
    "        histHotObs.drop_duplicates(subset=['locId'],keep='first',inplace=True)\n",
    "        #merge the tables\n",
    "        hotspots = pd.merge(left=uniqueHotspots,right=histHotObs,how='left',left_on='locId',right_on='locId')\n",
    "        #remove hotspots without a recent checklist\n",
    "        agingMask = hotspots.apply(lambda y: bool(y.loadDate is not(pd.NaT) or bool(y.latestObsDt < y.loadDate)),axis=1)\n",
    "        hotspots = hotspots[~agingMask]\n",
    "        #replace null, NaT observation date values with the earliest value found in the table\n",
    "        hotspots.loc[(hotspots['obsDt'].isna()) | (hotspots['obsDt'].isnull()) | (hotspots['obsDt'] == ''),'obsDt'] = min_obsDt\n",
    "        #recency check\n",
    "        for x in hotspots:\n",
    "            dateDiff = hotspots['latestObsDt']-hotspots['obsDt']\n",
    "            hotspots['dateDiff'] = dateDiff.dt.days\n",
    "        hotspots['run'] = hotspots['dateDiff'].between(7,700,inclusive='both')\n",
    "        hotspots = hotspots[hotspots['run'] == True]\n",
    "        dfk = hotspots[['locId','latestObsDt','obsDt']]\n",
    "    except Exception as ee:\n",
    "        raise UserWarning(ee)\n",
    "    finally: cnx.close()\n",
    "    return dfk"
   ]
  },
  {
   "cell_type": "code",
   "execution_count": 33,
   "metadata": {},
   "outputs": [],
   "source": [
    "##TODO #22 recency refactor: get the latest date some other way; eBird hotspot info does not contain the latest date\n",
    "##TODO #23 recency refactor: pare down results of hotspot batches to match known Trailhead Direct eBird hotspots"
   ]
  },
  {
   "cell_type": "code",
   "execution_count": 90,
   "metadata": {},
   "outputs": [],
   "source": [
    "def get_histObs():\n",
    "    import time\n",
    "    from datetime import timedelta\n",
    "    ObsHist = []\n",
    "    cnx = connectDB()\n",
    "    try:\n",
    "        dfk_test = pd.DataFrame(get_hotspots().head(2))\n",
    "        if dfk_test.empty:\n",
    "            raise Exception('The provided dataframe is empty. There are either no eBird hotspots with new checklists or an error has occurred in the evaluation of the get_hotposts() function.')\n",
    "        for locId in dfk_test.itertuples():\n",
    "            startDate = locId.obsDt + timedelta(days=1)\n",
    "            for x in pd.date_range(start=startDate,end=locId.latestObsDt,freq='D'):\n",
    "                time.sleep(0.5)\n",
    "                ymd = '{}/{}/{}'.format(x.year,x.month,x.day)\n",
    "                ebird_baseUrl = 'https://api.ebird.org/v2/data/obs/'\n",
    "                ebird_url = ebird_baseUrl + locId.locId + '/historic/' + ymd\n",
    "                ebird_auth = {'X-eBirdApiToken': ebird_token}\n",
    "                ebird_params = {\n",
    "                    'fmt':'json',\n",
    "                    'detail':'simple'\n",
    "                }\n",
    "                ebird_request = requests.get(ebird_url,params=ebird_params,headers=ebird_auth)\n",
    "                if ebird_request.status_code == requests.codes.ok:\n",
    "                    ebird_resp = pd.DataFrame(ebird_request.json())\n",
    "                    ebird_resp['loadDate'] = dt.datetime.today()\n",
    "                    ObsHist.append(ebird_resp)\n",
    "                ebird_request.raise_for_status()\n",
    "        historicObservations = pd.concat(ObsHist)\n",
    "        historicObservations.to_sql(name='historicObservations_cooking',con=cnx,if_exists='append')\n",
    "        cnx.close()\n",
    "    except Exception as exc:\n",
    "        raise exc\n",
    "    return historicObservations"
   ]
  }
 ],
 "metadata": {
  "interpreter": {
   "hash": "ce2b8b10e8082f390f0f7c9c12f304c9df3ed4554edd4b21c0fcee2d9ef65582"
  },
  "kernelspec": {
   "display_name": "Python 3.9.7 64-bit ('base': conda)",
   "language": "python",
   "name": "python3"
  },
  "language_info": {
   "codemirror_mode": {
    "name": "ipython",
    "version": 3
   },
   "file_extension": ".py",
   "mimetype": "text/x-python",
   "name": "python",
   "nbconvert_exporter": "python",
   "pygments_lexer": "ipython3",
   "version": "3.9.7"
  },
  "orig_nbformat": 4
 },
 "nbformat": 4,
 "nbformat_minor": 2
}
