{
 "cells": [
  {
   "cell_type": "code",
   "execution_count": 2,
   "metadata": {},
   "outputs": [],
   "source": [
    "import pandas as pd\n",
    "import requests\n",
    "import pytest\n",
    "import datetime as dt\n",
    "import json\n",
    "import sys\n",
    "import os\n",
    "import sqlite3 as db"
   ]
  },
  {
   "cell_type": "code",
   "execution_count": 3,
   "metadata": {},
   "outputs": [],
   "source": [
    "ebird_token = 'j6c7l80ga2ib'\n",
    "db_name = 'trailheadDirectBirds_sous.db'"
   ]
  },
  {
   "cell_type": "code",
   "execution_count": 4,
   "metadata": {},
   "outputs": [],
   "source": [
    "##connect to database\n",
    "def connectDB():\n",
    "    try:\n",
    "        cnx = db.connect(db_name)\n",
    "    except Exception as cnxError:\n",
    "        raise UserWarning(f'Unable to connect to database due to: {cnxError}')\n",
    "    return cnx"
   ]
  },
  {
   "cell_type": "code",
   "execution_count": 5,
   "metadata": {},
   "outputs": [],
   "source": [
    "def get_hotspots():\n",
    "    trailheadHotspots = pd.DataFrame()\n",
    "    histHotObs = pd.DataFrame()\n",
    "    cnx = connectDB()\n",
    "    try:\n",
    "        #get the latest hotspots from the database\n",
    "        trailheadHotspots = pd.read_sql('select * from Hotspots',con=cnx,parse_dates=['latestObsDt','latestUpdate'])\n",
    "        trailheadHotspots.set_index('index',inplace=True)\n",
    "        trailheadHotspots.sort_values(by=['locId','latestObsDt'],ascending=False,ignore_index=True,inplace=True)\n",
    "        uniqueHotspots = trailheadHotspots[['locId','latestObsDt']].drop_duplicates(subset=['locId'],keep='first')\n",
    "        #get hotspots from the observations in the database\n",
    "        histHotObs = pd.read_sql('select locId,obsDt from historicObservations',con=cnx,parse_dates=['obsDt'])\n",
    "        min_obsDt = min(histHotObs['obsDt'])\n",
    "        histHotObs.sort_values(by=['locId','obsDt'],ascending=False,ignore_index=True,inplace=True)\n",
    "        histHotObs.drop_duplicates(subset=['locId'],keep='first',inplace=True)\n",
    "        #merge the tables\n",
    "        hotspots = pd.merge(left=uniqueHotspots,right=histHotObs,how='left',left_on='locId',right_on='locId')\n",
    "        #replace null, NaT observation date values with the earliest value found in the table\n",
    "        hotspots.loc[(hotspots['obsDt'].isna()) | (hotspots['obsDt'].isnull()) | (hotspots['obsDt'] == ''),'obsDt'] = min_obsDt\n",
    "        #recency check\n",
    "        for x in hotspots:\n",
    "            dateDiff = hotspots['latestObsDt']-hotspots['obsDt']\n",
    "            hotspots['dateDiff'] = dateDiff.dt.days\n",
    "        hotspots['run'] = hotspots['dateDiff'].between(7,700,inclusive='both')\n",
    "        hotspots = hotspots[hotspots['run'] == False]\n",
    "        dfk = hotspots[['locId','latestObsDt','obsDt']]\n",
    "    except Exception as ee:\n",
    "        raise UserWarning(ee)\n",
    "    finally: cnx.close()\n",
    "    return dfk"
   ]
  },
  {
   "cell_type": "markdown",
   "metadata": {},
   "source": [
    "Duplicate Check\n",
    "\n",
    "Duplicate checking is done here rather than in the hotspot factory to prevent shelling of the eBird API while still allowing trailheads in close proximity to each other to pull the same observation data. "
   ]
  },
  {
   "cell_type": "markdown",
   "metadata": {},
   "source": [
    "##Checking for new hotspots and observations\n",
    "1. Compare the latest trailheadHotspots eBird locId's with the eBird locId's in the cooking DB\n",
    "2. For new locId's:\n",
    "    1. Fetch historical data from the beginning of 2019 to today()-1 from the eBird REST API\n",
    "    2. Concat and export the results as a .csv\n",
    "3. For locId's with observations in the DB, obtain the most recent observation date from the eBird REST API for that hotspot:\n",
    "    1. Make a list of locId's WHERE eBird's latest observation date is more recent than the latest observation date in the DB. Using the most recent DB obsDt as a start date and the most recent eBird API obsDt as an end date, fetch historical sightings from the eBird service\n",
    "    2. IF the latest obsDt for a locId/hotspot from eBird is within 15 days of the latest obsDt in the DB, remove the locId from the list of locId's to be passed into the historical eBird sighting service\n",
    "        - TODO: #20 write 'aging' and 'decayed' testing, error logging"
   ]
  },
  {
   "cell_type": "code",
   "execution_count": 33,
   "metadata": {},
   "outputs": [],
   "source": [
    "##TODO #22 recency refactor: get the latest date some other way; eBird hotspot info does not contain the latest date\n",
    "##TODO #23 recency refactor: pare down results of hotspot batches to match known Trailhead Direct eBird hotspots"
   ]
  },
  {
   "cell_type": "code",
   "execution_count": 12,
   "metadata": {},
   "outputs": [],
   "source": [
    "def get_histObs():\n",
    "    try:\n",
    "        dfk_test = pd.DataFrame(get_hotspots().head(2))\n",
    "        if dfk_test.empty:\n",
    "            raise Exception('The provided dataframe is empty. There are either no eBird hotspots with new checklists or an error has occurred in the evaluation of the get_hotposts() function.')\n",
    "        dfk_test\n",
    "    except Exception as exc:\n",
    "        raise exc\n",
    "    return dfk_test"
   ]
  },
  {
   "cell_type": "code",
   "execution_count": 13,
   "metadata": {},
   "outputs": [
    {
     "data": {
      "text/html": [
       "<div>\n",
       "<style scoped>\n",
       "    .dataframe tbody tr th:only-of-type {\n",
       "        vertical-align: middle;\n",
       "    }\n",
       "\n",
       "    .dataframe tbody tr th {\n",
       "        vertical-align: top;\n",
       "    }\n",
       "\n",
       "    .dataframe thead th {\n",
       "        text-align: right;\n",
       "    }\n",
       "</style>\n",
       "<table border=\"1\" class=\"dataframe\">\n",
       "  <thead>\n",
       "    <tr style=\"text-align: right;\">\n",
       "      <th></th>\n",
       "      <th>locId</th>\n",
       "      <th>latestObsDt</th>\n",
       "      <th>obsDt</th>\n",
       "    </tr>\n",
       "  </thead>\n",
       "  <tbody>\n",
       "    <tr>\n",
       "      <th>0</th>\n",
       "      <td>L9614301</td>\n",
       "      <td>2022-02-04 15:12:00</td>\n",
       "      <td>2019-01-01 08:18:00</td>\n",
       "    </tr>\n",
       "    <tr>\n",
       "      <th>1</th>\n",
       "      <td>L854460</td>\n",
       "      <td>2022-01-23 10:16:00</td>\n",
       "      <td>2022-01-23 10:16:00</td>\n",
       "    </tr>\n",
       "  </tbody>\n",
       "</table>\n",
       "</div>"
      ],
      "text/plain": [
       "      locId         latestObsDt               obsDt\n",
       "0  L9614301 2022-02-04 15:12:00 2019-01-01 08:18:00\n",
       "1   L854460 2022-01-23 10:16:00 2022-01-23 10:16:00"
      ]
     },
     "execution_count": 13,
     "metadata": {},
     "output_type": "execute_result"
    }
   ],
   "source": [
    "get_histObs()"
   ]
  },
  {
   "cell_type": "code",
   "execution_count": 38,
   "metadata": {},
   "outputs": [],
   "source": [
    "ObsHist = []\n",
    "import time\n",
    "\n",
    "for locId in dfk_test.itertuples():\n",
    "    for x in pd.date_range(start=locId.obsDt,end=locId.latestObsDt,freq='D'):\n",
    "        time.sleep(0.3)\n",
    "        ymd = '{}/{}/{}'.format(x.year,x.month,x.day)\n",
    "        ebird_baseUrl = 'https://api.ebird.org/v2/data/obs/'\n",
    "        ebird_url = ebird_baseUrl + locId.locId + '/historic/' + ymd\n",
    "        ebird_auth = {'X-eBirdApiToken': ebird_token}\n",
    "        ebird_params = {\n",
    "            'fmt':'json',\n",
    "            'detail':'simple'\n",
    "        }\n",
    "        ebird_request = requests.get(ebird_url,params=ebird_params,headers=ebird_auth)\n",
    "        if ebird_request.status_code == requests.codes.ok:\n",
    "            ebird_resp = pd.DataFrame(ebird_request.json())\n",
    "            ObsHist.append(ebird_resp)\n",
    "        ebird_request.raise_for_status()"
   ]
  },
  {
   "cell_type": "code",
   "execution_count": 39,
   "metadata": {},
   "outputs": [],
   "source": [
    "##TODO #29 write the new observations to the database --DONE\n",
    "historicObservations = pd.concat(ObsHist)"
   ]
  },
  {
   "cell_type": "code",
   "execution_count": 40,
   "metadata": {},
   "outputs": [],
   "source": [
    "historicObservations.to_sql(name='historicObservations_cooking',con=cnx,if_exists='append')\n",
    "##close the connection\n",
    "cnx.close()"
   ]
  }
 ],
 "metadata": {
  "interpreter": {
   "hash": "ce2b8b10e8082f390f0f7c9c12f304c9df3ed4554edd4b21c0fcee2d9ef65582"
  },
  "kernelspec": {
   "display_name": "Python 3.9.7 64-bit ('base': conda)",
   "language": "python",
   "name": "python3"
  },
  "language_info": {
   "codemirror_mode": {
    "name": "ipython",
    "version": 3
   },
   "file_extension": ".py",
   "mimetype": "text/x-python",
   "name": "python",
   "nbconvert_exporter": "python",
   "pygments_lexer": "ipython3",
   "version": "3.9.7"
  },
  "orig_nbformat": 4
 },
 "nbformat": 4,
 "nbformat_minor": 2
}
