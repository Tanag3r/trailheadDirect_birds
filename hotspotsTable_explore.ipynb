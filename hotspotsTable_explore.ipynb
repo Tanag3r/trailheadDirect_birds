{
 "cells": [
  {
   "cell_type": "code",
   "execution_count": 57,
   "metadata": {},
   "outputs": [],
   "source": [
    "import sys\n",
    "import os\n",
    "import pandas as pd\n",
    "import numpy as np\n",
    "import datetime as dt\n",
    "import matplotlib.pyplot as plt\n",
    "import h5py\n",
    "import json\n",
    "import requests\n",
    "import base64\n",
    "sys.path.append('../')\n",
    "\n",
    "pd.options.display.max_rows=99"
   ]
  },
  {
   "cell_type": "code",
   "execution_count": 58,
   "metadata": {},
   "outputs": [],
   "source": [
    "github_userName = 'Tanag3r'\n",
    "ebird_token = 'j6c7l80ga2ib'"
   ]
  },
  {
   "cell_type": "code",
   "execution_count": 59,
   "metadata": {},
   "outputs": [
    {
     "data": {
      "text/html": [
       "<div>\n",
       "<style scoped>\n",
       "    .dataframe tbody tr th:only-of-type {\n",
       "        vertical-align: middle;\n",
       "    }\n",
       "\n",
       "    .dataframe tbody tr th {\n",
       "        vertical-align: top;\n",
       "    }\n",
       "\n",
       "    .dataframe thead th {\n",
       "        text-align: right;\n",
       "    }\n",
       "</style>\n",
       "<table border=\"1\" class=\"dataframe\">\n",
       "  <thead>\n",
       "    <tr style=\"text-align: right;\">\n",
       "      <th></th>\n",
       "      <th>Route</th>\n",
       "      <th>Address</th>\n",
       "      <th>Latitude</th>\n",
       "      <th>Longitude</th>\n",
       "    </tr>\n",
       "    <tr>\n",
       "      <th>StopName</th>\n",
       "      <th></th>\n",
       "      <th></th>\n",
       "      <th></th>\n",
       "      <th></th>\n",
       "    </tr>\n",
       "  </thead>\n",
       "  <tbody>\n",
       "    <tr>\n",
       "      <th>EastSunsetWay</th>\n",
       "      <td>IssaquahAlps</td>\n",
       "      <td>661-831 E Sunset Way, Issaquah, WA 98027</td>\n",
       "      <td>47.529635</td>\n",
       "      <td>-122.025119</td>\n",
       "    </tr>\n",
       "    <tr>\n",
       "      <th>HighSchool</th>\n",
       "      <td>IssaquahAlps</td>\n",
       "      <td>Parking lot, The Rainier Trail, Issaquah, WA 9...</td>\n",
       "      <td>47.519345</td>\n",
       "      <td>-122.029801</td>\n",
       "    </tr>\n",
       "    <tr>\n",
       "      <th>ChiricoTrail_PooPooPoint</th>\n",
       "      <td>IssaquahAlps</td>\n",
       "      <td>11400 Issaquah-Hobart Road Southeast, Issaquah...</td>\n",
       "      <td>47.499949</td>\n",
       "      <td>-122.021730</td>\n",
       "    </tr>\n",
       "    <tr>\n",
       "      <th>SquakMountain</th>\n",
       "      <td>IssaquahAlps</td>\n",
       "      <td>13201 Squak Mountain Rd SE, Issaquah, WA 98027</td>\n",
       "      <td>47.481465</td>\n",
       "      <td>-122.053997</td>\n",
       "    </tr>\n",
       "    <tr>\n",
       "      <th>MargaretsWay</th>\n",
       "      <td>IssaquahAlps</td>\n",
       "      <td>190th Ave SE, Issaquah, WA 98027</td>\n",
       "      <td>47.506620</td>\n",
       "      <td>-122.086660</td>\n",
       "    </tr>\n",
       "    <tr>\n",
       "      <th>MountSi</th>\n",
       "      <td>MountSi</td>\n",
       "      <td>King County, WA 98104</td>\n",
       "      <td>47.488966</td>\n",
       "      <td>-122.723044</td>\n",
       "    </tr>\n",
       "    <tr>\n",
       "      <th>MountTeneriffe</th>\n",
       "      <td>MountSi</td>\n",
       "      <td>Mount Teneriffe Rd, North Bend, WA 98045</td>\n",
       "      <td>47.490104</td>\n",
       "      <td>-122.709182</td>\n",
       "    </tr>\n",
       "    <tr>\n",
       "      <th>LittleSi</th>\n",
       "      <td>MountSi</td>\n",
       "      <td>SE Mt Si Rd, North Bend, WA 98045</td>\n",
       "      <td>47.489366</td>\n",
       "      <td>-122.753833</td>\n",
       "    </tr>\n",
       "  </tbody>\n",
       "</table>\n",
       "</div>"
      ],
      "text/plain": [
       "                                 Route  \\\n",
       "StopName                                 \n",
       "EastSunsetWay             IssaquahAlps   \n",
       "HighSchool                IssaquahAlps   \n",
       "ChiricoTrail_PooPooPoint  IssaquahAlps   \n",
       "SquakMountain             IssaquahAlps   \n",
       "MargaretsWay              IssaquahAlps   \n",
       "MountSi                        MountSi   \n",
       "MountTeneriffe                 MountSi   \n",
       "LittleSi                       MountSi   \n",
       "\n",
       "                                                                    Address  \\\n",
       "StopName                                                                      \n",
       "EastSunsetWay                      661-831 E Sunset Way, Issaquah, WA 98027   \n",
       "HighSchool                Parking lot, The Rainier Trail, Issaquah, WA 9...   \n",
       "ChiricoTrail_PooPooPoint  11400 Issaquah-Hobart Road Southeast, Issaquah...   \n",
       "SquakMountain                13201 Squak Mountain Rd SE, Issaquah, WA 98027   \n",
       "MargaretsWay                               190th Ave SE, Issaquah, WA 98027   \n",
       "MountSi                                               King County, WA 98104   \n",
       "MountTeneriffe                     Mount Teneriffe Rd, North Bend, WA 98045   \n",
       "LittleSi                                  SE Mt Si Rd, North Bend, WA 98045   \n",
       "\n",
       "                           Latitude   Longitude  \n",
       "StopName                                         \n",
       "EastSunsetWay             47.529635 -122.025119  \n",
       "HighSchool                47.519345 -122.029801  \n",
       "ChiricoTrail_PooPooPoint  47.499949 -122.021730  \n",
       "SquakMountain             47.481465 -122.053997  \n",
       "MargaretsWay              47.506620 -122.086660  \n",
       "MountSi                   47.488966 -122.723044  \n",
       "MountTeneriffe            47.490104 -122.709182  \n",
       "LittleSi                  47.489366 -122.753833  "
      ]
     },
     "execution_count": 59,
     "metadata": {},
     "output_type": "execute_result"
    }
   ],
   "source": [
    "##pull in trailhead stops\n",
    "trailheadRef = pd.DataFrame()\n",
    "trailheadRef_json = 'https://raw.githubusercontent.com/Tanag3r/trailheadDirect_birds/main/trailheadsRef.json'\n",
    "response = requests.get(trailheadRef_json)\n",
    "trailheadRef = pd.DataFrame(response.json())\n",
    "trailheadRef.set_index('StopName')\n",
    "\n",
    "##check length of lat and long, each must be at least 4 char"
   ]
  },
  {
   "cell_type": "code",
   "execution_count": 60,
   "metadata": {},
   "outputs": [
    {
     "ename": "ValueError",
     "evalue": "DataFrame constructor not properly called!",
     "output_type": "error",
     "traceback": [
      "\u001b[1;31m---------------------------------------------------------------------------\u001b[0m",
      "\u001b[1;31mValueError\u001b[0m                                Traceback (most recent call last)",
      "\u001b[1;32m~\\AppData\\Local\\Temp/ipykernel_24968/672908632.py\u001b[0m in \u001b[0;36m<module>\u001b[1;34m\u001b[0m\n\u001b[0;32m      9\u001b[0m     \u001b[0mebird_request\u001b[0m \u001b[1;33m=\u001b[0m \u001b[0mrequests\u001b[0m\u001b[1;33m.\u001b[0m\u001b[0mget\u001b[0m\u001b[1;33m(\u001b[0m\u001b[0murl\u001b[0m\u001b[1;33m,\u001b[0m\u001b[0mheaders\u001b[0m\u001b[1;33m=\u001b[0m\u001b[0mebirdapi_auth_header\u001b[0m\u001b[1;33m)\u001b[0m\u001b[1;33m\u001b[0m\u001b[1;33m\u001b[0m\u001b[0m\n\u001b[0;32m     10\u001b[0m     \u001b[0mebird_response\u001b[0m \u001b[1;33m=\u001b[0m \u001b[0mpd\u001b[0m\u001b[1;33m.\u001b[0m\u001b[0mDataFrame\u001b[0m\u001b[1;33m(\u001b[0m\u001b[0mebird_request\u001b[0m\u001b[1;33m.\u001b[0m\u001b[0mjson\u001b[0m\u001b[1;33m(\u001b[0m\u001b[1;33m)\u001b[0m\u001b[1;33m)\u001b[0m\u001b[1;33m\u001b[0m\u001b[1;33m\u001b[0m\u001b[0m\n\u001b[1;32m---> 11\u001b[1;33m     \u001b[0mstopNameFrame\u001b[0m \u001b[1;33m=\u001b[0m \u001b[0mpd\u001b[0m\u001b[1;33m.\u001b[0m\u001b[0mDataFrame\u001b[0m\u001b[1;33m(\u001b[0m\u001b[0mStopName\u001b[0m\u001b[1;33m.\u001b[0m\u001b[0mStopName\u001b[0m\u001b[1;33m)\u001b[0m\u001b[1;33m\u001b[0m\u001b[1;33m\u001b[0m\u001b[0m\n\u001b[0m\u001b[0;32m     12\u001b[0m     \u001b[0mebird_and_stopName\u001b[0m \u001b[1;33m=\u001b[0m \u001b[0mebird_response\u001b[0m\u001b[1;33m.\u001b[0m\u001b[0mappend\u001b[0m\u001b[1;33m(\u001b[0m\u001b[0mstopNameFrame\u001b[0m\u001b[1;33m)\u001b[0m\u001b[1;33m\u001b[0m\u001b[1;33m\u001b[0m\u001b[0m\n\u001b[0;32m     13\u001b[0m     \u001b[0mtrailheadHotspots\u001b[0m\u001b[1;33m.\u001b[0m\u001b[0mappend\u001b[0m\u001b[1;33m(\u001b[0m\u001b[0mebird_and_stopName\u001b[0m\u001b[1;33m)\u001b[0m\u001b[1;33m\u001b[0m\u001b[1;33m\u001b[0m\u001b[0m\n",
      "\u001b[1;32m~\\anaconda3\\lib\\site-packages\\pandas\\core\\frame.py\u001b[0m in \u001b[0;36m__init__\u001b[1;34m(self, data, index, columns, dtype, copy)\u001b[0m\n\u001b[0;32m    728\u001b[0m         \u001b[1;32melse\u001b[0m\u001b[1;33m:\u001b[0m\u001b[1;33m\u001b[0m\u001b[1;33m\u001b[0m\u001b[0m\n\u001b[0;32m    729\u001b[0m             \u001b[1;32mif\u001b[0m \u001b[0mindex\u001b[0m \u001b[1;32mis\u001b[0m \u001b[1;32mNone\u001b[0m \u001b[1;32mor\u001b[0m \u001b[0mcolumns\u001b[0m \u001b[1;32mis\u001b[0m \u001b[1;32mNone\u001b[0m\u001b[1;33m:\u001b[0m\u001b[1;33m\u001b[0m\u001b[1;33m\u001b[0m\u001b[0m\n\u001b[1;32m--> 730\u001b[1;33m                 \u001b[1;32mraise\u001b[0m \u001b[0mValueError\u001b[0m\u001b[1;33m(\u001b[0m\u001b[1;34m\"DataFrame constructor not properly called!\"\u001b[0m\u001b[1;33m)\u001b[0m\u001b[1;33m\u001b[0m\u001b[1;33m\u001b[0m\u001b[0m\n\u001b[0m\u001b[0;32m    731\u001b[0m \u001b[1;33m\u001b[0m\u001b[0m\n\u001b[0;32m    732\u001b[0m             \u001b[1;31m# Argument 1 to \"ensure_index\" has incompatible type \"Collection[Any]\";\u001b[0m\u001b[1;33m\u001b[0m\u001b[1;33m\u001b[0m\u001b[0m\n",
      "\u001b[1;31mValueError\u001b[0m: DataFrame constructor not properly called!"
     ]
    }
   ],
   "source": [
    "##fetch all hotspots within 4 kilometers of each trailhead\n",
    "##if the number of values in the stop table expand, switch from loop to .apply() function\n",
    "\n",
    "trailheadHotspots = []\n",
    "\n",
    "for StopName in trailheadRef.itertuples():\n",
    "    ##trailhead_stopName = str(StopName.StopName)\n",
    "    url = '''https://api.ebird.org/v2/ref/hotspot/geo?lat={}&lng={}&dist=4&fmt=json'''.format(StopName.Latitude,StopName.Longitude)\n",
    "    ebirdapi_auth_header = {'X-eBirdApiToken': ebird_token}\n",
    "    ebird_request = requests.get(url,headers=ebirdapi_auth_header)\n",
    "    ebird_response = pd.DataFrame(ebird_request.json())\n",
    "    trailheadHotspots.append(ebird_response)"
   ]
  },
  {
   "cell_type": "markdown",
   "metadata": {},
   "source": [
    "all_trailheadHotspots = pd.concat(trailheadHotspots)\n",
    "\n",
    "all_trailheadHotspots.head(20)"
   ]
  },
  {
   "cell_type": "markdown",
   "metadata": {},
   "source": [
    "all_trailheadHotspots.shape"
   ]
  },
  {
   "cell_type": "markdown",
   "metadata": {},
   "source": [
    "all_trailheadHotspots.to_csv('trailheadHotspots_2022JAN.csv',sep=',',index=False)"
   ]
  }
 ],
 "metadata": {
  "interpreter": {
   "hash": "ce2b8b10e8082f390f0f7c9c12f304c9df3ed4554edd4b21c0fcee2d9ef65582"
  },
  "kernelspec": {
   "display_name": "Python 3.9.7 64-bit ('base': conda)",
   "language": "python",
   "name": "python3"
  },
  "language_info": {
   "codemirror_mode": {
    "name": "ipython",
    "version": 3
   },
   "file_extension": ".py",
   "mimetype": "text/x-python",
   "name": "python",
   "nbconvert_exporter": "python",
   "pygments_lexer": "ipython3",
   "version": "3.9.7"
  },
  "orig_nbformat": 4
 },
 "nbformat": 4,
 "nbformat_minor": 2
}
