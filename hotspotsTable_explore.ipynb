{
 "cells": [
  {
   "cell_type": "code",
   "execution_count": 1,
   "metadata": {},
   "outputs": [],
   "source": [
    "import sys\n",
    "import os\n",
    "import pandas as pd\n",
    "import numpy as np\n",
    "import datetime as dt\n",
    "import pytest\n",
    "import json\n",
    "import geojson\n",
    "import requests\n",
    "import base64\n",
    "import sqlite3 as db\n",
    "import cgi\n",
    "sys.path.append('../')\n",
    "\n",
    "pd.options.display.max_rows=99"
   ]
  },
  {
   "cell_type": "code",
   "execution_count": 2,
   "metadata": {},
   "outputs": [],
   "source": [
    "github_userName = 'Tanag3r'\n",
    "ebird_token = 'j6c7l80ga2ib'\n",
    "cnx = db.connect('trailheadDirectBirds_sous.db')\n",
    "cur = cnx.cursor()"
   ]
  },
  {
   "cell_type": "markdown",
   "metadata": {},
   "source": [
    "Obtain & clean trailhead data"
   ]
  },
  {
   "cell_type": "code",
   "execution_count": 4,
   "metadata": {},
   "outputs": [],
   "source": [
    "def readTrailheads_fromDB():\n",
    "    trailheadRef = pd.DataFrame()\n",
    "\n",
    "    try:\n",
    "        trailheadRef = pd.read_sql('select * from trailheadRef;',con=cnx)\n",
    "        trailheadRef.set_index('index',inplace=True)\n",
    "        trailheadRef.convert_dtypes()\n",
    "    except db.DatabaseError as dbError:\n",
    "        print(dbError)\n",
    "    return trailheadRef"
   ]
  },
  {
   "cell_type": "code",
   "execution_count": null,
   "metadata": {},
   "outputs": [],
   "source": []
  },
  {
   "cell_type": "code",
   "execution_count": 5,
   "metadata": {},
   "outputs": [
    {
     "name": "stderr",
     "output_type": "stream",
     "text": [
      "C:\\Users\\lukew\\anaconda3\\lib\\site-packages\\pandas\\core\\frame.py:4906: SettingWithCopyWarning: \n",
      "A value is trying to be set on a copy of a slice from a DataFrame\n",
      "\n",
      "See the caveats in the documentation: https://pandas.pydata.org/pandas-docs/stable/user_guide/indexing.html#returning-a-view-versus-a-copy\n",
      "  return super().drop(\n"
     ]
    }
   ],
   "source": [
    "##  For the sake of demonstration please assume the data in the 'trailheadRef' comes from a King County Metro service\n",
    "##  and/or is user-provided so some cleaning is required\n",
    "\n",
    "##set types for error checking, other cleaning\n",
    "trailheadRef['Latitude'] = trailheadRef['Latitude'].fillna(0.00)\n",
    "trailheadRef['Longitude'] = trailheadRef['Longitude'].fillna(0.00)\n",
    "trailheadRef['Latitude'] = trailheadRef['Latitude'].astype('float64',errors='raise')\n",
    "trailheadRef['Longitude'] = trailheadRef['Longitude'].astype('float64',errors='raise')\n",
    "trailheadRef['CoordinateTest'] = ''\n",
    "trailheadRef['CoordinateTest'] = trailheadRef['CoordinateTest'].astype('str')\n",
    "trailheadRef['AddressTest'] = ''\n",
    "trailheadRef['AddressTest'] = trailheadRef['AddressTest'].astype('str')\n",
    "trailheadRef['failCode'] = ''\n",
    "trailheadRef['failCode'] = trailheadRef['failCode'].astype('str')\n",
    "\n",
    "##todo #10 finish this evaluator engine\n",
    "\n",
    "##warnings:\n",
    "trailheadRef.loc[(abs(trailheadRef['Latitude']) < 1) | (abs(trailheadRef['Longitude']) < 1), 'CoordinateTest'] = 'GEO10'\n",
    "trailheadRef.loc[(trailheadRef['Address'].isna()) | (trailheadRef['Address'].isnull()) | (trailheadRef['Address'] == ''), 'AddressTest'] = 'GEO20'\n",
    "##failures:\n",
    "trailheadRef.loc[(trailheadRef['CoordinateTest'] != '') & (trailheadRef['AddressTest'] != ''), 'failCode'] = 'GEO30'\n",
    "##update the test below when the coordinate fetch engine is complete to reflect failure of fetch\n",
    "trailheadRef.loc[(trailheadRef['CoordinateTest'] != '') & (trailheadRef['AddressTest'] == ''), 'failCode'] = 'GEO31'\n",
    "\n",
    "##TODO: #25 fetch coordinates of trailheads using Nominatim address service\n",
    "##while trailheadRef['GeoTest'] is 'Fail':\n",
    "    ##do the thing\n",
    "\n",
    "##todo #9 write publisher for failed geoTest\n",
    "\n",
    "trailheadRef_clean = pd.DataFrame()\n",
    "trailheadRef_clean = trailheadRef[trailheadRef['failCode'] == '']\n",
    "trailheadRef_clean.drop(columns=['CoordinateTest','AddressTest','failCode'],inplace=True,errors='ignore')\n"
   ]
  },
  {
   "cell_type": "markdown",
   "metadata": {},
   "source": [
    "Trailhead eBird hotspot update\n",
    "\n",
    "1. Ask the eBird API for the latest list of hotspots for each trailhead\n",
    "2. Add new eBird hotspots to the table 'Hotspots' in the trailheadDirectBirds_sous database\n",
    "3. Update hotspot data"
   ]
  },
  {
   "cell_type": "code",
   "execution_count": 6,
   "metadata": {},
   "outputs": [],
   "source": [
    "##get current hotspots from sous db\n",
    "sous_trailheadHotspots = pd.read_sql('select * from hotspots',cnx)\n",
    "sous_trailheadHotspots.set_index('index',inplace=True)\n",
    "sous_trailheadHotspots.convert_dtypes()\n",
    "##hard update on critical dtypes\n",
    "sous_trailheadHotspots['latestObsDt'] = sous_trailheadHotspots['latestObsDt'].astype('datetime64[ns]')\n",
    "sous_trailheadHotspots['latestUpdate'] = sous_trailheadHotspots['latestUpdate'].astype('datetime64[ns]')"
   ]
  },
  {
   "cell_type": "code",
   "execution_count": 7,
   "metadata": {},
   "outputs": [],
   "source": [
    "##fetch all hotspots within 4 kilometers of each trailhead\n",
    "import time\n",
    "trailheadHotspots = []\n",
    "\n",
    "for StopName in trailheadRef_clean.itertuples():\n",
    "    time.sleep(0.3)\n",
    "    url = '''https://api.ebird.org/v2/ref/hotspot/geo?lat={}&lng={}&dist=4&fmt=json'''.format(StopName.Latitude,StopName.Longitude)\n",
    "    ebirdapi_auth_header = {'X-eBirdApiToken': ebird_token}\n",
    "    ebird_request = requests.get(url,headers=ebirdapi_auth_header)\n",
    "    ebird_response = pd.DataFrame(ebird_request.json())\n",
    "    if ebird_request.status_code == requests.codes.ok:\n",
    "        ebird_response['StopName'] = StopName.StopName\n",
    "        trailheadHotspots.append(ebird_response)\n",
    "    ebird_request.raise_for_status()\n",
    "\n",
    "all_trailheadHotspots = pd.concat(trailheadHotspots)"
   ]
  },
  {
   "cell_type": "code",
   "execution_count": 5,
   "metadata": {},
   "outputs": [
    {
     "ename": "NameError",
     "evalue": "name 'all_trailheadHotspots' is not defined",
     "output_type": "error",
     "traceback": [
      "\u001b[1;31m---------------------------------------------------------------------------\u001b[0m",
      "\u001b[1;31mNameError\u001b[0m                                 Traceback (most recent call last)",
      "\u001b[1;32m~\\AppData\\Local\\Temp/ipykernel_11300/4226529427.py\u001b[0m in \u001b[0;36m<module>\u001b[1;34m\u001b[0m\n\u001b[0;32m      1\u001b[0m \u001b[1;31m##TODO #24 write script to pass in new hotspots and update existing hotspots --DONE\u001b[0m\u001b[1;33m\u001b[0m\u001b[1;33m\u001b[0m\u001b[0m\n\u001b[0;32m      2\u001b[0m \u001b[0mtoday\u001b[0m \u001b[1;33m=\u001b[0m \u001b[0mdt\u001b[0m\u001b[1;33m.\u001b[0m\u001b[0mdatetime\u001b[0m\u001b[1;33m.\u001b[0m\u001b[0mtoday\u001b[0m\u001b[1;33m(\u001b[0m\u001b[1;33m)\u001b[0m\u001b[1;33m\u001b[0m\u001b[1;33m\u001b[0m\u001b[0m\n\u001b[1;32m----> 3\u001b[1;33m \u001b[0mpd\u001b[0m\u001b[1;33m.\u001b[0m\u001b[0mDataFrame\u001b[0m\u001b[1;33m(\u001b[0m\u001b[0mall_trailheadHotspots\u001b[0m\u001b[1;33m)\u001b[0m\u001b[1;33m\u001b[0m\u001b[1;33m\u001b[0m\u001b[0m\n\u001b[0m\u001b[0;32m      4\u001b[0m \u001b[0mall_trailheadHotspots\u001b[0m\u001b[1;33m[\u001b[0m\u001b[1;34m'latestObsDt'\u001b[0m\u001b[1;33m]\u001b[0m \u001b[1;33m=\u001b[0m \u001b[0mall_trailheadHotspots\u001b[0m\u001b[1;33m[\u001b[0m\u001b[1;34m'latestObsDt'\u001b[0m\u001b[1;33m]\u001b[0m\u001b[1;33m.\u001b[0m\u001b[0mastype\u001b[0m\u001b[1;33m(\u001b[0m\u001b[1;34m'datetime64[ns]'\u001b[0m\u001b[1;33m)\u001b[0m\u001b[1;33m\u001b[0m\u001b[1;33m\u001b[0m\u001b[0m\n\u001b[0;32m      5\u001b[0m \u001b[0mall_trailheadHotspots\u001b[0m\u001b[1;33m[\u001b[0m\u001b[1;34m'latestUpdate'\u001b[0m\u001b[1;33m]\u001b[0m \u001b[1;33m=\u001b[0m \u001b[0mtoday\u001b[0m\u001b[1;33m.\u001b[0m\u001b[0mdate\u001b[0m\u001b[1;33m(\u001b[0m\u001b[1;33m)\u001b[0m\u001b[1;33m\u001b[0m\u001b[1;33m\u001b[0m\u001b[0m\n",
      "\u001b[1;31mNameError\u001b[0m: name 'all_trailheadHotspots' is not defined"
     ]
    }
   ],
   "source": [
    "##TODO #24 write script to pass in new hotspots and update existing hotspots --DONE\n",
    "today = dt.datetime.today()\n",
    "pd.DataFrame(all_trailheadHotspots)\n",
    "all_trailheadHotspots['latestObsDt'] = all_trailheadHotspots['latestObsDt'].astype('datetime64[ns]')\n",
    "all_trailheadHotspots['latestUpdate'] = today.date()\n",
    "\n",
    "##sort, remove old data\n",
    "frames = [all_trailheadHotspots,sous_trailheadHotspots]\n",
    "hotspots = pd.concat(frames,ignore_index=True)\n",
    "hotspots.sort_values(by=['StopName','locId','latestObsDt','latestUpdate'],ascending=False,inplace=True)\n",
    "hotspots.drop_duplicates(subset=['StopName','locId'],keep='first',inplace=True)"
   ]
  },
  {
   "cell_type": "code",
   "execution_count": 22,
   "metadata": {},
   "outputs": [],
   "source": [
    "##load to cooking\n",
    "##this load into cooking triggers more scripts that update the production table 'Hotspots'\n",
    "hotspots.to_sql(name='Hotspots_cooking',con=cnx,if_exists='append')\n",
    "##close the connection\n",
    "cnx.close()"
   ]
  }
 ],
 "metadata": {
  "interpreter": {
   "hash": "ce2b8b10e8082f390f0f7c9c12f304c9df3ed4554edd4b21c0fcee2d9ef65582"
  },
  "kernelspec": {
   "display_name": "Python 3.9.7 64-bit ('base': conda)",
   "language": "python",
   "name": "python3"
  },
  "language_info": {
   "codemirror_mode": {
    "name": "ipython",
    "version": 3
   },
   "file_extension": ".py",
   "mimetype": "text/x-python",
   "name": "python",
   "nbconvert_exporter": "python",
   "pygments_lexer": "ipython3",
   "version": "3.9.7"
  },
  "orig_nbformat": 4
 },
 "nbformat": 4,
 "nbformat_minor": 2
}
