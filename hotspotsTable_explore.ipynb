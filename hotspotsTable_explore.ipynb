{
 "cells": [
  {
   "cell_type": "code",
   "execution_count": 1,
   "metadata": {},
   "outputs": [],
   "source": [
    "import sys\n",
    "import os\n",
    "import pandas as pd\n",
    "import numpy as np\n",
    "import datetime as dt\n",
    "import h5py\n",
    "import json\n",
    "import requests\n",
    "import base64\n",
    "sys.path.append('../')\n",
    "\n",
    "pd.options.display.max_rows=99"
   ]
  },
  {
   "cell_type": "code",
   "execution_count": 2,
   "metadata": {},
   "outputs": [],
   "source": [
    "github_userName = 'Tanag3r'\n",
    "ebird_token = 'j6c7l80ga2ib'"
   ]
  },
  {
   "cell_type": "code",
   "execution_count": 3,
   "metadata": {},
   "outputs": [
    {
     "data": {
      "text/plain": [
       "Route         object\n",
       "StopName      object\n",
       "Address       object\n",
       "Latitude     float64\n",
       "Longitude    float64\n",
       "dtype: object"
      ]
     },
     "execution_count": 3,
     "metadata": {},
     "output_type": "execute_result"
    }
   ],
   "source": [
    "##pull in trailhead stops\n",
    "trailheadRef = pd.DataFrame()\n",
    "trailheadRef_json = 'https://raw.githubusercontent.com/Tanag3r/trailheadDirect_birds/main/trailheadsRef.json'\n",
    "response = requests.get(trailheadRef_json)\n",
    "trailheadRef = pd.DataFrame(response.json())\n",
    "##trailheadRef.set_index('StopName', inplace=True\n",
    "\n",
    "trailheadRef.convert_dtypes()"
   ]
  },
  {
   "cell_type": "code",
   "execution_count": 4,
   "metadata": {},
   "outputs": [
    {
     "name": "stderr",
     "output_type": "stream",
     "text": [
      "C:\\Users\\lukew\\anaconda3\\lib\\site-packages\\pandas\\core\\frame.py:4906: SettingWithCopyWarning: \n",
      "A value is trying to be set on a copy of a slice from a DataFrame\n",
      "\n",
      "See the caveats in the documentation: https://pandas.pydata.org/pandas-docs/stable/user_guide/indexing.html#returning-a-view-versus-a-copy\n",
      "  return super().drop(\n"
     ]
    }
   ],
   "source": [
    "##set types for error checking, other cleaning\n",
    "trailheadRef['Latitude'] = trailheadRef['Latitude'].fillna(0.00)\n",
    "trailheadRef['Longitude'] = trailheadRef['Longitude'].fillna(0.00)\n",
    "trailheadRef['Latitude'] = trailheadRef['Latitude'].astype('float64',errors='raise')\n",
    "trailheadRef['Longitude'] = trailheadRef['Longitude'].astype('float64',errors='raise')\n",
    "trailheadRef['CoordinateTest'] = ''\n",
    "trailheadRef['CoordinateTest'] = trailheadRef['CoordinateTest'].astype('str')\n",
    "trailheadRef['AddressTest'] = ''\n",
    "trailheadRef['AddressTest'] = trailheadRef['AddressTest'].astype('str')\n",
    "trailheadRef['failCode'] = ''\n",
    "trailheadRef['failCode'] = trailheadRef['failCode'].astype('str')\n",
    "\n",
    "##todo #10 finish this evaluator engine\n",
    "\n",
    "##warnings:\n",
    "trailheadRef.loc[(abs(trailheadRef['Latitude']) < 1) | (abs(trailheadRef['Longitude']) < 1), 'CoordinateTest'] = 'GEO10'\n",
    "trailheadRef.loc[(trailheadRef['Address'].isna()) | (trailheadRef['Address'].isnull()) | (trailheadRef['Address'] == ''), 'AddressTest'] = 'GEO20'\n",
    "##failures:\n",
    "trailheadRef.loc[(trailheadRef['CoordinateTest'] != '') & (trailheadRef['AddressTest'] != ''), 'failCode'] = 'GEO30'\n",
    "##update the test below when the coordinate fetch engine is complete to reflect failure of fetch\n",
    "trailheadRef.loc[(trailheadRef['CoordinateTest'] != '') & (trailheadRef['AddressTest'] == ''), 'failCode'] = 'GEO31'\n",
    "\n",
    "##TODO: fetch coordinates of trailheads using addresses\n",
    "##while trailheadRef['GeoTest'] is 'Fail':\n",
    "    ##do the thing\n",
    "\n",
    "##todo #9 write publisher for failed geoTest\n",
    "\n",
    "trailheadRef_clean = pd.DataFrame()\n",
    "trailheadRef_clean = trailheadRef[trailheadRef['failCode'] == '']\n",
    "trailheadRef_clean.drop(columns=['CoordinateTest','AddressTest','failCode'],inplace=True,errors='ignore')\n"
   ]
  },
  {
   "cell_type": "code",
   "execution_count": 14,
   "metadata": {},
   "outputs": [
    {
     "data": {
      "text/html": [
       "<div>\n",
       "<style scoped>\n",
       "    .dataframe tbody tr th:only-of-type {\n",
       "        vertical-align: middle;\n",
       "    }\n",
       "\n",
       "    .dataframe tbody tr th {\n",
       "        vertical-align: top;\n",
       "    }\n",
       "\n",
       "    .dataframe thead th {\n",
       "        text-align: right;\n",
       "    }\n",
       "</style>\n",
       "<table border=\"1\" class=\"dataframe\">\n",
       "  <thead>\n",
       "    <tr style=\"text-align: right;\">\n",
       "      <th></th>\n",
       "      <th>Route</th>\n",
       "      <th>StopName</th>\n",
       "      <th>Address</th>\n",
       "      <th>Latitude</th>\n",
       "      <th>Longitude</th>\n",
       "    </tr>\n",
       "  </thead>\n",
       "  <tbody>\n",
       "    <tr>\n",
       "      <th>0</th>\n",
       "      <td>IssaquahAlps</td>\n",
       "      <td>EastSunsetWay</td>\n",
       "      <td>661-831 E Sunset Way, Issaquah, WA 98027</td>\n",
       "      <td>47.529635</td>\n",
       "      <td>-122.025119</td>\n",
       "    </tr>\n",
       "    <tr>\n",
       "      <th>1</th>\n",
       "      <td>IssaquahAlps</td>\n",
       "      <td>HighSchool</td>\n",
       "      <td>Parking lot, The Rainier Trail, Issaquah, WA 9...</td>\n",
       "      <td>47.519345</td>\n",
       "      <td>-122.029801</td>\n",
       "    </tr>\n",
       "    <tr>\n",
       "      <th>2</th>\n",
       "      <td>IssaquahAlps</td>\n",
       "      <td>ChiricoTrail_PooPooPoint</td>\n",
       "      <td>11400 Issaquah-Hobart Road Southeast, Issaquah...</td>\n",
       "      <td>47.499949</td>\n",
       "      <td>-122.021730</td>\n",
       "    </tr>\n",
       "    <tr>\n",
       "      <th>3</th>\n",
       "      <td>IssaquahAlps</td>\n",
       "      <td>SquakMountain</td>\n",
       "      <td>13201 Squak Mountain Rd SE, Issaquah, WA 98027</td>\n",
       "      <td>47.481465</td>\n",
       "      <td>-122.053997</td>\n",
       "    </tr>\n",
       "    <tr>\n",
       "      <th>5</th>\n",
       "      <td>IssaquahAlps</td>\n",
       "      <td>MargaretsWay</td>\n",
       "      <td>190th Ave SE, Issaquah, WA 98027</td>\n",
       "      <td>47.506620</td>\n",
       "      <td>-122.086660</td>\n",
       "    </tr>\n",
       "  </tbody>\n",
       "</table>\n",
       "</div>"
      ],
      "text/plain": [
       "          Route                  StopName  \\\n",
       "0  IssaquahAlps             EastSunsetWay   \n",
       "1  IssaquahAlps                HighSchool   \n",
       "2  IssaquahAlps  ChiricoTrail_PooPooPoint   \n",
       "3  IssaquahAlps             SquakMountain   \n",
       "5  IssaquahAlps              MargaretsWay   \n",
       "\n",
       "                                             Address   Latitude   Longitude  \n",
       "0           661-831 E Sunset Way, Issaquah, WA 98027  47.529635 -122.025119  \n",
       "1  Parking lot, The Rainier Trail, Issaquah, WA 9...  47.519345 -122.029801  \n",
       "2  11400 Issaquah-Hobart Road Southeast, Issaquah...  47.499949 -122.021730  \n",
       "3     13201 Squak Mountain Rd SE, Issaquah, WA 98027  47.481465 -122.053997  \n",
       "5                   190th Ave SE, Issaquah, WA 98027  47.506620 -122.086660  "
      ]
     },
     "execution_count": 14,
     "metadata": {},
     "output_type": "execute_result"
    }
   ],
   "source": [
    "trailheadRef_clean.head()"
   ]
  },
  {
   "cell_type": "code",
   "execution_count": 10,
   "metadata": {},
   "outputs": [],
   "source": [
    "##fetch all hotspots within 4 kilometers of each trailhead\n",
    "\n",
    "trailheadHotspots = []\n",
    "\n",
    "for StopName in trailheadRef_clean.itertuples():\n",
    "    url = '''https://api.ebird.org/v2/ref/hotspot/geo?lat={}&lng={}&dist=4&fmt=json'''.format(StopName.Latitude,StopName.Longitude)\n",
    "    ebirdapi_auth_header = {'X-eBirdApiToken': ebird_token}\n",
    "    ebird_request = requests.get(url,headers=ebirdapi_auth_header)\n",
    "    ebird_response = pd.DataFrame(ebird_request.json())\n",
    "    if ebird_request.status_code == requests.codes.ok:\n",
    "        ebird_response['StopName'] = StopName.StopName\n",
    "        trailheadHotspots.append(ebird_response)\n",
    "    ebird_request.raise_for_status()"
   ]
  },
  {
   "cell_type": "code",
   "execution_count": 11,
   "metadata": {},
   "outputs": [],
   "source": [
    "all_trailheadHotspots = pd.concat(trailheadHotspots)"
   ]
  },
  {
   "cell_type": "code",
   "execution_count": 13,
   "metadata": {},
   "outputs": [],
   "source": [
    "##Be nice to eBirds and print the results\n",
    "today = dt.datetime.today()\n",
    "filename = 'trailheadHotspots_Y{}_M{}_D{}.csv'.format(today.year,today.month,today.day)\n",
    "\n",
    "all_trailheadHotspots.to_csv(filename,sep=',',index=False)"
   ]
  }
 ],
 "metadata": {
  "interpreter": {
   "hash": "ce2b8b10e8082f390f0f7c9c12f304c9df3ed4554edd4b21c0fcee2d9ef65582"
  },
  "kernelspec": {
   "display_name": "Python 3.9.7 64-bit ('base': conda)",
   "language": "python",
   "name": "python3"
  },
  "language_info": {
   "codemirror_mode": {
    "name": "ipython",
    "version": 3
   },
   "file_extension": ".py",
   "mimetype": "text/x-python",
   "name": "python",
   "nbconvert_exporter": "python",
   "pygments_lexer": "ipython3",
   "version": "3.9.7"
  },
  "orig_nbformat": 4
 },
 "nbformat": 4,
 "nbformat_minor": 2
}
