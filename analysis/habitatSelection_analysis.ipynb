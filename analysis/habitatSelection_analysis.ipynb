{
 "cells": [
  {
   "cell_type": "code",
   "execution_count": 1,
   "metadata": {},
   "outputs": [],
   "source": [
    "import pandas as pd\n",
    "import sqlite3 as db\n",
    "import datetime as dt\n",
    "import numpy as np\n",
    "import os.path\n",
    "\n",
    "from scipy import stats\n",
    "from sklearn.metrics import r2_score,explained_variance_score\n",
    "from sklearn.cluster import KMeans\n",
    "from statsmodels.tsa.vector_ar import vecm\n",
    "\n",
    "import matplotlib.pyplot as plt\n",
    "import seaborn as sns\n",
    "sns.set_theme(style='darkgrid')"
   ]
  },
  {
   "cell_type": "markdown",
   "metadata": {},
   "source": [
    "Identifying birds that strongly select for one or more habitats, then analyzing their behavior using a multivariate vector auto-regression"
   ]
  },
  {
   "cell_type": "code",
   "execution_count": 2,
   "metadata": {},
   "outputs": [],
   "source": [
    "github_userName = 'Tanag3r'\n",
    "ebird_token = 'j6c7l80ga2ib'\n",
    "db_name = 'trailheadDirectBirds_sous.db'\n",
    "path = 'c:\\\\Users\\\\lukew\\\\Documents\\\\trailheadDirect_repo\\\\trailheadDirect_birds\\\\'"
   ]
  },
  {
   "cell_type": "code",
   "execution_count": 3,
   "metadata": {},
   "outputs": [],
   "source": [
    "##connect to database\n",
    "def connectDB():\n",
    "    try:\n",
    "        db_path = f'{path}{db_name}'\n",
    "        cnx = db.connect(database=db_path)\n",
    "    except Exception as cnxError:\n",
    "        raise UserWarning(f'Unable to connect to database due to: {cnxError}')\n",
    "    return cnx"
   ]
  },
  {
   "cell_type": "code",
   "execution_count": 4,
   "metadata": {},
   "outputs": [],
   "source": [
    "##TODO #99 replace the update latestUpdate in the function with a trigger in the database\n",
    "class notInTable(ValueError):\n",
    "    def __init__(self,locId,message=\"given locId cannot be found in table Hotspots\"):\n",
    "        self.locId = locId\n",
    "        self.message = message\n",
    "        super().__init__(self.message)\n",
    "    def __str__(self):\n",
    "        return f'{self.locId} >> {self.message}'\n"
   ]
  },
  {
   "cell_type": "code",
   "execution_count": 5,
   "metadata": {},
   "outputs": [],
   "source": [
    "class emptyReturn(TypeError):\n",
    "    \n",
    "    def check_speciesCode(self,speciesCode: str,cnx):\n",
    "        cursor = cnx.cursor()\n",
    "        checkQuery = \"\"\"SELECT EXISTS(SELECT ? FROM historicObservations WHERE speciesCode = ?);\"\"\"\n",
    "        checkTuple = (speciesCode,speciesCode)\n",
    "        checkResult = cursor.execute(checkQuery,checkTuple).fetchone()[0]\n",
    "        if checkResult == 0:\n",
    "            message = f\"{speciesCode}: the given species code is not in the database\"\n",
    "        else:\n",
    "            message = \"no values have been returned by the query\"\n",
    "        return message\n",
    "    def __init__(self,speciesCode,cnx):\n",
    "        self.speciesCode = speciesCode\n",
    "        self.cnx = cnx\n",
    "        self.message = self.check_speciesCode(speciesCode=speciesCode,cnx=cnx)\n",
    "        super().__init__(self.message)\n",
    "    def __str__(self):\n",
    "        return f'{self.check_speciesCode}'  "
   ]
  },
  {
   "cell_type": "code",
   "execution_count": 6,
   "metadata": {},
   "outputs": [],
   "source": [
    "def post_hotspotHabitat(locId: str,label: int,cnx=connectDB()):\n",
    "    try:\n",
    "        cursor = cnx.cursor()\n",
    "    #validate\n",
    "        validate_query = \"SELECT EXISTS(SELECT ? FROM Hotspots WHERE locId = ?)\"\n",
    "        validate_tuple = (locId,locId)\n",
    "        cursor.execute(validate_query,validate_tuple)\n",
    "        validate = cursor.fetchone()[0]\n",
    "        if validate == 0:\n",
    "            raise notInTable(locId)\n",
    "        else:\n",
    "            updateLabel_script = \"UPDATE Hotspots SET habitatLabel = ?, latestUpdate = ? WHERE locId = ?;\"\n",
    "            updatelabel_tuple = (label,str(dt.datetime.today()),locId)\n",
    "            cursor.execute(updateLabel_script,updatelabel_tuple)\n",
    "            cnx.commit()\n",
    "            cursor.close()\n",
    "    except ValueError as vxf:\n",
    "        raise vxf\n",
    "    except Exception as ex:\n",
    "        raise ex\n",
    "    return locId"
   ]
  },
  {
   "cell_type": "code",
   "execution_count": 7,
   "metadata": {},
   "outputs": [],
   "source": [
    "#derive habitat cluster labels from FAO values using k-means\n",
    "def kmeans_habitat(distinctHabitats: int,cnx= connectDB()):\n",
    "    try:\n",
    "        data = pd.read_sql(sql='SELECT * FROM FAO_by_locId;',con=cnx)\n",
    "        data = data.drop(columns=['locName']).set_index('locId')\n",
    "        data.fillna(0,inplace=True)\n",
    "    #normalize\n",
    "        maxValue = data.apply(max,axis=1)\n",
    "        data = data.apply(lambda x: (x/maxValue[x.index]),axis=0)   #min-max normalizing to smooth in proportionality\n",
    "    #compute kmeans for each locId\n",
    "        habitat_kmeans = KMeans(n_clusters=distinctHabitats,init='k-means++')\n",
    "        habitat_kmeans = habitat_kmeans.fit(data.values)\n",
    "        clusterLabels = habitat_kmeans.labels_\n",
    "        centerPoints = habitat_kmeans.cluster_centers_\n",
    "    #define habitats\n",
    "        habitatFrame = pd.DataFrame(data=clusterLabels,columns=['clusterLabel'],index=data.index).sort_values(by='clusterLabel').reset_index()\n",
    "        #habitatFrame = pd.merge(left=habitatFrame,left_on='locId',right=data,right_on='locId',how='left')\n",
    "    except Exception as kmeansExc:\n",
    "        raise kmeansExc\n",
    "    return habitatFrame,centerPoints"
   ]
  },
  {
   "cell_type": "markdown",
   "metadata": {},
   "source": [
    "Identifying residents of habitats: per Cornell"
   ]
  },
  {
   "cell_type": "code",
   "execution_count": 24,
   "metadata": {},
   "outputs": [],
   "source": [
    "##TODO #100 write a function to test for seasonal preference with a scaling lead-lag scope dependent on volume of observations available\n",
    "def calc_selectionRatio(speciesCode: str,habitatLabel: int,con = connectDB()):\n",
    "\ttry:\n",
    "\t\tcursor = con.cursor()\n",
    "\t\tquery = f\"\"\"with habitatAbundance as (\n",
    "\t\tselect\n",
    "\t\t\tdate(obsDt) as \"obsDt\",\n",
    "\t\t\t(strftime('%Y',obsDt)||'-'||strftime('%W',obsDt)) as \"year_week\",\n",
    "\t\t\tround(avg(howMany),3) as \"habitatVolume\",\n",
    "\t\t\t(total(round(avg(howMany),3)) over(partition by strftime('%Y',obsDt)||'-'||strftime('%W',obsDt))) as \"volume_allHabitats\",\n",
    "\t\t\t(avg(howMany) over(PARTITION BY strftime('%Y',obsDt))) as \"annualAvgAbd\",\n",
    "\t\t\thabitatLabel \n",
    "\t\tfrom historicObservations as hsob\n",
    "\t\tleft join (select locId,habitatLabel from Hotspots) as \"labels\" on hsob.locId=labels.locId\n",
    "\t\twhere speciesCode = '{speciesCode}'\n",
    "\t\tgroup by year_week,habitatLabel\n",
    "\t\t)\n",
    "\t\tselect obsDt,year_week,\n",
    "\t\thabitatLabel,\n",
    "\t\t--selection ratio as a function of weekly observations\n",
    "\t\tround((habitatVolume/volume_allHabitats),3) as \"weekly_selectionRatio\",\n",
    "\t\t--selection ratio as a function of the annual relative abundance\n",
    "\t\tround((habitatVolume/annualAvgAbd),3) as \"annual_selectionRatio\"\n",
    "\t\tfrom habitatAbundance\n",
    "\t\twhere habitatLabel = {habitatLabel}\n",
    "\t\torder by obsDt asc\n",
    "\t\t;\"\"\"\n",
    "\t\tvalidate = cursor.execute(query).fetchone()\n",
    "\t\tif validate is None:\n",
    "\t\t\traise emptyReturn(speciesCode=speciesCode,cnx=con)\n",
    "\t\telse:\n",
    "\t\t\thabitatAbd = pd.read_sql(sql=query,con=con,parse_dates='obsDt')\n",
    "\texcept Exception as ex:\n",
    "\t\traise ex\n",
    "\treturn habitatAbd"
   ]
  },
  {
   "cell_type": "code",
   "execution_count": 26,
   "metadata": {},
   "outputs": [],
   "source": [
    "habSel = calc_selectionRatio(speciesCode='westan',habitatLabel=2)"
   ]
  },
  {
   "cell_type": "code",
   "execution_count": 31,
   "metadata": {},
   "outputs": [
    {
     "data": {
      "image/png": "[encoded data removed]",
      "text/plain": [
       "<Figure size 432x288 with 2 Axes>"
      ]
     },
     "metadata": {},
     "output_type": "display_data"
    }
   ],
   "source": [
    "ay = habSel.plot(x='obsDt',y='weekly_selectionRatio',legend=False)\n",
    "ay2 = ay.twinx()\n",
    "habSel.plot(x='obsDt',y='annual_selectionRatio',ax=ay2,legend=False,color='r')\n",
    "ay.figure.legend()\n",
    "plt.show()"
   ]
  },
  {
   "cell_type": "code",
   "execution_count": 50,
   "metadata": {},
   "outputs": [],
   "source": [
    "def build_datebase(speciesCode,con = connectDB()):\n",
    "    try:\n",
    "        cursor = con.cursor()\n",
    "        minDateQuery = f\"\"\"select date(obsDt) as \"startDate\" from historicObservations group by speciesCode having obsDt=min(obsDt) and speciesCode = '{speciesCode}';\"\"\"\n",
    "        maxDateQuery = f\"\"\"select date(obsDt) as \"stopDate\" from historicObservations group by speciesCode having obsDt=max(obsDt) and speciesCode = '{speciesCode}';\"\"\"\n",
    "        validate = cursor.execute(minDateQuery).fetchone()\n",
    "        if validate is None:\n",
    "            raise emptyReturn(speciesCode=speciesCode,cnx=con)\n",
    "        else:\n",
    "            minDate = cursor.execute(minDateQuery).fetchone()[0]\n",
    "            minDate = dt.datetime.strptime(minDate,'%Y-%m-%d')\n",
    "            minDate = minDate + pd.offsets.Week(-5)\n",
    "            maxDate = cursor.execute(maxDateQuery).fetchone()[0]\n",
    "            maxDate = dt.datetime.strptime(maxDate,'%Y-%m-%d')\n",
    "            maxDate = maxDate + pd.offsets.Week(5)\n",
    "            datebase = []\n",
    "            for i in pd.date_range(start=minDate,end=maxDate,freq='W',name='dates'):\n",
    "                datebase.append(i)\n",
    "    except Exception as ex:\n",
    "        raise ex\n",
    "    return pd.Series(datebase)"
   ]
  },
  {
   "cell_type": "code",
   "execution_count": 51,
   "metadata": {},
   "outputs": [
    {
     "data": {
      "text/plain": [
       "0     2019-04-07\n",
       "1     2019-04-14\n",
       "2     2019-04-21\n",
       "3     2019-04-28\n",
       "4     2019-05-05\n",
       "         ...    \n",
       "121   2021-08-01\n",
       "122   2021-08-08\n",
       "123   2021-08-15\n",
       "124   2021-08-22\n",
       "125   2021-08-29\n",
       "Length: 126, dtype: datetime64[ns]"
      ]
     },
     "execution_count": 51,
     "metadata": {},
     "output_type": "execute_result"
    }
   ],
   "source": [
    "dates = build_datebase(speciesCode='westan')\n",
    "dates"
   ]
  },
  {
   "cell_type": "code",
   "execution_count": 12,
   "metadata": {},
   "outputs": [],
   "source": [
    "#standardize and prepare fpar, lai data\n",
    "def calc_FparLai(habitatLabel: int,cnx=connectDB()):\n",
    "\ttry:\n",
    "\t\tfpar_and_lai_query = f\"\"\"WITH \"fparLaiSummary\" as (\n",
    "SELECT\n",
    "\tfpar.Date as \"readingDate\",\n",
    "\tfpar.Mean as \"fparMean\",\n",
    "\t(lead(fpar.Mean,1) over(order by fpar.locId desc,fpar.\"Date\" asc)) as \"fparLead\",\n",
    "\t(lead(fpar.Mean,2) over(order by fpar.locId desc,fpar.\"Date\" asc)) as \"fparLead2\",\n",
    "\t(lag(fpar.Mean,1) over(order by fpar.locId desc,fpar.\"Date\" asc)) as \"fparLag\",\n",
    "\t(lag(fpar.Mean,2) over(order by fpar.locId desc,fpar.\"Date\" asc)) as \"fparLag2\",\n",
    "\tlaiMean,\n",
    "\tlaiLead,\n",
    "\tlaiLead2,\n",
    "\tlaiLag,\n",
    "\tlaiLag2,\n",
    "\tgoodReads,\n",
    "\tbadReads,\n",
    "\tdeadPixels,\n",
    "\tfpar.locId as \"locId\",\n",
    "\t(select habitatLabel from Hotspots where Hotspots.locId=fpar.locId) as \"habitatLabel\"\n",
    "from \"MOD15A2H-006-Statistics.csv_MODIS_cooking\" as fpar\n",
    "left join\n",
    "\t(select\n",
    "\t\tleafArea.locId as \"lai_locId\",\n",
    "\t\tleafArea.\"Date\" as \"lai_date\",\n",
    "\t\tCASE WHEN leafArea.Mean = 0.0 THEN leafArea.Mean+0.1 ELSE leafArea.Mean END as \"laiMean\",\n",
    "\t\t(lead(leafArea.Mean,1) over(order by leafArea.locId desc,leafArea.\"Date\" asc)) as \"laiLead\",\n",
    "\t\t(lead(leafArea.Mean,2) over(order by leafArea.locId desc,leafArea.\"Date\" asc)) as \"laiLead2\",\n",
    "\t\t(lag(leafArea.Mean,1) over(order by leafArea.locId desc,leafArea.\"Date\" asc)) as \"laiLag\",\n",
    "\t\t(lag(leafArea.Mean,2) over(order by leafArea.locId desc,leafArea.\"Date\" asc)) as \"laiLag2\"\n",
    "\tfrom \"MOD15A2H-006-Statistics.csv_MODIS_cooking\" as leafArea where leafArea.Dataset = 'Lai_500m' order by leafArea.locId desc,leafArea.\"Date\" asc) \n",
    "as lai on lai.lai_locId = fpar.locId and lai.lai_date = fpar.Date\n",
    "left join\n",
    "\t(select qaqc.locId as \"qa_locId\",qaqc.\"Date\" as \"qa_date\",qaqc.goodReads,qaqc.badReads,qaqc.\"157\" as \"deadPixels\"\n",
    "\tfrom \"MOD15A2H-006-FparLai-QC-Statistics-QA.csv_MODIS_cooking\" as qaqc)\n",
    "as qa on qa.qa_locId=fpar.locId AND qa.qa_date=fpar.Date\n",
    "where fpar.Dataset = 'Fpar_500m'\n",
    "and readingDate not like '19%'\n",
    "order by fpar.locId desc,readingDate asc\n",
    ")\n",
    "select\n",
    "\treadingDate,\n",
    "\tlocId,\n",
    "\thabitatLabel,\n",
    "\tgoodReads,\n",
    "\tbadReads,\n",
    "\tCASE WHEN \n",
    "\t\tlaiMean-laiLead >=3 AND laiMean-laiLag >=3 THEN ((laiLead+laiLead2+laiLag2+laiLag)/4)\n",
    "\t\twhen deadPixels >= goodReads and ((laiLead+laiLag)/2)!= 0 then ((laiLead+laiLead2+laiLag2+laiLag)/4)\n",
    "\t\twhen badReads >=goodReads THEN ((laiLead+laiLead2+laiLag2+laiLag)/4)\n",
    "\t\twhen laiMean = 0 then ((laiLead+laiLead2+laiLag2+laiLag)/4)\n",
    "\t\telse laiMean end as \"adj_laiMean\",\n",
    "\tCASE WHEN\n",
    "\t\tfparMean-fparLead >=0.3 AND fparMean-fparLag >=0.3 THEN ((fparLead+fparLead2+fparLag2+fparLag)/4)\n",
    "\t\twhen deadPixels >= goodReads and ((fparLead+fparLag)/2)!=0 then ((fparLead+fparLead2+fparLag2+fparLag)/4)\n",
    "\t\twhen badReads >= goodReads THEN ((fparLead+fparLead2+fparLag2+fparLag)/4)\n",
    "\t\twhen fparMean = 0 then ((fparLead+fparLead2+fparLag2+fparLag)/4)\n",
    "\t\telse fparMean end as \"adj_fparMean\"\n",
    "from fparLaiSummary\n",
    "where habitatLabel = {habitatLabel}\n",
    ";\"\"\"\n",
    "\t\tfparLai = pd.read_sql(sql=fpar_and_lai_query,con=cnx,parse_dates='readingDate')\n",
    "\t\n",
    "\t\tfparLai['adj_laiMean'] = stats.boxcox(fparLai['adj_laiMean'])[0]\n",
    "\t\tfparLai['adj_fparMean'] = stats.boxcox(fparLai['adj_fparMean'])[0]\n",
    "\t#summarize\n",
    "\t\thabitat_fparLai = fparLai[['readingDate','adj_fparMean','adj_laiMean']]\n",
    "\t\thabitat_fparLai = habitat_fparLai.groupby('readingDate',as_index=False).mean()\n",
    "\texcept Exception as ex:\n",
    "\t\traise ex\n",
    "\treturn habitat_fparLai"
   ]
  },
  {
   "cell_type": "code",
   "execution_count": 13,
   "metadata": {},
   "outputs": [],
   "source": [
    "fparLai = calc_FparLai(habitatLabel=2)"
   ]
  },
  {
   "cell_type": "code",
   "execution_count": 16,
   "metadata": {},
   "outputs": [
    {
     "data": {
      "text/html": [
       "<div>\n",
       "<style scoped>\n",
       "    .dataframe tbody tr th:only-of-type {\n",
       "        vertical-align: middle;\n",
       "    }\n",
       "\n",
       "    .dataframe tbody tr th {\n",
       "        vertical-align: top;\n",
       "    }\n",
       "\n",
       "    .dataframe thead th {\n",
       "        text-align: right;\n",
       "    }\n",
       "</style>\n",
       "<table border=\"1\" class=\"dataframe\">\n",
       "  <thead>\n",
       "    <tr style=\"text-align: right;\">\n",
       "      <th></th>\n",
       "      <th>readingDate</th>\n",
       "      <th>adj_fparMean</th>\n",
       "      <th>adj_laiMean</th>\n",
       "    </tr>\n",
       "  </thead>\n",
       "  <tbody>\n",
       "    <tr>\n",
       "      <th>0</th>\n",
       "      <td>2018-12-27</td>\n",
       "      <td>-0.402428</td>\n",
       "      <td>0.900110</td>\n",
       "    </tr>\n",
       "    <tr>\n",
       "      <th>1</th>\n",
       "      <td>2019-01-01</td>\n",
       "      <td>-0.547526</td>\n",
       "      <td>-0.013169</td>\n",
       "    </tr>\n",
       "    <tr>\n",
       "      <th>2</th>\n",
       "      <td>2019-01-09</td>\n",
       "      <td>-0.454943</td>\n",
       "      <td>0.476123</td>\n",
       "    </tr>\n",
       "    <tr>\n",
       "      <th>3</th>\n",
       "      <td>2019-01-17</td>\n",
       "      <td>-0.442968</td>\n",
       "      <td>0.450236</td>\n",
       "    </tr>\n",
       "    <tr>\n",
       "      <th>4</th>\n",
       "      <td>2019-01-25</td>\n",
       "      <td>-0.497896</td>\n",
       "      <td>-0.318011</td>\n",
       "    </tr>\n",
       "    <tr>\n",
       "      <th>...</th>\n",
       "      <td>...</td>\n",
       "      <td>...</td>\n",
       "      <td>...</td>\n",
       "    </tr>\n",
       "    <tr>\n",
       "      <th>134</th>\n",
       "      <td>2021-11-25</td>\n",
       "      <td>-0.492995</td>\n",
       "      <td>0.000051</td>\n",
       "    </tr>\n",
       "    <tr>\n",
       "      <th>135</th>\n",
       "      <td>2021-12-03</td>\n",
       "      <td>-0.447943</td>\n",
       "      <td>0.703693</td>\n",
       "    </tr>\n",
       "    <tr>\n",
       "      <th>136</th>\n",
       "      <td>2021-12-11</td>\n",
       "      <td>-0.585401</td>\n",
       "      <td>0.244326</td>\n",
       "    </tr>\n",
       "    <tr>\n",
       "      <th>137</th>\n",
       "      <td>2021-12-19</td>\n",
       "      <td>-0.516806</td>\n",
       "      <td>0.419904</td>\n",
       "    </tr>\n",
       "    <tr>\n",
       "      <th>138</th>\n",
       "      <td>2021-12-27</td>\n",
       "      <td>-0.254813</td>\n",
       "      <td>1.562127</td>\n",
       "    </tr>\n",
       "  </tbody>\n",
       "</table>\n",
       "<p>139 rows × 3 columns</p>\n",
       "</div>"
      ],
      "text/plain": [
       "    readingDate  adj_fparMean  adj_laiMean\n",
       "0    2018-12-27     -0.402428     0.900110\n",
       "1    2019-01-01     -0.547526    -0.013169\n",
       "2    2019-01-09     -0.454943     0.476123\n",
       "3    2019-01-17     -0.442968     0.450236\n",
       "4    2019-01-25     -0.497896    -0.318011\n",
       "..          ...           ...          ...\n",
       "134  2021-11-25     -0.492995     0.000051\n",
       "135  2021-12-03     -0.447943     0.703693\n",
       "136  2021-12-11     -0.585401     0.244326\n",
       "137  2021-12-19     -0.516806     0.419904\n",
       "138  2021-12-27     -0.254813     1.562127\n",
       "\n",
       "[139 rows x 3 columns]"
      ]
     },
     "execution_count": 16,
     "metadata": {},
     "output_type": "execute_result"
    }
   ],
   "source": [
    "fparLai"
   ]
  },
  {
   "cell_type": "code",
   "execution_count": 15,
   "metadata": {},
   "outputs": [
    {
     "data": {
      "image/png": "[encoded data removed]",
      "text/plain": [
       "<Figure size 432x288 with 2 Axes>"
      ]
     },
     "metadata": {},
     "output_type": "display_data"
    }
   ],
   "source": [
    "ax = fparLai.plot(x='readingDate',y='adj_fparMean',legend=False)\n",
    "ax2 = ax.twinx()\n",
    "fparLai.plot(x='readingDate',y='adj_laiMean',ax=ax2,legend=False,color='r')\n",
    "ax.figure.legend()\n",
    "plt.show()"
   ]
  }
 ],
 "metadata": {
  "interpreter": {
   "hash": "96d1af5f869624c072d9e03e4f7fcffed44526ca720f1a36a76cd678c41e0e80"
  },
  "kernelspec": {
   "display_name": "Python 3.9.7 ('base')",
   "language": "python",
   "name": "python3"
  },
  "language_info": {
   "codemirror_mode": {
    "name": "ipython",
    "version": 3
   },
   "file_extension": ".py",
   "mimetype": "text/x-python",
   "name": "python",
   "nbconvert_exporter": "python",
   "pygments_lexer": "ipython3",
   "version": "3.9.7"
  },
  "orig_nbformat": 4
 },
 "nbformat": 4,
 "nbformat_minor": 2
}
