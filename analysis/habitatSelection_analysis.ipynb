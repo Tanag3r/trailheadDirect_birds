{
 "cells": [
  {
   "cell_type": "code",
   "execution_count": 1,
   "metadata": {},
   "outputs": [],
   "source": [
    "import pandas as pd\n",
    "import sqlite3 as db\n",
    "import datetime as dt\n",
    "import numpy as np\n",
    "import os.path\n",
    "\n",
    "from scipy import stats\n",
    "from sklearn.metrics import r2_score,explained_variance_score\n",
    "from sklearn.cluster import KMeans\n",
    "from statsmodels.tsa.vector_ar import vecm\n",
    "\n",
    "import matplotlib.pyplot as plt\n",
    "import seaborn as sns\n",
    "sns.set_theme(style='darkgrid')"
   ]
  },
  {
   "cell_type": "markdown",
   "metadata": {},
   "source": [
    "Identifying birds that strongly select for one or more habitats, then analyzing their behavior using a multivariate vector auto-regression"
   ]
  },
  {
   "cell_type": "code",
   "execution_count": 2,
   "metadata": {},
   "outputs": [],
   "source": [
    "github_userName = 'Tanag3r'\n",
    "ebird_token = 'j6c7l80ga2ib'\n",
    "db_name = 'trailheadDirectBirds_sous.db'\n",
    "path = 'c:\\\\Users\\\\lukew\\\\Documents\\\\trailheadDirect_repo\\\\trailheadDirect_birds\\\\'"
   ]
  },
  {
   "cell_type": "code",
   "execution_count": 8,
   "metadata": {},
   "outputs": [],
   "source": [
    "##connect to database\n",
    "def connectDB():\n",
    "    try:\n",
    "        db_path = f'{path}{db_name}'\n",
    "        cnx = db.connect(database=db_path)\n",
    "    except Exception as cnxError:\n",
    "        raise UserWarning(f'Unable to connect to database due to: {cnxError}')\n",
    "    return cnx"
   ]
  },
  {
   "cell_type": "code",
   "execution_count": 5,
   "metadata": {},
   "outputs": [],
   "source": [
    "##TODO #99 replace the update latestUpdate in the function with a trigger in the database\n",
    "class notInTable(ValueError):\n",
    "    def __init__(self,locId,message=\"given locId cannot be found in table Hotspots\"):\n",
    "        self.locId = locId\n",
    "        self.message = message\n",
    "        super().__init__(self.message)\n",
    "    def __str__(self):\n",
    "        return f'{self.locId} >> {self.message}'\n"
   ]
  },
  {
   "cell_type": "code",
   "execution_count": 6,
   "metadata": {},
   "outputs": [],
   "source": [
    "class emptyReturn(TypeError):\n",
    "    \n",
    "    def check_speciesCode(self,speciesCode: str,cnx):\n",
    "        cursor = cnx.cursor()\n",
    "        checkQuery = \"\"\"SELECT EXISTS(SELECT ? FROM historicObservations WHERE speciesCode = ?);\"\"\"\n",
    "        checkTuple = (speciesCode,speciesCode)\n",
    "        checkResult = cursor.execute(checkQuery,checkTuple).fetchone()[0]\n",
    "        if checkResult == 0:\n",
    "            message = f\"{speciesCode}: the given species code is not in the database\"\n",
    "        else:\n",
    "            message = \"no values have been returned by the query\"\n",
    "        return message\n",
    "    def __init__(self,speciesCode,cnx):\n",
    "        self.speciesCode = speciesCode\n",
    "        self.cnx = cnx\n",
    "        self.message = self.check_speciesCode(speciesCode=speciesCode,cnx=cnx)\n",
    "        super().__init__(self.message)\n",
    "    def __str__(self):\n",
    "        return f'{self.check_speciesCode}'  "
   ]
  },
  {
   "cell_type": "code",
   "execution_count": 7,
   "metadata": {},
   "outputs": [],
   "source": [
    "def post_hotspotHabitat(locId: str,label: int,cnx=connectDB()):\n",
    "    try:\n",
    "        cursor = cnx.cursor()\n",
    "    #validate\n",
    "        validate_query = \"SELECT EXISTS(SELECT ? FROM Hotspots WHERE locId = ?)\"\n",
    "        validate_tuple = (locId,locId)\n",
    "        cursor.execute(validate_query,validate_tuple)\n",
    "        validate = cursor.fetchone()[0]\n",
    "        if validate == 0:\n",
    "            raise notInTable(locId)\n",
    "        else:\n",
    "            updateLabel_script = \"UPDATE Hotspots SET habitatLabel = ?, latestUpdate = ? WHERE locId = ?;\"\n",
    "            updatelabel_tuple = (label,str(dt.datetime.today()),locId)\n",
    "            cursor.execute(updateLabel_script,updatelabel_tuple)\n",
    "            cnx.commit()\n",
    "            cursor.close()\n",
    "    except ValueError as vxf:\n",
    "        raise vxf\n",
    "    except Exception as ex:\n",
    "        raise ex\n",
    "    return locId"
   ]
  },
  {
   "cell_type": "code",
   "execution_count": 8,
   "metadata": {},
   "outputs": [],
   "source": [
    "#derive habitat cluster labels from FAO values using k-means\n",
    "def kmeans_habitat(distinctHabitats: int,cnx= connectDB()):\n",
    "    try:\n",
    "        data = pd.read_sql(sql='SELECT * FROM FAO_by_locId;',con=cnx)\n",
    "        data = data.drop(columns=['locName']).set_index('locId')\n",
    "        data.fillna(0,inplace=True)\n",
    "    #normalize\n",
    "        maxValue = data.apply(max,axis=1)\n",
    "        data = data.apply(lambda x: (x/maxValue[x.index]),axis=0)   #min-max normalizing to smooth in proportionality\n",
    "    #compute kmeans for each locId\n",
    "        habitat_kmeans = KMeans(n_clusters=distinctHabitats,init='k-means++')\n",
    "        habitat_kmeans = habitat_kmeans.fit(data.values)\n",
    "        clusterLabels = habitat_kmeans.labels_\n",
    "        centerPoints = habitat_kmeans.cluster_centers_\n",
    "    #define habitats\n",
    "        habitatFrame = pd.DataFrame(data=clusterLabels,columns=['clusterLabel'],index=data.index).sort_values(by='clusterLabel').reset_index()\n",
    "        #habitatFrame = pd.merge(left=habitatFrame,left_on='locId',right=data,right_on='locId',how='left')\n",
    "    except Exception as kmeansExc:\n",
    "        raise kmeansExc\n",
    "    return habitatFrame,centerPoints"
   ]
  },
  {
   "cell_type": "markdown",
   "metadata": {},
   "source": [
    "Identifying residents of habitats: per Cornell"
   ]
  },
  {
   "cell_type": "code",
   "execution_count": 122,
   "metadata": {},
   "outputs": [],
   "source": [
    "##TODO #100 write a function to test for seasonal preference with a scaling lead-lag scope dependent on volume of observations available\n",
    "query = f\"\"\"with habitatAbundance as (\n",
    "select\n",
    "\t(strftime('%Y',obsDt)||'-'||strftime('%W',obsDt)) as \"year_week\",\n",
    "\tround(avg(howMany),0) as \"habitatVolume\",\n",
    "\t(total(round(avg(howMany),0)) over(partition by strftime('%Y',obsDt)||'-'||strftime('%W',obsDt))) as \"volume_allHabitats\",\n",
    "\thabitatLabel \n",
    "from historicObservations as hsob\n",
    "left join (select locId,habitatLabel from Hotspots) as \"labels\" on hsob.locId=labels.locId\n",
    "where speciesCode = '{speciesCode}'\n",
    "group by year_week,habitatLabel\n",
    ")\n",
    "select year_week,round((habitatVolume/volume_allHabitats),2) as \"selectionRatio_{i}\"\n",
    "from habitatAbundance\n",
    "where habitatLabel = {i}\n",
    ";\"\"\""
   ]
  },
  {
   "cell_type": "code",
   "execution_count": 9,
   "metadata": {},
   "outputs": [],
   "source": [
    "def build_datebase(speciesCode,con = connectDB()):\n",
    "    try:\n",
    "        cursor = con.cursor()\n",
    "        minDateQuery = f\"\"\"select date(obsDt) as \"startDate\" from historicObservations group by speciesCode having obsDt=min(obsDt) and speciesCode = '{speciesCode}';\"\"\"\n",
    "        maxDateQuery = f\"\"\"select date(obsDt) as \"stopDate\" from historicObservations group by speciesCode having obsDt=max(obsDt) and speciesCode = '{speciesCode}';\"\"\"\n",
    "        validate = cursor.execute(minDateQuery).fetchone()\n",
    "        if validate is None:\n",
    "            raise emptyReturn(speciesCode=speciesCode,cnx=con)\n",
    "        else:\n",
    "            minDate = cursor.execute(minDateQuery).fetchone()[0]\n",
    "            maxDate = cursor.execute(maxDateQuery).fetchone()[0]\n",
    "            datebase = []\n",
    "            for i in pd.date_range(start=minDate,end=maxDate,freq='D',name='dates'):\n",
    "                datebase.append(i)\n",
    "    except Exception as ex:\n",
    "        raise ex\n",
    "    return datebase"
   ]
  },
  {
   "cell_type": "code",
   "execution_count": 43,
   "metadata": {},
   "outputs": [],
   "source": [
    "#standardize and prepare fpar, lai data\n",
    "def standardize_FparLai(habitatLabel: int,cnx=connectDB()):\n",
    "\ttry:\n",
    "\t\tfpar_and_lai_query = f\"\"\"WITH \"fparLaiSummary\" as (\n",
    "SELECT\n",
    "\tfpar.Date as \"readingDate\",\n",
    "\tfpar.Mean as \"fparMean\",\n",
    "\t(lead(fpar.Mean,1) over(order by fpar.locId desc,fpar.\"Date\" asc)) as \"fparLead\",\n",
    "\t(lag(fpar.Mean,1) over(order by fpar.locId desc,fpar.\"Date\" asc)) as \"fparLag\",\n",
    "\tlaiMean,\n",
    "\tlaiLead,\n",
    "\tlaiLag,\n",
    "\tgoodReads,\n",
    "\tbadReads,\n",
    "\tdeadPixels,\n",
    "\tfpar.locId as \"locId\",\n",
    "\t(select habitatLabel from Hotspots where Hotspots.locId=fpar.locId) as \"habitatLabel\"\n",
    "from \"MOD15A2H-006-Statistics.csv_MODIS_cooking\" as fpar\n",
    "left join\n",
    "\t(select\n",
    "\t\tleafArea.locId as \"lai_locId\",\n",
    "\t\tleafArea.\"Date\" as \"lai_date\",\n",
    "\t\tCASE WHEN leafArea.Mean <= 0 THEN 0.1 ELSE leafArea.Mean END as \"laiMean\",\n",
    "\t\t(lead(leafArea.Mean,1) over(order by leafArea.locId desc,leafArea.\"Date\" asc)) as \"laiLead\",\n",
    "\t\t(lag(leafArea.Mean,1) over(order by leafArea.locId desc,leafArea.\"Date\" asc)) as \"laiLag\"\n",
    "\tfrom \"MOD15A2H-006-Statistics.csv_MODIS_cooking\" as leafArea where leafArea.Dataset = 'Lai_500m' order by leafArea.locId desc,leafArea.\"Date\" asc) \n",
    "as lai on lai.lai_locId = fpar.locId and lai.lai_date = fpar.Date\n",
    "left join\n",
    "\t(select qaqc.locId as \"qa_locId\",qaqc.\"Date\" as \"qa_date\",qaqc.goodReads,qaqc.badReads,qaqc.\"157\" as \"deadPixels\"\n",
    "\tfrom \"MOD15A2H-006-FparLai-QC-Statistics-QA.csv_MODIS_cooking\" as qaqc)\n",
    "as qa on qa.qa_locId=fpar.locId AND qa.qa_date=fpar.Date\n",
    "where fpar.Dataset = 'Fpar_500m'\n",
    "and readingDate not like '19%'\n",
    "order by fpar.locId desc,readingDate asc\n",
    ")\n",
    "select\n",
    "\treadingDate,\n",
    "\tlocId,\n",
    "\thabitatLabel,\n",
    "\tCASE WHEN \n",
    "\t\tlaiMean-laiLead >=3 AND laiMean-laiLag >=3 THEN ((laiLead+laiLag)/2)\n",
    "\t\twhen deadPixels >= goodReads and ((laiLead+laiLag)/2)!=0 then ((laiLead+laiLag)/2)\n",
    "\t\twhen laiMean == 0.0 then ((laiLead+laiLag)/2)\n",
    "\t\telse LaiMean end as \"laiMean\",\n",
    "\tCASE WHEN\n",
    "\t\tfparMean-fparLead >=0.3 AND fparMean-fparLag >=0.3 THEN ((fparLead+fparLag)/2)\n",
    "\t\twhen deadPixels >= goodReads and ((fparLead+fparLag)/2)!= 0 then ((fparLead+fparLag)/2)\n",
    "\t\twhen fparMean == 0.0 then ((fparLead+fparLag)/2)\n",
    "\t\telse fparMean end as \"fparMean\"\n",
    "from fparLaiSummary\n",
    "where habitatLabel = {habitatLabel}\n",
    ";\"\"\"\n",
    "\t\tfparLai = pd.read_sql(sql=fpar_and_lai_query,con=cnx,parse_dates='readingDate')\n",
    "\t\n",
    "\t\tfparLai['laiMean'] = stats.boxcox(fparLai['laiMean'])[0]\n",
    "\t\tfparLai['fparMean'] = stats.boxcox(fparLai['fparMean'])[0]\n",
    "\t#summarize\n",
    "\t\thabitat_fparLai = fparLai[['readingDate','fparMean','laiMean']]\n",
    "\t\thabitat_fparLai = habitat_fparLai.groupby('readingDate',as_index=False).mean()\n",
    "\texcept Exception as ex:\n",
    "\t\traise ex\n",
    "\treturn habitat_fparLai"
   ]
  },
  {
   "cell_type": "code",
   "execution_count": 44,
   "metadata": {},
   "outputs": [],
   "source": [
    "fparLai = standardize_FparLai(habitatLabel=2)"
   ]
  },
  {
   "cell_type": "code",
   "execution_count": 45,
   "metadata": {},
   "outputs": [
    {
     "data": {
      "image/png": "[encoded data removed]",
      "text/plain": [
       "<Figure size 432x288 with 2 Axes>"
      ]
     },
     "metadata": {},
     "output_type": "display_data"
    }
   ],
   "source": [
    "ax = fparLai.plot(x='readingDate',y='fparMean',legend=False)\n",
    "ax2 = ax.twinx()\n",
    "fparLai.plot(x='readingDate',y='laiMean',ax=ax2,legend=False,color='r')\n",
    "ax.figure.legend()\n",
    "plt.show()"
   ]
  }
 ],
 "metadata": {
  "interpreter": {
   "hash": "96d1af5f869624c072d9e03e4f7fcffed44526ca720f1a36a76cd678c41e0e80"
  },
  "kernelspec": {
   "display_name": "Python 3.9.7 ('base')",
   "language": "python",
   "name": "python3"
  },
  "language_info": {
   "codemirror_mode": {
    "name": "ipython",
    "version": 3
   },
   "file_extension": ".py",
   "mimetype": "text/x-python",
   "name": "python",
   "nbconvert_exporter": "python",
   "pygments_lexer": "ipython3",
   "version": "3.9.7"
  },
  "orig_nbformat": 4
 },
 "nbformat": 4,
 "nbformat_minor": 2
}
